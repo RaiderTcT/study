{
 "metadata": {
  "language_info": {
   "codemirror_mode": {
    "name": "ipython",
    "version": 3
   },
   "file_extension": ".py",
   "mimetype": "text/x-python",
   "name": "python",
   "nbconvert_exporter": "python",
   "pygments_lexer": "ipython3",
   "version": "3.7.6-final"
  },
  "orig_nbformat": 2,
  "kernelspec": {
   "name": "python_defaultSpec_1600045298916",
   "display_name": "Python 3.7.6 64-bit ('base': conda)"
  }
 },
 "nbformat": 4,
 "nbformat_minor": 2,
 "cells": [
  {
   "cell_type": "markdown",
   "metadata": {},
   "source": [
    "# 命令模式"
   ]
  },
  {
   "cell_type": "code",
   "execution_count": null,
   "metadata": {},
   "outputs": [],
   "source": [
    "设置行号 \n",
    "\n",
    ":set nu\n",
    "\n",
    "取消行号\n",
    "\n",
    ":set nonu"
   ]
  },
  {
   "cell_type": "code",
   "execution_count": null,
   "metadata": {},
   "outputs": [],
   "source": [
    "删除  \n",
    "del\n",
    "\n",
    "恢复\n",
    "u"
   ]
  },
  {
   "cell_type": "markdown",
   "metadata": {},
   "source": [
    "# 输入模式\n",
    "\n",
    "- i/I : 当前光标后/第一个非空字符\n",
    "- a/A : 当前字符后/最后一个字符\n",
    "- o/O : 当前行后/前插入新行"
   ]
  },
  {
   "cell_type": "markdown",
   "metadata": {},
   "source": [
    "# 技巧"
   ]
  },
  {
   "cell_type": "markdown",
   "metadata": {},
   "source": [
    "插入时间\n",
    "\n",
    ":r !date  "
   ]
  },
  {
   "cell_type": "code",
   "execution_count": null,
   "metadata": {},
   "outputs": [],
   "source": [
    "定义 快捷键\n",
    "\n",
    "ctrl+v+p\n",
    "\n",
    "插入注释\n",
    ":map ^P I#<ESC>\n",
    "\n",
    "删除注释\n",
    ":map ^B 0x"
   ]
  },
  {
   "cell_type": "code",
   "execution_count": null,
   "metadata": {},
   "outputs": [],
   "source": [
    "插入邮箱\n",
    "\n",
    ":map ^H oulysses1171@163.com"
   ]
  },
  {
   "cell_type": "code",
   "execution_count": 1,
   "metadata": {},
   "outputs": [
    {
     "output_type": "error",
     "ename": "SyntaxError",
     "evalue": "invalid syntax (<ipython-input-1-34e35e81f9a9>, line 2)",
     "traceback": [
      "\u001b[0;36m  File \u001b[0;32m\"<ipython-input-1-34e35e81f9a9>\"\u001b[0;36m, line \u001b[0;32m2\u001b[0m\n\u001b[0;31m    ^ 行首\u001b[0m\n\u001b[0m    ^\u001b[0m\n\u001b[0;31mSyntaxError\u001b[0m\u001b[0;31m:\u001b[0m invalid syntax\n"
     ]
    }
   ],
   "source": [
    "注释连续行\n",
    "^ 行首\n",
    ":n1,n2s/^/#/g\n",
    "\n",
    "取消注释\n",
    ":n1,n2s/^#//g\n",
    "\n",
    "插入//注释  \\转义\n",
    ":n1,n2s/^/\\/\\//g"
   ]
  },
  {
   "cell_type": "code",
   "execution_count": null,
   "metadata": {},
   "outputs": [],
   "source": [
    "替换\n",
    "\n",
    ":ab mymail ulysses1171@163.com"
   ]
  },
  {
   "cell_type": "markdown",
   "metadata": {},
   "source": [
    "修改配置文件 \n",
    "\n",
    "\n",
    "~/.vimrc"
   ]
  }
 ]
}