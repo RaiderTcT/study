{
 "metadata": {
  "language_info": {
   "codemirror_mode": {
    "name": "ipython",
    "version": 3
   },
   "file_extension": ".py",
   "mimetype": "text/x-python",
   "name": "python",
   "nbconvert_exporter": "python",
   "pygments_lexer": "ipython3",
   "version": "3.7.6-final"
  },
  "orig_nbformat": 2,
  "kernelspec": {
   "name": "python_defaultSpec_1599701599770",
   "display_name": "Python 3.7.6 64-bit ('base': conda)"
  }
 },
 "nbformat": 4,
 "nbformat_minor": 2,
 "cells": [
  {
   "cell_type": "markdown",
   "metadata": {},
   "source": [
    "命令 \\[-选项\\] \\[参数\\]"
   ]
  },
  {
   "cell_type": "code",
   "execution_count": 3,
   "metadata": {
    "tags": []
   },
   "outputs": [
    {
     "output_type": "stream",
     "name": "stdout",
     "text": "总用量 8\ndrwxrwxrwx 1 root root  152 9月   8 19:16 .\ndrwxrwxrwx 1 root root 4096 9月   8 19:16 ..\n-rwxrwxrwx 1 root root  861 9月   8 19:17 常用命令.ipynb\n"
    }
   ],
   "source": [
    "!ls -la"
   ]
  },
  {
   "cell_type": "code",
   "execution_count": 6,
   "metadata": {
    "tags": []
   },
   "outputs": [
    {
     "output_type": "stream",
     "name": "stdout",
     "text": "总用量 8\ndrwxrwxrwx 1 root root  152 9月   8 19:16 .\ndrwxrwxrwx 1 root root 4096 9月   8 19:16 ..\n-rwxrwxrwx 1 root root  861 9月   8 19:17 常用命令.ipynb\n"
    }
   ],
   "source": [
    "!ls --all -l"
   ]
  },
  {
   "cell_type": "code",
   "execution_count": 2,
   "metadata": {
    "tags": []
   },
   "outputs": [
    {
     "output_type": "stream",
     "name": "stdout",
     "text": "7417 常用命令.ipynb\n"
    }
   ],
   "source": [
    "!ls -i\n",
    "# i节点  inode"
   ]
  },
  {
   "cell_type": "code",
   "execution_count": 4,
   "metadata": {},
   "outputs": [],
   "source": [
    "!mkdir -p Japan/Tokyo  Japan/Osaka"
   ]
  },
  {
   "cell_type": "code",
   "execution_count": 6,
   "metadata": {
    "tags": []
   },
   "outputs": [
    {
     "output_type": "stream",
     "name": "stdout",
     "text": "/mnt/data1/workspace/study/linux\n"
    }
   ],
   "source": [
    "!cd  Japan/Tokyo\n",
    "!pwd\n",
    "# print working directory"
   ]
  },
  {
   "cell_type": "code",
   "execution_count": 7,
   "metadata": {},
   "outputs": [],
   "source": [
    "!rmdir Japan/Tokyo\n",
    "# 删除空目录"
   ]
  },
  {
   "cell_type": "code",
   "execution_count": null,
   "metadata": {},
   "outputs": [],
   "source": [
    "!cp [源文件]  [目标目录]"
   ]
  },
  {
   "cell_type": "markdown",
   "metadata": {},
   "source": [
    "-p：保留源文件或目录的属性；\n",
    "\n",
    "-R/r：递归处理，将指定目录下的所有文件与子目录一并处理；\n"
   ]
  },
  {
   "cell_type": "code",
   "execution_count": 9,
   "metadata": {
    "tags": []
   },
   "outputs": [
    {
     "output_type": "stream",
     "name": "stdout",
     "text": "\u001b[;1m# \u001b[0m\u001b[0m\u001b[93mmv\u001b[0m\u001b[37m\n\n用来对文件或目录重新命名\n\n\u001b[;1m## \u001b[0m 补充说明\n\n\u001b[0m\u001b[93mmv\u001b[0m\u001b[37m 命令\n用来对文件或目录重新命名，或者将文件从一个目录移到另一个目录中。source\n表示源文件或目录，target 表示目标文件或目录。如果将一个文件移到一个已经存\n在的目标文件中，则目标文件的内容将被覆盖。\n\n\u001b[0m\u001b[93mmv\u001b[0m\u001b[37m 命令可以用来将源文件移至一个目标文件中，或将一组文件移至一个目标目录中。源\n文件被移至目标文件有两种不同的结果：\n\n- 如果目标文件是到某一目录文件的路径，源文件会被移到此目录下，且文件名不变。\n- 如果目标文件不是目录文件，则源文件名（只能有一个）会变为此目标文件名，并覆盖\n己存在的同名文件。如果源文件和目标文件在同一个目录下，\u001b[0m\u001b[93mmv\u001b[0m\u001b[37m 的作用就是改文件名。\n当目标文件是目录文件时，源文件或目录参数可以有多个，则所有的源文件都会被移至目标\n文件中。所有移到该目录下的文件都将保留以前的文件名。\n\n注意事项：\u001b[0m\u001b[93mmv\u001b[0m\u001b[37m 与 cp 的结果不同，\u001b[0m\u001b[93mmv\u001b[0m\u001b[37m\n好像文件“搬家”，文件个数并未增加。而 cp 对文件进行复制，文件个数增加了。\n\n\u001b[;1m### \u001b[0m 语法\n\n\u001b[0m\u001b[93mmv\u001b[0m\u001b[37m(选项)(参数)\n\n\u001b[;1m### \u001b[0m 选项\n\n--backup=<备份模式>：若需覆盖文件，则覆盖前先行备份；\n-b：当文件存在时，覆盖前，为其创建一个备份；\n-f：若目标文件或目录与现有的文件或目录重复，则直接覆盖现有的文件或目录；\n-i：交互式操作，覆盖前先行询问用户，如果源文件与目标文件或目标目录中的文件同名\n，则询问用户是否覆盖目标文件。用户输入”y”，表示将覆盖目标文件；输入”n”，表\n示取消对源文件的移动。这样可以避免误将文件覆盖。\n--strip-trailing-slashes：删除源文件中的斜杠“/”；\n-S<后缀>：为备份文件指定后缀，而不使用默认的后缀；\n--target-directory=<目录>：指定源文件要移动到目标目录；\n-u：当源文件比目标文件新或者目标文件不存在时，才执行移动操作。\n\n\u001b[;1m### \u001b[0m 参数\n\n- 源文件：源文件列表。\n- 目标文件：如果“目标文件”是文件名则在移动文件的同时，将其改名为“目标文件”\n；如果“目标文件”是目录名则将源文件移动到“目标文件”下。\n\n\u001b[;1m### \u001b[0m 实例\n\n将目录/usr/men 中的所有文件移到当前目录（用.表示）中：\n\n\u001b[0m\u001b[93mmv\u001b[0m\u001b[37m /usr/men/* .\n\n移动文件\n\n\u001b[0m\u001b[93mmv\u001b[0m\u001b[37m file_1.txt /home/office/\n\n移动多个文件\n\n\u001b[0m\u001b[93mmv\u001b[0m\u001b[37m file_2.txt file_3.txt file_4.txt\n/home/office/\n\u001b[0m\u001b[93mmv\u001b[0m\u001b[37m *.txt /home/office/\n\n移动目录\n\n\u001b[0m\u001b[93mmv\u001b[0m\u001b[37m directory_1/ /home/office/\n\n重命名文件或目录\n\n\u001b[0m\u001b[93mmv\u001b[0m\u001b[37m file_1.txt file_2.txt # 将文件\nfile_1.txt 改名为 file_2.txt\n\n重命名目录\n\n\u001b[0m\u001b[93mmv\u001b[0m\u001b[37m directory_1/ directory_2/\n\n打印移动信息\n\n\u001b[0m\u001b[93mmv\u001b[0m\u001b[37m -v *.txt /home/office\n\n提示是否覆盖文件\n\n\u001b[0m\u001b[93mmv\u001b[0m\u001b[37m -i file_1.txt /home/office\n\n源文件比目标文件新时才执行更新\n\n\u001b[0m\u001b[93mmv\u001b[0m\u001b[37m -uv *.txt /home/office\n\n不要覆盖任何已存在的文件\n\n\u001b[0m\u001b[93mmv\u001b[0m\u001b[37m -vn *.txt /home/office\n\n复制时创建备份\n\n\u001b[0m\u001b[93mmv\u001b[0m\u001b[37m -bv *.txt /home/office\n\n无条件覆盖已经存在的文件\n\n\u001b[0m\u001b[93mmv\u001b[0m\u001b[37m -f *.txt /home/office\n\n"
    }
   ],
   "source": [
    "!how mv"
   ]
  },
  {
   "cell_type": "code",
   "execution_count": 8,
   "metadata": {
    "tags": []
   },
   "outputs": [
    {
     "output_type": "stream",
     "name": "stdout",
     "text": "\u001b[;1m# \u001b[0m\u001b[0m\u001b[93mrm\u001b[0m\u001b[37m\n\n用于删除给定的文件和目录\n\n\u001b[;1m## \u001b[0m 补充说明\n\n\u001b[0m\u001b[93mrm\u001b[0m\u001b[37m  命令 可以删除一个目录中的一个或多个文件或目录，也可以将某个目录及其下属\n的所有文件及其子目录均删除掉。对于链接文件，只是删除整个链接文件，而原有文件保持\n不变。\n\n注意：使用 \u001b[0m\u001b[93mrm\u001b[0m\u001b[37m 命令要格外小心。因为一旦删除了一个文件，就无法再恢复它。所以，\n在删除文件之前，最好再看一下文件的内容，确定是否真要删除。\u001b[0m\u001b[93mrm\u001b[0m\u001b[37m 命令可以用-i \n选项，这个选项在使用文件扩展名字符删除多个文件时特别有用。使用这个选项，系统会要\n求你逐一确定是否要删除。这时，必须输入 y 并按 Enter\n键，才能删除文件。如果仅按 Enter 键或其他字符，文件不会被删除。\n\n\u001b[;1m### \u001b[0m 语法\n\n\u001b[0m\u001b[93mrm\u001b[0m\u001b[37m (选项)(参数)\n\n\u001b[;1m### \u001b[0m 选项\n\n-d：直接把欲删除的目录的硬连接数据删除成 0，删除该目录；\n-f：强制删除文件或目录；\n-i：删除已有文件或目录之前先询问用户；\n-r 或-R：递归处理，将指定目录下的所有文件与子目录一并处理；\n--preserve-root：不对根目录进行递归操作；\n-v：显示指令的详细执行过程。\n\n\u001b[;1m### \u001b[0m 参数\n\n文件：指定被删除的文件列表，如果参数中含有目录，则必须加上-r 或者-R 选项。\n\n\u001b[;1m### \u001b[0m 实例\n\n交互式删除当前目录下的文件 test 和 example\n\n\u001b[0m\u001b[93mrm\u001b[0m\u001b[37m -i test example\nRemove test ?n（不删除文件 test)\nRemove example ?y（删除文件 example)\n\n删除当前目录下除隐含文件外的所有文件和子目录\n\n# \u001b[0m\u001b[93mrm\u001b[0m\u001b[37m -r *\n\n应注意，这样做是非常危险的!\n\n\u001b[0m\u001b[93mrm\u001b[0m\u001b[37m 命令删除文件\n\n# \u001b[0m\u001b[93mrm\u001b[0m\u001b[37m 文件 1 文件 2 ...\n\u001b[0m\u001b[93mrm\u001b[0m\u001b[37m testfile.txt\n\n\u001b[0m\u001b[93mrm\u001b[0m\u001b[37m 命令删除目录\n\n> \u001b[0m\u001b[93mrm\u001b[0m\u001b[37m -r [目录名称]-r 表示递归地删除目录下的所有文件和目录。-f\n表示强制删除\n\n\u001b[0m\u001b[93mrm\u001b[0m\u001b[37m -rf testdir\n\u001b[0m\u001b[93mrm\u001b[0m\u001b[37m -r testdir\n\n删除操作前有确认提示\n\n> \u001b[0m\u001b[93mrm\u001b[0m\u001b[37m -i [文件/目录]\n\n\u001b[0m\u001b[93mrm\u001b[0m\u001b[37m -r -i testdir\n\n\u001b[0m\u001b[93mrm\u001b[0m\u001b[37m 忽略不存在的文件或目录\n\n> -f 选项（LCTT 译注：即\n“force”）让此次操作强制执行，忽略错误提示\n\n\u001b[0m\u001b[93mrm\u001b[0m\u001b[37m -f [文件...]\n\n仅在某些场景下确认删除\n\n> 选项 -I，可保证在删除超过 3 个文件时或递归删除时（LCTT 译注：\n如删除目录）仅提示一次确认。\n\n\u001b[0m\u001b[93mrm\u001b[0m\u001b[37m -I file1 file2 file3\n\n删除根目录\n\n> 当然，删除根目录（/）是 Linux 用户最不想要的操作，这也就是为什么默认\n\u001b[0m\u001b[93mrm\u001b[0m\u001b[37m\n命令不支持在根目录上执行递归删除操作。然而，如果你非得完成这个操作，你需要使用\n--no-preserve-root 选项。当提供此选项，\u001b[0m\u001b[93mrm\u001b[0m\u001b[37m\n就不会特殊处理根目录（/）了。\n\n不给实例了，操作系统都被你删除了，你太坏了😆\n\n\u001b[0m\u001b[93mrm\u001b[0m\u001b[37m 显示当前删除操作的详情\n\n\u001b[0m\u001b[93mrm\u001b[0m\u001b[37m -v [文件/目录]\n\n"
    }
   ],
   "source": [
    "!how rm"
   ]
  },
  {
   "cell_type": "code",
   "execution_count": 10,
   "metadata": {
    "tags": []
   },
   "outputs": [
    {
     "output_type": "stream",
     "name": "stdout",
     "text": "\u001b[;1m# \u001b[0m\u001b[0m\u001b[93mtouch\u001b[0m\u001b[37m\n\n创建新的空文件\n\n\u001b[;1m## \u001b[0m 补充说明\n\n\u001b[0m\u001b[93mtouch\u001b[0m\u001b[37m 命令 有两个功能：一是用于把已存在文件的时间标签更新为系统当前的时间\n（默认方式），它们的数据将原封不动地保留下来；二是用来创建新的空文件。\n\n\u001b[;1m### \u001b[0m 语法\n\n\u001b[0m\u001b[93mtouch\u001b[0m\u001b[37m(选项)(参数)\n\n\u001b[;1m### \u001b[0m 选项\n\n-a：或--time=atime 或--time=access 或--\ntime=use  只更改存取时间；\n-c：或--no-create  不建立任何文件；\n-d：<时间日期> 使用指定的日期时间，而非现在的时间；\n-f：此参数将忽略不予处理，仅负责解决 BSD 版本 \u001b[0m\u001b[93mtouch\u001b[0m\u001b[37m\n指令的兼容性问题；\n-m：或--time=mtime 或--time=modify\n只更该变动时间；\n-r：<参考文件或目录>\n把指定文件或目录的日期时间，统统设成和参考文件或目录的日期时间相同；\n-t：<日期时间>  使用指定的日期时间，而非现在的时间；\n--help：在线帮助；\n--version：显示版本信息。\n\n\u001b[;1m### \u001b[0m 参数\n\n文件：指定要设置时间属性的文件列表。\n\n\u001b[;1m### \u001b[0m 实例\n\n\u001b[0m\u001b[93mtouch\u001b[0m\u001b[37m ex2\n\n在当前目录下建立一个空文件 ex2，然后，利用 ls -l 命令可以发现文件\nex2 的大小为 0，表示它是空文件。\n\n"
    }
   ],
   "source": [
    "!how touch"
   ]
  },
  {
   "cell_type": "code",
   "execution_count": 11,
   "metadata": {
    "tags": []
   },
   "outputs": [
    {
     "output_type": "stream",
     "name": "stdout",
     "text": "\u001b[;1m# \u001b[0m\u001b[0m\u001b[93mcat\u001b[0m\u001b[37m\n\n连接多个文件并打印到标准输出。\n\n\u001b[;1m## \u001b[0m 概要\n\n\u001b[0m\u001b[93mcat\u001b[0m\u001b[37m [OPTION]... [FILE]...\n\n\u001b[;1m## \u001b[0m 主要用途\n\n- 显示文件内容，如果没有文件或文件为-则读取标准输入。\n- 将多个文件的内容进行连接并打印到标准输出。\n- 显示文件内容中的不可见字符（控制字符、换行符、制表符等）。\n\n\u001b[;1m## \u001b[0m 参数\n\nFILE（可选）：要处理的文件，可以为一或多个。\n\n\u001b[;1m## \u001b[0m 选项\n\n长选项与短选项等价\n\n-A, --show-all           等价于\"-vET\"组合选项。\n-b, --number-nonblank    只对非空行编号，从 1\n开始编号，覆盖\"-n\"选项。\n-e                       等价于\"-vE\"组合选项。\n-E, --show-ends          在每行的结尾显示'$'字符。\n-n, --number             对所有行编号，从 1\n开始编号。\n-s, --squeeze-blank      压缩连续的空行到一行。\n-t                       等价于\"-vT\"组合选项。\n-T, --show-tabs          使用\"^I\"表示\nTAB（制表符）。\n-u                       POSIX\n兼容性选项，无意义。\n-v, --show-nonprinting\n使用\"^\"和\"M-\"符号显示控制字符，除了 LFD（line\nfeed，即换行符'\\n'）和 TAB（制表符）。\n\n--help                   显示帮助信息并退出。\n--version                显示版本信息并退出。\n\n\u001b[;1m## \u001b[0m 返回值\n\n返回状态为成功除非给出了非法选项或非法参数。\n\n\u001b[;1m## \u001b[0m 例子\n\n# 合并显示多个文件\n\u001b[0m\u001b[93mcat\u001b[0m\u001b[37m ./1.log ./2.log ./3.log\n# 显示文件中的非打印字符、tab、换行符\n\u001b[0m\u001b[93mcat\u001b[0m\u001b[37m -A test.log\n# 压缩文件的空行\n\u001b[0m\u001b[93mcat\u001b[0m\u001b[37m -s test.log\n# 显示文件并在所有行开头附加行号\n\u001b[0m\u001b[93mcat\u001b[0m\u001b[37m -n test.log\n# 显示文件并在所有非空行开头附加行号\n\u001b[0m\u001b[93mcat\u001b[0m\u001b[37m -b test.log\n# 将标准输入的内容和文件内容一并显示\necho '######' |\u001b[0m\u001b[93mcat\u001b[0m\u001b[37m - test.log\n\n\u001b[;1m### \u001b[0m 注意\n\n- 该命令是 GNU coreutils 包中的命令，相关的帮助信息请查看\nman -s 1 \u001b[0m\u001b[93mcat\u001b[0m\u001b[37m 或 info coreutils '\u001b[0m\u001b[93mcat\u001b[0m\u001b[37m\ninvo\u001b[0m\u001b[93mcat\u001b[0m\u001b[37mion'。\n- 当使用 \u001b[0m\u001b[93mcat\u001b[0m\u001b[37m 命令查看体积较大的文件时，文本在屏幕上迅速闪过（滚屏），用户\n往往看不清所显示的内容，为了控制滚屏，可以按 Ctrl+s 键停止滚屏；按\nCtrl+q 键恢复滚屏；按 Ctrl+c（中断）键可以终止该命令的执行，返回\nShell 提示符状态。\n- 建议您查看体积较大的文件时使用 less、more 命令或 emacs、vi\n等文本编辑器。\n\n\u001b[;1m### \u001b[0m 参考链接\n\n- Question about LFD key\n\n"
    }
   ],
   "source": [
    "!how cat"
   ]
  },
  {
   "cell_type": "code",
   "execution_count": 13,
   "metadata": {
    "tags": []
   },
   "outputs": [
    {
     "output_type": "stream",
     "name": "stdout",
     "text": "\u001b[;1m# \u001b[0m\u001b[0m\u001b[93mtac\u001b[0m\u001b[37m\n\n连接多个文件并以行为单位反向打印到标准输出。\n\n\u001b[;1m## \u001b[0m 概要\n\n\u001b[0m\u001b[93mtac\u001b[0m\u001b[37m [OPTION]... [FILE]...\n\n\u001b[;1m## \u001b[0m 主要用途\n\n- 按行为单位反向显示文件内容，如果没有文件或文件为-则读取标准输入。\n- 处理多个文件时，依次将每个文件反向显示，而不是将所有文件连在一起再反向显示。\n\n\u001b[;1m## \u001b[0m 参数\n\nFILE（可选）：要处理的文件，可以为一或多个。\n\n\u001b[;1m## \u001b[0m 选项\n\n长选项与短选项等价\n\n-b, --before              在之前而不是之后连接分隔符。\n-r, --regex\n将分隔符作为基础正则表达式（BRE）处理。\n-s, --separator=STRING    使用 STRING\n作为分隔符代替默认的换行符。\n--help                    显示帮助信息并退出。\n--version                 显示版本信息并退出。\n\n\u001b[;1m## \u001b[0m 返回值\n\n返回状态为成功除非给出了非法选项或非法参数。\n\n\u001b[;1m## \u001b[0m 例子\n\n# 选自官方 info 文档的例子：\n# 一个接着一个字符的反转一个文件：\n\u001b[0m\u001b[93mtac\u001b[0m\u001b[37m -r -s 'x\\|[^x]' test.log\n\n# 关于-b 选项：\nseq 1 3 |\u001b[0m\u001b[93mtac\u001b[0m\u001b[37m\n# 输出\n3\n2\n1\n# 使用-b 选项：\nseq 1 3 |\u001b[0m\u001b[93mtac\u001b[0m\u001b[37m -b\n# 输出，注意 21 后面没有换行符：\n\n\n3\n21\n# 前一个例子相当于将 '1\\n2\\n3\\n' 转换为 '3\\n2\\n1\\n'\n# 前一个例子相当于将 '1\\n2\\n3\\n' 转换为 '\\n\\n3\\n21'\n\n\u001b[;1m### \u001b[0m 注意\n\n- 该命令是 GNU coreutils 包中的命令，相关的帮助信息请查看\nman -s 1 \u001b[0m\u001b[93mtac\u001b[0m\u001b[37m 或 info coreutils '\u001b[0m\u001b[93mtac\u001b[0m\u001b[37m\ninvocation'。\n- 关于基础正则表达式（BRE）的内容，详见 man -s 1 grep 的\nREGULAR EXPRESSIONS 段落。\n\n"
    }
   ],
   "source": [
    "!how tac"
   ]
  },
  {
   "cell_type": "code",
   "execution_count": 12,
   "metadata": {
    "tags": []
   },
   "outputs": [
    {
     "output_type": "stream",
     "name": "stdout",
     "text": "\u001b[;1m# \u001b[0m\u001b[0m\u001b[93mmore\u001b[0m\u001b[37m\n\n显示文件内容，每次显示一屏\n\n\u001b[;1m## \u001b[0m 补充说明\n\n\u001b[0m\u001b[93mmore\u001b[0m\u001b[37m 命令 是一个基于 vi\n编辑器文本过滤器，它以全屏幕的方式按页显示文本文件的内容，支持 vi\n中的关键字定位操作。\u001b[0m\u001b[93mmore\u001b[0m\u001b[37m 名单中内置了若干快捷键，常用的有 H（获得帮助信息\n），Enter（向下翻滚一行），空格（向下滚动一屏），Q（退出命令）。\n\n该命令一次显示一屏文本，满屏后停下来，并且在屏幕的底部出现一个提示信息，给出至今\n己显示的该文件的百分比：--\u001b[0m\u001b[93mmore\u001b[0m\u001b[37m--（XX%）可以用下列不同的方法对提示做出\n回答：\n\n- 按 Space 键：显示文本的下一屏内容。\n- 按 Enter 键：只显示文本的下一行内容。\n- 按斜线符|：接着输入一个模式，可以在文本中寻找下一个相匹配的模式。\n- 按 H 键：显示帮助屏，该屏上有相关的帮助信息。\n- 按 B 键：显示上一屏内容。\n- 按 Q 键：退出 \u001b[0m\u001b[93mmore\u001b[0m\u001b[37m 命令。\n\n\u001b[;1m### \u001b[0m 语法\n\n\u001b[0m\u001b[93mmore\u001b[0m\u001b[37m(语法)(参数)\n\n\u001b[;1m### \u001b[0m 选项\n\n-<数字>：指定每屏显示的行数；\n-d：显示“[press space to continue,'q' to\nquit.]”和“[Press 'h' for instructions]”；\n-c：不进行滚屏操作。每次刷新这个屏幕；\n-s：将多个空行压缩成一行显示；\n-u：禁止下划线；\n+<数字>：从指定数字的行开始显示。\n\n\u001b[;1m### \u001b[0m 参数\n\n文件：指定分页显示内容的文件。\n\n\u001b[;1m### \u001b[0m 实例\n\n显示文件 file\n的内容，但在显示之前先清屏，并且在屏幕的最下方显示完成的百分比。\n\n\u001b[0m\u001b[93mmore\u001b[0m\u001b[37m -dc file\n\n显示文件 file 的内容，每 10 行显示一次，而且在显示之前先清屏。\n\n\u001b[0m\u001b[93mmore\u001b[0m\u001b[37m -c -10 file\n\n"
    }
   ],
   "source": [
    "!how more"
   ]
  },
  {
   "cell_type": "code",
   "execution_count": 14,
   "metadata": {
    "tags": []
   },
   "outputs": [
    {
     "output_type": "stream",
     "name": "stdout",
     "text": "\u001b[;1m# \u001b[0m\u001b[0m\u001b[93mless\u001b[0m\u001b[37m\n\n分屏上下翻页浏览文件内容\n\n\u001b[;1m## \u001b[0m 补充说明\n\n\u001b[0m\u001b[93mless\u001b[0m\u001b[37m 命令 的作用与 more\n十分相似，都可以用来浏览文字档案的内容，不同的是 \u001b[0m\u001b[93mless\u001b[0m\u001b[37m\n命令允许用户向前或向后浏览文件，而 more 命令只能向前浏览。用 \u001b[0m\u001b[93mless\u001b[0m\u001b[37m\n命令显示文件时，用 PageUp 键向上翻页，用 PageDown\n键向下翻页。要退出 \u001b[0m\u001b[93mless\u001b[0m\u001b[37m 程序，应按 Q 键。\n\n\u001b[;1m### \u001b[0m 语法\n\n\u001b[0m\u001b[93mless\u001b[0m\u001b[37m(选项)(参数)\n\n\u001b[;1m### \u001b[0m 选项\n\n-e：文件内容显示完毕后，自动退出；\n-f：强制显示文件；\n-g：不加亮显示搜索到的所有关键词，仅显示当前显示的关键字，以提高显示速度；\n-l：搜索时忽略大小写的差异；\n-N：每一行行首显示行号；\n-s：将连续多个空行压缩成一行显示；\n-S：在单行显示较长的内容，而不换行显示；\n-x<数字>：将 TAB 字符显示为指定个数的空格字符。\n\n\u001b[;1m### \u001b[0m 参数\n\n文件：指定要分屏显示内容的文件。\n\n\u001b[;1m## \u001b[0m 实例\n\nsudo \u001b[0m\u001b[93mless\u001b[0m\u001b[37m /var/log/shadowsocks.log\n\n"
    }
   ],
   "source": [
    "!how less"
   ]
  },
  {
   "cell_type": "code",
   "execution_count": 16,
   "metadata": {
    "tags": []
   },
   "outputs": [
    {
     "output_type": "stream",
     "name": "stdout",
     "text": "\u001b[;1m# \u001b[0m\u001b[0m\u001b[93mhead\u001b[0m\u001b[37m\n\n显示文件的开头部分。\n\n\u001b[;1m## \u001b[0m 概要\n\n\u001b[0m\u001b[93mhead\u001b[0m\u001b[37m [OPTION]... [FILE]...\n\n\u001b[;1m## \u001b[0m 主要用途\n\n- 在未指定行数时默认显示前 10 行。\n- 处理多个文件时会在各个文件之前附加含有文件名的行。\n- 当没有文件或文件为-时，读取标准输入。\n\n\u001b[;1m## \u001b[0m 选项\n\n-c, --bytes=[-]NUM       显示前 NUM 字节；如果\nNUM 前有\"-\"，那么会打印除了文件末尾的 NUM 字节以外的其他内容。\n-n, --lines=[-]NUM       显示前 NUM 行而不是默认的\n10 行；如果 NUM 前有\"-\"，那么会打印除了文件末尾的 NUM\n行以外的其他行。\n-q, --quiet, --silent    不打印文件名行。\n-v, --verbose            总是打印文件名行。\n-z, --zero-terminated    行终止符为 NUL\n而不是换行符。\n--help                   显示帮助信息并退出。\n--version                显示版本信息并退出。\n\nNUM 可以有一个乘数后缀：\nb 512\nkB 1000\nk 1024\nMB 1000*1000\nM 1024*1024\nGB 1000*1000*1000\nG 1024*1024*1024\nT、P、E、Z、Y 等以此类推。\n\n也可以使用二进制前缀：\nKiB=K\nMiB=M\n以此类推。\n\n\u001b[;1m## \u001b[0m 参数\n\nFILE（可选）：要处理的文件，可以为一或多个。\n\n\u001b[;1m## \u001b[0m 返回值\n\n返回 0 表示成功，返回非 0 值表示失败。\n\n\u001b[;1m## \u001b[0m 例子\n\n# 查看历史文件的前 6 行：\n[user2@pc ~]$ \u001b[0m\u001b[93mhead\u001b[0m\u001b[37m -n 6 ~/.bash_history\n#1575425555\ncd ~\n#1575425558\nls -lh\n#1575425562\nvi ~/Desktop/ZhuangZhu-74.txt\n\n# 查看多个文件：\n[user2@pc ~]$ \u001b[0m\u001b[93mhead\u001b[0m\u001b[37m -n ~/.bash_history\n~/.bashrc\n==> /allhome/user2/.bash_history <==\n#1575425555\ncd ~\n#1575425558\nls -lh\n#1575425562\nvi ~/Desktop/ZhuangZhu-74.txt\n#1575425566\nuptime\n#1575425570\nfind ~/ -maxdepth 3 -name 'test.sh'\n-exec lh {} \\;\n\n==> /allhome/user2/.bashrc <==\n# .bashrc\n\n# forbid use Ctrl+D to exit shell.\nset -o ignoreeof\n\n# Source global definitions.\nif [ -f /etc/bashrc ]; then\n        . /etc/bashrc\nfi\n\n\n\u001b[;1m### \u001b[0m 注意\n\n- 该命令是 GNU coreutils 包中的命令，相关的帮助信息请查看\nman -s 1 \u001b[0m\u001b[93mhead\u001b[0m\u001b[37m，info coreutils '\u001b[0m\u001b[93mhead\u001b[0m\u001b[37m\ninvocation'。\n\n"
    }
   ],
   "source": [
    "!how head"
   ]
  },
  {
   "cell_type": "code",
   "execution_count": 17,
   "metadata": {
    "tags": []
   },
   "outputs": [
    {
     "output_type": "stream",
     "name": "stdout",
     "text": "\u001b[;1m# \u001b[0m\u001b[0m\u001b[93mtail\u001b[0m\u001b[37m\n\n在屏幕上显示指定文件的末尾若干行\n\n\u001b[;1m## \u001b[0m 补充说明\n\n\u001b[0m\u001b[93mtail\u001b[0m\u001b[37m 命令 用于输入文件中的尾部内容。\u001b[0m\u001b[93mtail\u001b[0m\u001b[37m\n命令默认在屏幕上显示指定文件的末尾 10 行。如果给定的文件不止一个，则在显示的\n每个文件前面加一个文件名标题。如果没有指定文件或者文件名为“-”，则读取标准输入\n。\n\n注意：如果表示字节或行数的 N 值之前有一个”+”号，则从文件开头的第 N\n项开始显示，而不是显示文件的最后 N 项。N 值后面可以有后缀：b 表示\n512，k 表示 1024，m 表示 1 048576(1M)。\n\n\u001b[;1m### \u001b[0m 语法\n\n\u001b[0m\u001b[93mtail\u001b[0m\u001b[37m(选项)(参数)\n\n\u001b[;1m### \u001b[0m 选项\n\n--retry：即是在 \u001b[0m\u001b[93mtail\u001b[0m\u001b[37m 命令启动时，文件不可访问或者文件稍后变得不可访\n问，都始终尝试打开文件。使用此选项时需要与选项“——follow=name”连用\n；\n-c<N>或——bytes=<N>：输出文件尾部的 N（N 为整数）个字节内容；\n-f<name/descriptor>或；--follow<nameldescr\nipt>：显示文件最新追加的内容。“name”表示以文件名的方式监视文件的变化。\n“-f”与“-fdescriptor”等效；\n-F：与选项“-follow=name”和“--retry\"连用时功能相同；\n-n<N>或——line=<N>：输出文件的尾部 N（N 位数字）行内容。\n--pid=<进程号>：与“-f”选项连用，当指定的进程号的进程终止后，自动退出\n\u001b[0m\u001b[93mtail\u001b[0m\u001b[37m 命令；\n-q 或——quiet\n或——silent：当有多个文件参数时，不输出各个文件名；\n-s<秒数>或——sleep-\ninteral=<秒数>：与“-f”选项连用，指定监视文件变化时间隔的秒数；\n-v 或——verbose：当有多个文件参数时，总是输出各个文件名；\n--help：显示指令的帮助信息；\n--version：显示指令的版本信息。\n\n\u001b[;1m### \u001b[0m 参数\n\n文件列表：指定要显示尾部内容的文件列表。\n\n\u001b[;1m### \u001b[0m 实例\n\n\u001b[0m\u001b[93mtail\u001b[0m\u001b[37m file #（显示文件 file 的最后 10 行）\n\u001b[0m\u001b[93mtail\u001b[0m\u001b[37m -n +20 file #（显示文件 file 的内容，从第 20\n行至文件末尾）\n\u001b[0m\u001b[93mtail\u001b[0m\u001b[37m -c 10 file #（显示文件 file 的最后 10 个字符）\n\n\u001b[0m\u001b[93mtail\u001b[0m\u001b[37m -25 mail.log # 显示 mail.log 最后的 25 行\n\u001b[0m\u001b[93mtail\u001b[0m\u001b[37m -f mail.log # 等同于--follow=descripto\nr，根据文件描述符进行追踪，当文件改名或被删除，追踪停止\n\u001b[0m\u001b[93mtail\u001b[0m\u001b[37m -F mail.log # 等同于--follow=name  --r\netry，根据文件名进行追踪，并保持重试，即该文件被删除或改名后，如果再次创建相\n同的文件名，会继续追踪\n\n"
    }
   ],
   "source": [
    "!how tail"
   ]
  },
  {
   "cell_type": "code",
   "execution_count": 2,
   "metadata": {
    "tags": []
   },
   "outputs": [
    {
     "output_type": "stream",
     "name": "stdout",
     "text": "\u001b[;1m# \u001b[0m\u001b[0m\u001b[93mln\u001b[0m\u001b[37m\n\n用来为文件创建链接\n\n\u001b[;1m## \u001b[0m 补充说明\n\n\u001b[0m\u001b[93mln\u001b[0m\u001b[37m 命令 用来为文件创建链接，链接类型分为硬链接和符号链接两种，默认的链接类型\n是硬链接。如果要创建符号链接必须使用\"-s\"选项。\n\n注意：符号链接文件不是一个独立的文件，它的许多属性依赖于源文件，所以给符号链接文\n件设置存取权限是没有意义的。\n\n\u001b[;1m### \u001b[0m 语法\n\n\u001b[0m\u001b[93mln\u001b[0m\u001b[37m [选项]... [-T] 目标 链接名  (第一种格式)\n　或：\u001b[0m\u001b[93mln\u001b[0m\u001b[37m [选项]... 目标                (第二种格式)\n　或：\u001b[0m\u001b[93mln\u001b[0m\u001b[37m [选项]... 目标... 目录  (第三种格式)\n　或：\u001b[0m\u001b[93mln\u001b[0m\u001b[37m [选项]... -t 目录 目标...       (第四种格式)\n\n\u001b[;1m### \u001b[0m 选项\n\n    --backup[=CONTROL]\n为每个已存在的目标文件创建备份文件\n-b        类似--backup，但不接受任何参数\n-d, -F, --directory\n创建指向目录的硬链接(只适用于超级用户)\n-f, --force     强行删除任何已存在的目标文件\n-i, --interactive\n覆盖既有文件之前先询问用户；\n-L, --logical\n取消引用作为符号链接的目标\n-n, --no-dereference\n把符号链接的目的目录视为一般文件；\n-P, --physical              直接将硬链接到符号链接\n-r, --relative\n创建相对于链接位置的符号链接\n-s, --symbolic\n对源文件建立符号链接，而非硬链接；\n-S, --suffix=SUFFIX         用\"-b\"参数备份目标文\n件后，备份文件的字尾会被加上一个备份字符串，预设的备份字符串是符号“~”，用户可\n通过“-S”参数来改变它；\n-t, --target-directory=DIRECTORY\n指定要在其中创建链接的 DIRECTORY\n-T, --no-target-directory\n将“LINK_NAME”视为常规文件\n-v, --verbose               打印每个链接文件的名称\n    --help    显示此帮助信息并退出\n    --version   显示版本信息并退出\n\n\u001b[;1m### \u001b[0m 参数\n\n- 源文件：指定链接的源文件。如果使用-s 选项创建符号链接，则“源文件”可以是\n文件或者目录。创建硬链接时，则“源文件”参数只能是文件；\n- 目标文件：指定源文件的目标链接文件。\n\nnone, off       # 不进行备份(即使使用了--backup\n选项)\nnumbered, t     # 备份文件加上数字进行排序\nexisting, nil   #\n若有数字的备份文件已经存在则使用数字，否则使用普通方式备份\nsimple, never   # 永远使用普通方式备份\n\n\u001b[;1m### \u001b[0m 实例\n\n将目录/usr/mengqc/mub1 下的文件 m2.c\n链接到目录/usr/liu 下的文件 a2.c\n\ncd /usr/mengqc\n\u001b[0m\u001b[93mln\u001b[0m\u001b[37m /mub1/m2.c /usr/liu/a2.c\n\n在执行 \u001b[0m\u001b[93mln\u001b[0m\u001b[37m 命令之前，目录/usr/liu 中不存在 a2.c 文件。执行\n\u001b[0m\u001b[93mln\u001b[0m\u001b[37m 之后，在/usr/liu 目录中才有 a2.c 这一项，表明 m2.c 和\na2.c 链接起来（注意，二者在物理上是同一文件），利用 ls -l\n命令可以看到链接数的变化。\n\n在目录/usr/liu 下建立一个符号链接文件\nabc，使它指向目录/usr/mengqc/mub1\u001b[0m\u001b[93mln\u001b[0m\u001b[37m -s\n/usr/mengqc/mub1 /usr/liu/abc\n\n执行该命令后，/usr/mengqc/mub1\n代表的路径将存放在名为/usr/liu/abc 的文件中。\n\n\u001b[;1m## \u001b[0m 扩展知识\n\nLinux 具有为一个文件起多个名字的功能，称为链接。被链接的文件可以存放在相同\n的目录下，但是必须有不同的文件名，而不用在硬盘上为同样的数据重复备份。另外，被链\n接的文件也可以有相同的文件名，但是存放在不同的目录下，这样只要对一个目录下的该文\n件进行修改，就可以完成对所有目录下同名链接文件的修改。对于某个文件的各链接文件，\n我们可以给它们指定不同的存取权限，以控制对信息的共享和增强安全性。\n\n文件链接有两种形式，即硬链接和符号链接。\n\n\u001b[;1m### \u001b[0m 硬链接\n\n建立硬链接时，在另外的目录或本目录中增加目标文件的一个目录项，这样，一个文件就登\n记在多个目录中。如图所示的 m2.c 文件就在目录 mub1 和 liu\n中都建立了目录项。\n\n创建硬链接后，己经存在的文件的 I 节点号（Inode）会被多个目录文件项使用。\n一个文件的硬链接数可以在目录的长列表格式的第二列中看到，无额外链接的文件的链接数\n为 l。\n\n在默认情况下，\u001b[0m\u001b[93mln\u001b[0m\u001b[37m 命令创建硬链接。\u001b[0m\u001b[93mln\u001b[0m\u001b[37m 命令会增加链接数，rm\n命令会减少链接数。一个文件除非链接数为 0，否则不会从文件系统中被物理地删除。\n\n对硬链接有如下限制：\n\n- 不能对目录文件做硬链接。\n- 不能在不同的文件系统之间做硬链接。就是说，链接文件和被链接文件必须位于同一个\n文件系统中。\n\n\u001b[;1m### \u001b[0m 符号链接\n\n符号链接也称为软链接，是将一个路径名链接到一个文件。这些文件是一种特别类型的文件\n。事实上，它只是一个文本文件（如图中的 abc 文件），其中包含它提供链接的另一\n个文件的路径名，如图中虚线箭头所示。另一个文件是实际包含所有数据的文件。所有读、\n写文件内容的命令被用于符号链接时，将沿着链接方向前进来访问实际的文件。\n\n!符号连接\n\n与硬链接不同的是，符号链接确实是一个新文件，当然它具有不同的 I\n节点号；而硬链接并没有建立新文件。\n\n符号链接没有硬链接的限制，可以对目录文件做符号链接，也可以在不同文件系统之间做符\n号链接。\n\n用 \u001b[0m\u001b[93mln\u001b[0m\u001b[37m -s 命令建立符号链接时，源文件最好用绝对路径名。这样可以在任何工作目\n录下进行符号链接。而当源文件用相对路径时，如果当前的工作路径与要创建的符号链接文\n件所在路径不同，就不能进行链接。\n\n符号链接保持了链接与源文件或目录之间的区别：\n\n- 删除源文件或目录，只删除了数据，不会删除链接。一旦以同样文件名创建了源文件，\n链接将继续指向该文件的新数据。\n- 在目录长列表中，符号链接作为一种特殊的文件类型显示出来，其第一个字母是 l。\n- 符号链接的大小是其链接文件的路径名中的字节数。\n- 当用 \u001b[0m\u001b[93mln\u001b[0m\u001b[37m -s\n命令列出文件时，可以看到符号链接名后有一个箭头指向源文件或目录，例如\nlrwxrwxrwx … 14 jun 20 10:20\n/etc/motd->/original_file\n其中，表示“文件大小”的数字“14”恰好说明源文件名 original_file\n由 14 个字符构成。\n\n"
    }
   ],
   "source": [
    "!how ln"
   ]
  },
  {
   "cell_type": "markdown",
   "metadata": {},
   "source": [
    "创建软链接  符号链接\n",
    "\n",
    "ls -s \\[原文件\\] \\[目标文件\\]\n",
    "\n",
    "软连接文件: l 开头 权限全是rwx 具体由原文件决定\n",
    "\n",
    "硬连接: \n",
    "- 拷贝cp -p + 同步更新, \n",
    "- 原文件丢失 硬链接仍可用\n",
    "- inode指向相同\n",
    "- 不能跨分区\n",
    "- 不能针对目录使用"
   ]
  },
  {
   "cell_type": "code",
   "execution_count": 4,
   "metadata": {},
   "outputs": [],
   "source": [
    "!ln -s test  test.soft"
   ]
  },
  {
   "cell_type": "code",
   "execution_count": 10,
   "metadata": {},
   "outputs": [],
   "source": [
    "!ln test test.hard"
   ]
  },
  {
   "cell_type": "code",
   "execution_count": 12,
   "metadata": {
    "tags": []
   },
   "outputs": [
    {
     "output_type": "stream",
     "name": "stdout",
     "text": "总用量 41\n7417 -rwxrwxrwx 1 root root 37054 9月   9 13:52 常用命令.ipynb\n7418 drwxrwxrwx 1 root root     0 9月   8 21:02 Japan\n7616 -rwxrwxrwx 2 root root     0 9月   9 13:50 test\n7616 -rwxrwxrwx 2 root root     0 9月   9 13:50 test.hard\n7617 lrwxrwxrwx 1 root root     4 9月   9 13:50 test.soft -> test\n"
    }
   ],
   "source": [
    "# 查看inode \n",
    "!ls -il"
   ]
  },
  {
   "cell_type": "code",
   "execution_count": 13,
   "metadata": {
    "tags": []
   },
   "outputs": [
    {
     "output_type": "stream",
     "name": "stdout",
     "text": "\u001b[;1m# \u001b[0m\u001b[0m\u001b[93mchmod\u001b[0m\u001b[37m\n\n用来变更文件或目录的权限\n\n\u001b[;1m## \u001b[0m 概要\n\n\u001b[0m\u001b[93mchmod\u001b[0m\u001b[37m [OPTION]... MODE[,MODE]... FILE...\n\u001b[0m\u001b[93mchmod\u001b[0m\u001b[37m [OPTION]... OCTAL-MODE FILE...\n\u001b[0m\u001b[93mchmod\u001b[0m\u001b[37m [OPTION]... --reference=RFILE\nFILE...\n\n\u001b[;1m## \u001b[0m 主要用途\n\n- 通过符号组合的方式更改目标文件或目录的权限。\n- 通过八进制数的方式更改目标文件或目录的权限。\n- 通过参考文件的权限来更改目标文件或目录的权限。\n\n\u001b[;1m## \u001b[0m 参数\n\nmode：八进制数或符号组合。\n\nfile：指定要更改权限的一到多个文件。\n\n\u001b[;1m## \u001b[0m 选项\n\n-c, --changes：当文件的权限更改时输出操作信息。\n--no-preserve-root：不将'/'特殊化处理，默认选项。\n--preserve-root：不能在根目录下递归操作。\n-f, --silent, --quiet：抑制多数错误消息的输出。\n-v, --verbose：无论文件是否更改了权限，一律输出操作信息。\n--reference=RFILE：使用参考文件或参考目录 RFILE\n的权限来设置目标文件或目录的权限。\n-R, --recursive：对目录以及目录下的文件递归执行更改权限操作。\n--help：显示帮助信息并退出。\n--version：显示版本信息并退出。\n\n\u001b[;1m## \u001b[0m 返回值\n\n返回状态为成功除非给出了非法选项或非法参数。\n\n\u001b[;1m## \u001b[0m 例子\n\n> 参考 man \u001b[0m\u001b[93mchmod\u001b[0m\u001b[37m 文档的 DESCRIPTION 段落得知：\n\n- u 符号代表当前用户。\n- g 符号代表和当前用户在同一个组的用户，以下简称组用户。\n- o 符号代表其他用户。\n- a 符号代表所有用户。\n- r 符号代表读权限以及八进制数 4。\n- w 符号代表写权限以及八进制数 2。\n- x 符号代表执行权限以及八进制数 1。\n- X 符号代表如果目标文件是可执行文件或目录，可给其设置可执行权限。\n- s 符号代表设置权限 suid 和 sgid，使用权限组合 u+s\n设定文件的用户的 ID 位，g+s 设置组用户 ID 位。\n- t 符号代表只有目录或文件的所有者才可以删除目录下的文件。\n- +符号代表添加目标用户相应的权限。\n- -符号代表删除目标用户相应的权限。\n- =符号代表添加目标用户相应的权限，删除未提到的权限。\n\nlinux 文件的用户权限说明：\n\n# 查看当前目录（包含隐藏文件）的长格式。\nls -la\n  -rw-r--r--   1 user  staff   651 Oct\n12 12:53 .gitmodules\n\n# 第 1 位如果是 d 则代表目录，是-则代表普通文件。\n# 更多详情请参阅 info coreutils 'ls\ninvocation'（ls 命令的 info 文档）的'-l'选项部分。\n# 第 2 到 4 位代表当前用户的权限。\n# 第 5 到 7 位代表组用户的权限。\n# 第 8 到 10 位代表其他用户的权限。\n\n# 添加组用户的写权限。\n\u001b[0m\u001b[93mchmod\u001b[0m\u001b[37m g+w ./test.log\n# 删除其他用户的所有权限。\n\u001b[0m\u001b[93mchmod\u001b[0m\u001b[37m o= ./test.log\n# 使得所有用户都没有写权限。\n\u001b[0m\u001b[93mchmod\u001b[0m\u001b[37m a-w ./test.log\n# 当前用户具有所有权限，组用户有读写权限，其他用户只有读权限。\n\u001b[0m\u001b[93mchmod\u001b[0m\u001b[37m u=rwx, g=rw, o=r ./test.log\n# 等价的八进制数表示：\n\u001b[0m\u001b[93mchmod\u001b[0m\u001b[37m 754 ./test.log\n# 将目录以及目录下的文件都设置为所有用户拥有读写权限。\n# 注意，使用'-R'选项一定要保留当前用户的执行和读取权限，否则会报错！\n\u001b[0m\u001b[93mchmod\u001b[0m\u001b[37m -R a=rw ./testdir/\n# 根据其他文件的权限设置文件权限。\n\u001b[0m\u001b[93mchmod\u001b[0m\u001b[37m --reference=./1.log  ./test.log\n\n\u001b[;1m### \u001b[0m 注意\n\n- 该命令是 GNU coreutils 包中的命令，相关的帮助信息请查看\nman \u001b[0m\u001b[93mchmod\u001b[0m\u001b[37m 或 info coreutils '\u001b[0m\u001b[93mchmod\u001b[0m\u001b[37m\ninvocation'。\n- 符号连接的权限无法变更，如果用户对符号连接修改权限，其改变会作用在被连接的原\n始文件。\n- 使用-R 选项一定要保留当前用户的执行和读取权限，否则会报错！\n\n"
    }
   ],
   "source": [
    "!how chmod"
   ]
  },
  {
   "cell_type": "markdown",
   "metadata": {},
   "source": [
    "|权限|文件|目录|\n",
    ":--|:--:|--:\n",
    "|r|查看文件内容|列出目录中内容|\n",
    "|w|修改文件内容|在目录中创建或删除文件|\n",
    "|x|执行文件|进入目录|"
   ]
  },
  {
   "cell_type": "code",
   "execution_count": 14,
   "metadata": {
    "tags": []
   },
   "outputs": [
    {
     "output_type": "stream",
     "name": "stdout",
     "text": "\u001b[;1m# \u001b[0m\u001b[0m\u001b[93mchown\u001b[0m\u001b[37m\n\n用来变更文件或目录的拥有者或所属群组\n\n\u001b[;1m## \u001b[0m 补充说明\n\n\u001b[0m\u001b[93mchown\u001b[0m\u001b[37m 命令 改变某个文件或目录的所有者和所属的组，该命令可以向某个用户授权\n，使该用户变成指定文件的所有者或者改变文件所属的组。用户可以是用户或者是用户\nD，用户组可以是组名或组\nid。文件名可以使由空格分开的文件列表，在文件名中可以包含通配符。\n\n只有文件主和超级用户才可以便用该命令。\n\n\u001b[;1m### \u001b[0m 语法\n\n\u001b[0m\u001b[93mchown\u001b[0m\u001b[37m(选项)(参数)\n\n\u001b[;1m### \u001b[0m 选项\n\n-c 或——changes：效果类似“-v”参数，但仅回报更改的部分；\n-f 或--quite 或——silent：不显示错误信息；\n-h 或--no-\ndereference：只对符号连接的文件作修改，而不更改其他任何相关文件；\n-R\n或——recursive：递归处理，将指定目录下的所有文件及子目录一并处理；\n-v 或——version：显示指令执行过程；\n--dereference：效果和“-h”参数相同；\n--help：在线帮助；\n--reference=<参考文件或目录>：把指定文件或目录的拥有者与所属群组全\n部设成和参考文件或目录的拥有者与所属群组相同；\n--version：显示版本信息。\n\n\u001b[;1m### \u001b[0m 参数\n\n用户：组：指定所有者和所属工作组。当省略“：组”，仅改变文件所有者；文件：指定要\n改变所有者和工作组的文件列表。支持多个文件和目标，支持 shell 通配符。\n\n\u001b[;1m### \u001b[0m 实例\n\n将目录/usr/meng 及其下面的所有文件、子目录的文件主改成 liu：\n\n\u001b[0m\u001b[93mchown\u001b[0m\u001b[37m -R liu /usr/meng\n\n"
    }
   ],
   "source": [
    "!how chown"
   ]
  },
  {
   "cell_type": "code",
   "execution_count": null,
   "metadata": {},
   "outputs": [],
   "source": [
    "chown [选项] 用户:组 文件\n",
    "\n",
    "# useradd 添加用户\n",
    "# groupadd"
   ]
  },
  {
   "cell_type": "code",
   "execution_count": 15,
   "metadata": {
    "tags": []
   },
   "outputs": [
    {
     "output_type": "stream",
     "name": "stdout",
     "text": "\u001b[;1m# \u001b[0m\u001b[0m\u001b[93mchgrp\u001b[0m\u001b[37m\n\n用来变更文件或目录的所属群组\n\n\u001b[;1m## \u001b[0m 补充说明\n\n\u001b[0m\u001b[93mchgrp\u001b[0m\u001b[37m 命令 用来改变文件或目录所属的用户组。该命令用来改变指定文件所属的用\n户组。其中，组名可以是用户组的 id，也可以是用户组的组名。文件名可以 是由空格\n分开的要改变属组的文件列表，也可以是由通配符描述的文件集合。如果用户不是该文件的\n文件主或超级用户(root)，则不能改变该文件的组。\n\n在 UNIX\n系统家族里，文件或目录权限的掌控以拥有者及所属群组来管理。您可以使用 \u001b[0m\u001b[93mchgrp\u001b[0m\u001b[37m\n指令去变更文件与目录的所属群组，设置方式采用群组名称或群组识别码皆可。\n\n\u001b[;1m### \u001b[0m 语法\n\n\u001b[0m\u001b[93mchgrp\u001b[0m\u001b[37m [选项][组群][文件|目录]\n\n\u001b[;1m### \u001b[0m 选项\n\n-R 递归式地改变指定目录及其下的所有子目录和文件的所属的组\n-c 或——changes：效果类似“-v”参数，但仅回报更改的部分；\n-f 或--quiet 或——silent：不显示错误信息；\n-h 或--no-\ndereference：只对符号连接的文件作修改，而不是该其他任何相关文件；\n-H 如果命令行参数是一个通到目录的符号链接，则遍历符号链接\n-R\n或——recursive：递归处理，将指令目录下的所有文件及子目录一并处理；\n-L 遍历每一个遇到的通到目录的符号链接\n-P 不遍历任何符号链接（默认）\n-v 或——verbose：显示指令执行过程；\n--reference=<参考文件或目录>：把指定文件或目录的所属群组全部设成和\n参考文件或目录的所属群组相同；\n\n\u001b[;1m### \u001b[0m 参数\n\n- 组：指定新工作名称；\n- 文件：指定要改变所属组的文件列表。多个文件或者目录之间使用空格隔开。\n\n\u001b[;1m### \u001b[0m 实例\n\n将/usr/meng 及其子目录下的所有文件的用户组改为 mengxin\n\n\u001b[0m\u001b[93mchgrp\u001b[0m\u001b[37m -R mengxin /usr/meng\n\n更改文件 ah 的组群所有者为 newuser[root@rhel ~]#\n\u001b[0m\u001b[93mchgrp\u001b[0m\u001b[37m newuser ah\n\n"
    }
   ],
   "source": [
    "!how chgrp\n",
    "# 缺省组"
   ]
  },
  {
   "cell_type": "markdown",
   "metadata": {},
   "source": [
    "新建文件 默认没有可执行权限\n"
   ]
  },
  {
   "cell_type": "code",
   "execution_count": 16,
   "metadata": {
    "tags": []
   },
   "outputs": [
    {
     "output_type": "stream",
     "name": "stdout",
     "text": "\u001b[;1m# \u001b[0m\u001b[0m\u001b[93mumask\u001b[0m\u001b[37m\n\n显示或设置创建文件的权限掩码。\n\n\u001b[;1m## \u001b[0m 概要\n\n\u001b[0m\u001b[93mumask\u001b[0m\u001b[37m [-p] [-S] [mode]\n\n\u001b[;1m## \u001b[0m 主要用途\n\n- 显示当前的文件权限掩码。\n- 通过八进制数的方式设置创建文件的权限掩码。\n- 通过符号组合的方式设置创建文件的权限掩码。\n\n\u001b[;1m## \u001b[0m 参数\n\nmode（可选）：八进制数或符号组合。\n\n\u001b[;1m## \u001b[0m 选项\n\n-p：当没有参数时指定该选项，执行产生的输出格式可复用为输入；\n-S：以符号组合的方式输出创建文件的权限掩码，不使用该选项时以八进制数的形式输出\n。\n\n\u001b[;1m## \u001b[0m 返回值\n\n返回状态为成功除非给出了非法选项或非法参数。\n\n\u001b[;1m## \u001b[0m 例子\n\n以下的例子均假设文件权限掩码为 0022。\n\n# 以八进制数的形式输出创建文件的权限掩码。\n\u001b[0m\u001b[93mumask\u001b[0m\u001b[37m -p\n# 执行结果：\n\u001b[0m\u001b[93mumask\u001b[0m\u001b[37m 0022\n# 以符号组合的方式输出创建文件的权限掩码。\n\u001b[0m\u001b[93mumask\u001b[0m\u001b[37m -S\n# 执行结果：\nu=rwx,g=rx,o=rx\n\n参考 man chmod 文档的 DESCRIPTION 段落得知：\n\n- u 符号代表当前用户。\n- g 符号代表和当前用户在同一个组的用户，以下简称组用户。\n- o 符号代表其他用户。\n- a 符号代表所有用户。\n- r 符号代表读权限以及八进制数 4。\n- w 符号代表写权限以及八进制数 2。\n- x 符号代表执行权限以及八进制数 1。\n- +符号代表添加目标用户相应的权限。\n- -符号代表删除目标用户相应的权限。\n- =符号代表添加目标用户相应的权限，删除未提到的权限。\n\n那么刚才以符号形式输出的结果 u=rwx,g=rx,o=rx 转化为八进制数等于\n0755；\n\n用八进制数来设置同样的权限，\u001b[0m\u001b[93mumask\u001b[0m\u001b[37m 需要额外的执行减法 0777 -\n0755 即 0022，而 chmod 不需要。\n\n符号组合模式的添加、删除、赋值权限。\n\n# 添加权限：\n# 为组用户添加写权限。\n\u001b[0m\u001b[93mumask\u001b[0m\u001b[37m g+w\n# 删除权限：\n# 删除其他用户的写、执行权限\n\u001b[0m\u001b[93mumask\u001b[0m\u001b[37m o-wx\n# 赋值权限：\n# 赋值全部用户所有权限，等价于 \u001b[0m\u001b[93mumask\u001b[0m\u001b[37m u=rwx,g=rwx,o=rwx\n\u001b[0m\u001b[93mumask\u001b[0m\u001b[37m a=rwx\n# 清除其他用户的读、写、执行权限。\n\u001b[0m\u001b[93mumask\u001b[0m\u001b[37m o=\n\n创建文件夹、文件（假设当前目录不存在）\n\n# 创建文件\ntouch test.sh\n# 查看权限，发现执行权限的设置不起作用。\nstat test.sh\n# 创建文件夹\ntouch newdir\n# 查看权限，发现执行权限的设置可以起作用。\nstat newdir\n\n\u001b[;1m### \u001b[0m 注意\n\n- 该命令是 bash 内建命令，相关的帮助信息请查看 help 命令。\n- chmod 用于更改已有对象的权限，\u001b[0m\u001b[93mumask\u001b[0m\u001b[37m 影响之后新建对象的权限。\n- 请谨慎使用该命令，特别是不要取消当前用户的读取权限，那样会导致你在终端使用\nTAB 键补全时报错。\n\n"
    }
   ],
   "source": [
    "!how umask"
   ]
  },
  {
   "cell_type": "code",
   "execution_count": 17,
   "metadata": {
    "tags": []
   },
   "outputs": [
    {
     "output_type": "stream",
     "name": "stdout",
     "text": "u=rwx,g=rx,o=rx\n"
    }
   ],
   "source": [
    "# 权限掩码\n",
    "!umask -S"
   ]
  },
  {
   "cell_type": "code",
   "execution_count": 18,
   "metadata": {
    "tags": []
   },
   "outputs": [
    {
     "output_type": "stream",
     "name": "stdout",
     "text": "0022\n"
    }
   ],
   "source": [
    "!umask"
   ]
  },
  {
   "cell_type": "markdown",
   "metadata": {},
   "source": [
    "0 特殊权限\n",
    "\n",
    "xor 抑或\n",
    "777 - 022 = 755"
   ]
  },
  {
   "cell_type": "code",
   "execution_count": 28,
   "metadata": {
    "tags": []
   },
   "outputs": [
    {
     "output_type": "stream",
     "name": "stdout",
     "text": "755\n"
    }
   ],
   "source": [
    "print(\"{:o}\".format(0o777 - 0o022))"
   ]
  },
  {
   "cell_type": "code",
   "execution_count": 29,
   "metadata": {
    "tags": []
   },
   "outputs": [
    {
     "output_type": "stream",
     "name": "stdout",
     "text": "\u001b[;1m# \u001b[0m\u001b[0m\u001b[93mfind\u001b[0m\u001b[37m\n\n在指定目录下查找文件\n\n\u001b[;1m## \u001b[0m 补充说明\n\n\u001b[0m\u001b[93mfind\u001b[0m\u001b[37m 命令 用来在指定目录下查找文件。任何位于参数之前的字符串都将被视为欲查\n找的目录名。如果使用该命令时，不设置任何参数，则 \u001b[0m\u001b[93mfind\u001b[0m\u001b[37m\n命令将在当前目录下查找子目录与文件。并且将查找到的子目录和文件全部进行显示。\n\n\u001b[;1m### \u001b[0m 语法\n\n\u001b[0m\u001b[93mfind\u001b[0m\u001b[37m(选项)(参数)\n\n\u001b[;1m### \u001b[0m 选项\n\n-amin<分钟>：查找在指定时间曾被存取过的文件或目录，单位以分钟计算；\n-anewer<参考文件或目录>：查找其存取时间较指定文件或目录的存取时间更接近\n现在的文件或目录；\n-atime<24 小时数>：查找在指定时间曾被存取过的文件或目录，单位以 24\n小时计算；\n-cmin<分钟>：查找在指定时间之时被更改过的文件或目录；\n-cnewer<参考文件或目录>查找其更改时间较指定文件或目录的更改时间更接近现\n在的文件或目录；\n-ctime<24 小时数>：查找在指定时间之时被更改的文件或目录，单位以 24\n小时计算；\n-daystart：从本日开始计算时间；\n-depth：从指定目录下最深层的子目录开始查找；\n-expty：寻找文件大小为 0 Byte\n的文件，或目录下没有任何子目录或文件的空目录；\n-exec<执行指令>：假设 \u001b[0m\u001b[93mfind\u001b[0m\u001b[37m 指令的回传值为 True，就执行该指令；\n-false：将 \u001b[0m\u001b[93mfind\u001b[0m\u001b[37m 指令的回传值皆设为 False；\n-fls<列表文件>：此参数的效果和指定“-ls”参数类似，但会把结果保存为指定\n的列表文件；\n-follow：排除符号连接；\n-fprint<列表文件>：此参数的效果和指定“-print”参数类似，但会把结\n果保存成指定的列表文件；\n-fprint0<列表文件>：此参数的效果和指定“-print0”参数类似，但会\n把结果保存成指定的列表文件；\n-fprintf<列表文件><输出格式>：此参数的效果和指定“-printf”参\n数类似，但会把结果保存成指定的列表文件；\n-fstype<文件系统类型>：只寻找该文件系统类型下的文件或目录；\n-gid<群组识别码>：查找符合指定之群组识别码的文件或目录；\n-group<群组名称>：查找符合指定之群组名称的文件或目录；\n-help 或--help：在线帮助；\n-ilname<范本样式>：此参数的效果和指定“-lname”参数类似，但忽略字\n符大小写的差别；\n-iname<范本样式>：此参数的效果和指定“-name”参数类似，但忽略字符大\n小写的差别；\n-inum<inode 编号>：查找符合指定的 inode 编号的文件或目录；\n-ipath<范本样式>：此参数的效果和指定“-path”参数类似，但忽略字符大\n小写的差别；\n-iregex<范本样式>：此参数的效果和指定“-regexe”参数类似，但忽略\n字符大小写的差别；\n-links<连接数目>：查找符合指定的硬连接数目的文件或目录；\n-lname<范本样式>：指定字符串作为寻找符号连接的范本样式；\n-ls：假设 \u001b[0m\u001b[93mfind\u001b[0m\u001b[37m 指令的回传值为\nTure，就将文件或目录名称列出到标准输出；\n-maxdepth<目录层级>：设置最大目录层级；\n-mindepth<目录层级>：设置最小目录层级；\n-mmin<分钟>：查找在指定时间曾被更改过的文件或目录，单位以分钟计算；\n-mount：此参数的效果和指定“-xdev”相同；\n-mtime<24 小时数>：查找在指定时间曾被更改过的文件或目录，单位以 24\n小时计算；\n-name<范本样式>：指定字符串作为寻找文件或目录的范本样式；\n-newer<参考文件或目录>：查找其更改时间较指定文件或目录的更改时间更接近现\n在的文件或目录；\n-nogroup：找出不属于本地主机群组识别码的文件或目录；\n-noleaf：不去考虑目录至少需拥有两个硬连接存在；\n-nouser：找出不属于本地主机用户识别码的文件或目录；\n-ok<执行指令>：此参数的效果和指定“-exec”类似，但在执行指令之前会先询\n问用户，若回答“y”或“Y”，则放弃执行命令；\n-path<范本样式>：指定字符串作为寻找目录的范本样式；\n-perm<权限数值>：查找符合指定的权限数值的文件或目录；\n-print：假设 \u001b[0m\u001b[93mfind\u001b[0m\u001b[37m 指令的回传值为 Ture，就将文件或目录名称列出到\n标准输出。格式为每列一个名称，每个名称前皆有“./”字符串；\n-print0：假设 \u001b[0m\u001b[93mfind\u001b[0m\u001b[37m 指令的回传值为\nTure，就将文件或目录名称列出到标准输出。格式为全部的名称皆在同一行；\n-printf<输出格式>：假设 \u001b[0m\u001b[93mfind\u001b[0m\u001b[37m 指令的回传值为\nTure，就将文件或目录名称列出到标准输出。格式可以自行指定；\n-prune：不寻找字符串作为寻找文件或目录的范本样式;\n-regex<范本样式>：指定字符串作为寻找文件或目录的范本样式；\n-size<文件大小>：查找符合指定的文件大小的文件；\n-true：将 \u001b[0m\u001b[93mfind\u001b[0m\u001b[37m 指令的回传值皆设为 True；\n-type<文件类型>：只寻找符合指定的文件类型的文件；\n-uid<用户识别码>：查找符合指定的用户识别码的文件或目录；\n-used<日数>：查找文件或目录被更改之后在指定时间曾被存取过的文件或目录，单\n位以日计算；\n-user<拥有者名称>：查找符和指定的拥有者名称的文件或目录；\n-version 或——version：显示版本信息；\n-xdev：将范围局限在先行的文件系统中；\n-xtype<文件类型>：此参数的效果和指定“-type”参数类似，差别在于它针\n对符号连接检查。\n\n\u001b[;1m### \u001b[0m 参数\n\n起始目录：查找文件的起始目录。\n\n\u001b[;1m### \u001b[0m 实例\n\n# 当前目录搜索所有文件，文件内容 包含 “140.206.111.111”\n的内容\n\u001b[0m\u001b[93mfind\u001b[0m\u001b[37m . -type f -name \"*\" | xargs grep\n\"140.206.111.111\"\n\n\u001b[;1m#### \u001b[0m 根据文件或者正则表达式进行匹配\n\n列出当前目录及子目录下所有文件和文件夹\n\n\u001b[0m\u001b[93mfind\u001b[0m\u001b[37m .\n\n在/home 目录下查找以.txt 结尾的文件名\n\n\u001b[0m\u001b[93mfind\u001b[0m\u001b[37m /home -name \"*.txt\"\n\n同上，但忽略大小写\n\n\u001b[0m\u001b[93mfind\u001b[0m\u001b[37m /home -iname \"*.txt\"\n\n当前目录及子目录下查找所有以.txt 和.pdf 结尾的文件\n\n\u001b[0m\u001b[93mfind\u001b[0m\u001b[37m . \\( -name \"*.txt\" -o -name \"*.pdf\"\n\\)\n\n或\n\n\u001b[0m\u001b[93mfind\u001b[0m\u001b[37m . -name \"*.txt\" -o -name \"*.pdf\"\n\n匹配文件路径或者文件\n\n\u001b[0m\u001b[93mfind\u001b[0m\u001b[37m /usr/ -path \"*local*\"\n\n基于正则表达式匹配文件路径\n\n\u001b[0m\u001b[93mfind\u001b[0m\u001b[37m . -regex \".*\\(\\.txt\\|\\.pdf\\)$\"\n\n同上，但忽略大小写\n\n\u001b[0m\u001b[93mfind\u001b[0m\u001b[37m . -iregex \".*\\(\\.txt\\|\\.pdf\\)$\"\n\n\u001b[;1m#### \u001b[0m 否定参数\n\n找出/home 下不是以.txt 结尾的文件\n\n\u001b[0m\u001b[93mfind\u001b[0m\u001b[37m /home ! -name \"*.txt\"\n\n\u001b[;1m#### \u001b[0m 根据文件类型进行搜索\n\n\u001b[0m\u001b[93mfind\u001b[0m\u001b[37m . -type 类型参数\n\n类型参数列表：\n\n- f  普通文件\n- l  符号连接\n- d  目录\n- c  字符设备\n- b  块设备\n- s  套接字\n- p  Fifo\n\n\u001b[;1m#### \u001b[0m 基于目录深度搜索\n\n向下最大深度限制为 3\n\n\u001b[0m\u001b[93mfind\u001b[0m\u001b[37m . -maxdepth 3 -type f\n\n搜索出深度距离当前目录至少 2 个子目录的所有文件\n\n\u001b[0m\u001b[93mfind\u001b[0m\u001b[37m . -mindepth 2 -type f\n\n\u001b[;1m#### \u001b[0m 根据文件时间戳进行搜索\n\n\u001b[0m\u001b[93mfind\u001b[0m\u001b[37m . -type f 时间戳\n\nUNIX/Linux 文件系统每个文件都有三种时间戳：\n\n- 访问时间 （-atime/天，-amin/分钟）：用户最近一次访问时间。\n- 修改时间 （-mtime/天，-mmin/分钟）：文件最后一次修改时间。\n- 变化时间 （-ctime/天，-cmin/分钟）：文件数据元（例如权限等）最\n后一次修改时间。\n\n搜索最近七天内被访问过的所有文件\n\n\u001b[0m\u001b[93mfind\u001b[0m\u001b[37m . -type f -atime -7\n\n搜索恰好在七天前被访问过的所有文件\n\n\u001b[0m\u001b[93mfind\u001b[0m\u001b[37m . -type f -atime 7\n\n搜索超过七天内被访问过的所有文件\n\n\u001b[0m\u001b[93mfind\u001b[0m\u001b[37m . -type f -atime +7\n\n搜索访问时间超过 10 分钟的所有文件\n\n\u001b[0m\u001b[93mfind\u001b[0m\u001b[37m . -type f -amin +10\n\n找出比 file.log 修改时间更长的所有文件\n\n\u001b[0m\u001b[93mfind\u001b[0m\u001b[37m . -type f -newer file.log\n\n\u001b[;1m#### \u001b[0m 根据文件大小进行匹配\n\n\u001b[0m\u001b[93mfind\u001b[0m\u001b[37m . -type f -size 文件大小单元\n\n文件大小单元：\n\n- b  —— 块（512 字节）\n- c  —— 字节\n- w  —— 字（2 字节）\n- k  —— 千字节\n- M  —— 兆字节\n- G  —— 吉字节\n\n搜索大于 10KB 的文件\n\n\u001b[0m\u001b[93mfind\u001b[0m\u001b[37m . -type f -size +10k\n\n搜索小于 10KB 的文件\n\n\u001b[0m\u001b[93mfind\u001b[0m\u001b[37m . -type f -size -10k\n\n搜索等于 10KB 的文件\n\n\u001b[0m\u001b[93mfind\u001b[0m\u001b[37m . -type f -size 10k\n\n\u001b[;1m#### \u001b[0m 删除匹配文件\n\n删除当前目录下所有.txt 文件\n\n\u001b[0m\u001b[93mfind\u001b[0m\u001b[37m . -type f -name \"*.txt\" -delete\n\n\u001b[;1m#### \u001b[0m 根据文件权限/所有权进行匹配\n\n当前目录下搜索出权限为 777 的文件\n\n\u001b[0m\u001b[93mfind\u001b[0m\u001b[37m . -type f -perm 777\n\n找出当前目录下权限不是 644 的 php 文件\n\n\u001b[0m\u001b[93mfind\u001b[0m\u001b[37m . -type f -name \"*.php\" ! -perm 644\n\n找出当前目录用户 tom 拥有的所有文件\n\n\u001b[0m\u001b[93mfind\u001b[0m\u001b[37m . -type f -user tom\n\n找出当前目录用户组 sunk 拥有的所有文件\n\n\u001b[0m\u001b[93mfind\u001b[0m\u001b[37m . -type f -group sunk\n\n\u001b[;1m#### \u001b[0m 借助-exec 选项与其他命令结合使用\n\n找出当前目录下所有 root 的文件，并把所有权更改为用户 tom\n\n\u001b[0m\u001b[93mfind\u001b[0m\u001b[37m .-type f -user root -exec chown tom\n{} \\;\n\n上例中， {}  用于与 -exec\n选项结合使用来匹配所有文件，然后会被替换为相应的文件名。\n\n找出自己家目录下所有的.txt 文件并删除\n\n\u001b[0m\u001b[93mfind\u001b[0m\u001b[37m $HOME/. -name \"*.txt\" -ok rm {} \\;\n\n上例中， -ok 和 -exec\n行为一样，不过它会给出提示，是否执行相应的操作。\n\n查找当前目录下所有.txt 文件并把他们拼接起来写入到 all.txt 文件中\n\n\u001b[0m\u001b[93mfind\u001b[0m\u001b[37m . -type f -name \"*.txt\" -exec cat\n{} \\;> /all.txt\n\n将 30 天前的.log 文件移动到 old 目录中\n\n\u001b[0m\u001b[93mfind\u001b[0m\u001b[37m . -type f -mtime +30 -name \"*.log\"\n-exec cp {} old \\;\n\n找出当前目录下所有.txt 文件并以“File:文件名”的形式打印出来\n\n\u001b[0m\u001b[93mfind\u001b[0m\u001b[37m . -type f -name \"*.txt\" -exec\nprintf \"File: %s\\n\" {} \\;\n\n因为单行命令中-exec 参数中无法使用多个命令，以下方法可以实现在-exec\n之后接受多条命令\n\n-exec ./text.sh {} \\;\n\n\u001b[;1m#### \u001b[0m 搜索但跳出指定的目录\n\n查找当前目录或者子目录下所有.txt 文件，但是跳过子目录 sk\n\n\u001b[0m\u001b[93mfind\u001b[0m\u001b[37m . -path \"./sk\" -prune -o -name\n\"*.txt\" -print\n\n\u001b[;1m#### \u001b[0m\u001b[0m\u001b[93mfind\u001b[0m\u001b[37m 其他技巧收集\n\n要列出所有长度为零的文件\n\n\u001b[0m\u001b[93mfind\u001b[0m\u001b[37m . -empty\n\n\u001b[;1m#### \u001b[0m 其它实例\n\n\u001b[0m\u001b[93mfind\u001b[0m\u001b[37m ~ -name '*jpg' # 主目录中找到所有的 jpg 文件。\n-name 参数允许你将结果限制为与给定模式匹配的文件。\n\u001b[0m\u001b[93mfind\u001b[0m\u001b[37m ~ -iname '*jpg' # -iname 就像\n-name，但是不区分大小写\n\u001b[0m\u001b[93mfind\u001b[0m\u001b[37m ~ ( -iname 'jpeg' -o -iname 'jpg' )\n# 一些图片可能是 .jpeg 扩展名。幸运的是，我们可以将模式用“或”（表示为\n-o）来组合。\n\u001b[0m\u001b[93mfind\u001b[0m\u001b[37m ~ \\( -iname '*jpeg' -o -iname\n'*jpg' \\) -type f # 如果你有一些以 jpg 结尾的目录呢？\n（为什么你要命名一个 bucketofjpg 而不是 pictures\n的目录就超出了本文的范围。）我们使用 -type 参数修改我们的命令来查找文件。\n\u001b[0m\u001b[93mfind\u001b[0m\u001b[37m ~ \\( -iname '*jpeg' -o -iname\n'*jpg' \\) -type d #\n也许你想找到那些命名奇怪的目录，以便稍后重命名它们\n\n最近拍了很多照片，所以让我们把它缩小到上周更改的文件\n\n\u001b[0m\u001b[93mfind\u001b[0m\u001b[37m ~ \\( -iname '*jpeg' -o -iname\n'*jpg' \\) -type f -mtime -7\n\n你可以根据文件状态更改时间 （ctime）、修改时间 （mtime） 或访问时间\n（atime） 来执行时间过滤。\n这些是在几天内，所以如果你想要更细粒度的控制，你可以表示为在几分钟内（分别是\ncmin、mmin 和 amin）。\n除非你确切地知道你想要的时间，否则你可能会在 + （大于）或 -\n（小于）的后面加上数字。\n\n但也许你不关心你的照片。也许你的磁盘空间不够用，所以你想在 log\n目录下找到所有巨大的（让我们定义为“大于 1GB”）文件：\n\n\u001b[0m\u001b[93mfind\u001b[0m\u001b[37m /var/log -size +1G\n\n或者，也许你想在 /data 中找到 bcotton 拥有的所有文件：\n\n\u001b[0m\u001b[93mfind\u001b[0m\u001b[37m /data -owner bcotton\n\n你还可以根据权限查找文件。也许你想在你的主目录中找到对所有人可读的文件，以确保你\n不会过度分享。\n\n\u001b[0m\u001b[93mfind\u001b[0m\u001b[37m ~ -perm -o=r\n\n删除 mac 下自动生成的文件\n\n\u001b[0m\u001b[93mfind\u001b[0m\u001b[37m ./ -name '__MACOSX' -depth -exec rm\n-rf {} \\;\n\n统计代码行数\n\n\u001b[0m\u001b[93mfind\u001b[0m\u001b[37m . -name \"*.java\"|xargs cat|grep -v\n^$|wc -l # 代码行数统计, 排除空行\n\n"
    }
   ],
   "source": [
    "!how find"
   ]
  },
  {
   "cell_type": "code",
   "execution_count": 31,
   "metadata": {},
   "outputs": [],
   "source": [
    "find [搜索范围] [匹配条件]"
   ]
  },
  {
   "cell_type": "code",
   "execution_count": 41,
   "metadata": {
    "tags": []
   },
   "outputs": [
    {
     "output_type": "stream",
     "name": "stdout",
     "text": "/home/ulysses/Downloads/thrift-0.11.0/test/haxe/python.hxml\n/home/ulysses/Downloads/thrift-0.11.0/lib/haxe/test/python.hxml\n/home/ulysses/Downloads/thrift-0.11.0/tutorial/haxe/python.hxml\n"
    }
   ],
   "source": [
    "# 根据文件名查找  ?单个字符\n",
    "!find /home/ulysses/Downloads -name python*"
   ]
  },
  {
   "cell_type": "code",
   "execution_count": 45,
   "metadata": {
    "tags": []
   },
   "outputs": [
    {
     "output_type": "stream",
     "name": "stdout",
     "text": "./test\n"
    }
   ],
   "source": [
    "!find . -name test"
   ]
  },
  {
   "cell_type": "code",
   "execution_count": 46,
   "metadata": {
    "tags": []
   },
   "outputs": [
    {
     "output_type": "stream",
     "name": "stdout",
     "text": "./TEST\n./test\n"
    }
   ],
   "source": [
    "# 忽略大小写\n",
    "!find . -iname test"
   ]
  },
  {
   "cell_type": "code",
   "execution_count": 50,
   "metadata": {
    "tags": []
   },
   "outputs": [
    {
     "output_type": "stream",
     "name": "stdout",
     "text": "../.git/index\n../.git/objects\n../.git/objects/pack/pack-e1fca7c205c601d3cd0ce13ca2331dad64b1052f.idx\n../.git/objects/pack/pack-e1fca7c205c601d3cd0ce13ca2331dad64b1052f.pack\n../interview/interview_1.py\n../linux/常用命令.ipynb\n"
    }
   ],
   "source": [
    "# 根据大小查找 +大于 -小于\n",
    "# 一个数据块512字节 0.5k   大于10k\n",
    "!find ../ -size +20"
   ]
  },
  {
   "cell_type": "code",
   "execution_count": null,
   "metadata": {},
   "outputs": [],
   "source": [
    "# 根据所有者\n",
    "find /home -user ulysses"
   ]
  },
  {
   "cell_type": "code",
   "execution_count": null,
   "metadata": {},
   "outputs": [],
   "source": [
    "# 根据时间属性 5分内被修改属性\n",
    "find /home -cmin -5"
   ]
  },
  {
   "cell_type": "markdown",
   "metadata": {},
   "source": [
    "- amin: 访问时间 access\n",
    "- cmin: 文件属性 change\n",
    "- mmin: 文件内容 modify "
   ]
  },
  {
   "cell_type": "code",
   "execution_count": 53,
   "metadata": {
    "tags": []
   },
   "outputs": [
    {
     "output_type": "stream",
     "name": "stdout",
     "text": "./常用命令.ipynb\n"
    }
   ],
   "source": [
    "!find ./ -cmin -5"
   ]
  },
  {
   "cell_type": "code",
   "execution_count": null,
   "metadata": {},
   "outputs": [],
   "source": [
    "# -a(and) 2个条件同时满足\n",
    "# -o or\n",
    "find /etc -size +1638400 -a -size -204800"
   ]
  },
  {
   "cell_type": "code",
   "execution_count": 56,
   "metadata": {
    "tags": []
   },
   "outputs": [
    {
     "output_type": "stream",
     "name": "stdout",
     "text": "./TEST\n./test\n./test.hard\n./常用命令.ipynb\n"
    }
   ],
   "source": [
    "# 文件\n",
    "!find ./ -type f"
   ]
  },
  {
   "cell_type": "code",
   "execution_count": 62,
   "metadata": {
    "tags": []
   },
   "outputs": [
    {
     "output_type": "stream",
     "name": "stdout",
     "text": "-rwxrwxrwx 2 root root 0 9月   9 13:50 ./test\n"
    }
   ],
   "source": [
    "# -exec/-ok 命令 {} \\; 对搜索结果执行操作\n",
    "!find ./ -name test -exec ls -l {} \\;"
   ]
  },
  {
   "cell_type": "code",
   "execution_count": 63,
   "metadata": {
    "tags": []
   },
   "outputs": [
    {
     "output_type": "stream",
     "name": "stdout",
     "text": "\u001b[;1m# \u001b[0m\u001b[0m\u001b[93mlocate\u001b[0m\u001b[37m\n\n比 find 好用的文件查找工具\n\n\u001b[;1m## \u001b[0m 补充说明\n\n\u001b[0m\u001b[93mlocate\u001b[0m\u001b[37m 让使用者可以很快速的搜寻档案系统内是否有指定的档案。其方法是先建立\n一个包括系统内所有档案名称及路径的数据库，之后当寻找时就只需查询这个数据库，而不\n必实际深入档案系统之中了。在一般的 distribution\n之中，数据库的建立都被放在 crontab 中自动执行。\n\n\u001b[0m\u001b[93mlocate\u001b[0m\u001b[37m 命令可以在搜寻数据库时快速找到档案，数据库由 updatedb\n程序来更新，updatedb 是由 cron daemon\n周期性建立的，\u001b[0m\u001b[93mlocate\u001b[0m\u001b[37m\n命令在搜寻数据库时比由整个由硬盘资料来搜寻资料来得快，但较差劲的是 \u001b[0m\u001b[93mlocate\u001b[0m\u001b[37m\n所找到的档案若是最近才建立或\n刚更名的，可能会找不到，在内定值中，updatedb 每天会跑一次，可以由修改\ncrontab 来更新设定值。(etc/crontab)\n\n\u001b[0m\u001b[93mlocate\u001b[0m\u001b[37m 指定用在搜寻符合条件的档案，它会去储存档案与目录名称的数据库内，寻\n找合乎范本样式条件的档案或目录录，可以使用特殊字元（如””\n或”?”等）来指定范本样式，如指定范本为 kcpaner, \u001b[0m\u001b[93mlocate\u001b[0m\u001b[37m\n会找出所有起始字串为 kcpa 且结尾为 ner 的档案或目录，如名称为\nkcpartner 若目录录名称为 kcpa_ner 则会列出该目录下包括\n子目录在内的所有档案。\n\n\u001b[0m\u001b[93mlocate\u001b[0m\u001b[37m 指令和 find 找寻档案的功能类似，但 \u001b[0m\u001b[93mlocate\u001b[0m\u001b[37m 是透过\nupdate 程序将硬盘中的所有档案和目录资料先建立一个索引数据库，在 执行\nloacte\n时直接找该索引，查询速度会较快，索引数据库一般是由操作系统管理，但也可以直接下达\nupdate 强迫系统立即修改索引数据库。\n\n\u001b[;1m### \u001b[0m 语法\n\n\u001b[0m\u001b[93mlocate\u001b[0m\u001b[37m [选择参数] [样式]\n\n\u001b[;1m### \u001b[0m 选项\n\n-e 将排除在寻找的范围之外。\n-1 如果 是 1．则启动安全模式。在安全模式下，使用者不会看到权限无法看到\n的档案。这会始速度减慢，因为 \u001b[0m\u001b[93mlocate\u001b[0m\u001b[37m 必须至实际的档案系统中取得档案的\n权限资料。\n-f 将特定的档案系统排除在外，例如我们没有到理要把 proc 档案系统中的档案\n放在资料库中。\n-q 安静模式，不会显示任何错误讯息。\n-n 至多显示 n 个输出。\n-r 使用正规运算式 做寻找的条件。\n-o 指定资料库存的名称。\n-d 指定资料库的路径\n-h 显示辅助讯息\n-V 显示程式的版本讯息\n\n\u001b[;1m### \u001b[0m 实例\n\n实例 1：查找和 pwd 相关的所有文件\n\nroot ~ # \u001b[0m\u001b[93mlocate\u001b[0m\u001b[37m pwd\n/bin/pwd\n/etc/.pwd.lock\n/sbin/unix_chkpwd\n/usr/bin/pwdx\n/usr/include/pwd.h\n/usr/lib/python2.7/dist-\npackages/twisted/python/fakepwd.py\n/usr/lib/python2.7/dist-\npackages/twisted/python/fakepwd.pyc\n/usr/lib/python2.7/dist-packages/twisted\n/python/test/test_fakepwd.py\n/usr/lib/python2.7/dist-packages/twisted\n/python/test/test_fakepwd.pyc\n/usr/lib/syslinux/pwd.c32\n/usr/share/help/C/empathy/irc-join-\npwd.page\n/usr/share/help/ca/empathy/irc-join-\npwd.page\n/usr/share/help/cs/empathy/irc-join-\npwd.page\n/usr/share/help/de/empathy/irc-join-\npwd.page\n/usr/share/help/el/empathy/irc-join-\npwd.page\n\n实例 2： 搜索 etc 目录下所有以 sh 开头的文件\n\nroot ~ # \u001b[0m\u001b[93mlocate\u001b[0m\u001b[37m /etc/sh\n/etc/shadow\n/etc/shadow-\n/etc/shells\n\n实例 3：搜索 etc 目录下，所有以 m 开头的文件\n\nroot ~ # \u001b[0m\u001b[93mlocate\u001b[0m\u001b[37m /etc/m\n/etc/magic\n/etc/magic.mime\n/etc/mailcap\n/etc/mailcap.order\n/etc/manpath.config\n/etc/mate-settings-daemon\n\n"
    }
   ],
   "source": [
    "# 在文件资料库中查找文件  updatedb\n",
    "!how locate"
   ]
  },
  {
   "cell_type": "code",
   "execution_count": 65,
   "metadata": {
    "tags": []
   },
   "outputs": [],
   "source": [
    "!locate python"
   ]
  },
  {
   "cell_type": "code",
   "execution_count": 66,
   "metadata": {
    "tags": []
   },
   "outputs": [
    {
     "output_type": "stream",
     "name": "stdout",
     "text": "\u001b[;1m# \u001b[0m\u001b[0m\u001b[93mwhich\u001b[0m\u001b[37m\n\n查找并显示给定命令的绝对路径\n\n\u001b[;1m## \u001b[0m 补充说明\n\n\u001b[0m\u001b[93mwhich\u001b[0m\u001b[37m 命令 用于查找并显示给定命令的绝对路径，环境变量 PATH\n中保存了查找命令时需要遍历的目录。\u001b[0m\u001b[93mwhich\u001b[0m\u001b[37m 指令会在环境变量$PATH\n设置的目录里查找符合条件的文件。也就是说，使用 \u001b[0m\u001b[93mwhich\u001b[0m\u001b[37m\n命令，就可以看到某个系统命令是否存在，以及执行的到底是哪一个位置的命令。\n\n\u001b[;1m### \u001b[0m 语法\n\n\u001b[0m\u001b[93mwhich\u001b[0m\u001b[37m(选项)(参数)\n\n\u001b[;1m### \u001b[0m 选项\n\n-n<文件名长度>：制定文件名长度，指定的长度必须大于或等于所有文件中最长的文件\n名；\n-p<文件名长度>：与-n 参数相同，但此处的<文件名长度>包含了文件的路径；\n-w：指定输出时栏位的宽度；\n-V：显示版本信息。\n\n\u001b[;1m### \u001b[0m 参数\n\n指令名：指令名列表。\n\n\u001b[;1m### \u001b[0m 实例\n\n查找文件、显示命令路径：\n\n[root@localhost ~]# \u001b[0m\u001b[93mwhich\u001b[0m\u001b[37m pwd\n/bin/pwd\n\n[root@localhost ~]# \u001b[0m\u001b[93mwhich\u001b[0m\u001b[37m adduser\n/usr/sbin/adduser\n\n说明：\u001b[0m\u001b[93mwhich\u001b[0m\u001b[37m 是根据使用者所配置的 PATH 变量内的目录去搜寻可运行档的！\n所以，不同的 PATH 配置内容所找到的命令当然不一样的！\n\n用 \u001b[0m\u001b[93mwhich\u001b[0m\u001b[37m 去找出 cd\n\n[root@localhost ~]# \u001b[0m\u001b[93mwhich\u001b[0m\u001b[37m cd\ncd: shell built-in command\n\ncd 这个常用的命令竟然找不到啊！为什么呢？这是因为 cd 是 bash\n内建的命令！ 但是 \u001b[0m\u001b[93mwhich\u001b[0m\u001b[37m 默认是找 PATH\n内所规范的目录，所以当然一定找不到的！\n\n"
    }
   ],
   "source": [
    "!how which"
   ]
  },
  {
   "cell_type": "code",
   "execution_count": 67,
   "metadata": {
    "tags": []
   },
   "outputs": [
    {
     "output_type": "stream",
     "name": "stdout",
     "text": "/home/ulysses/anaconda3/bin/python3\n"
    }
   ],
   "source": [
    "!which python3"
   ]
  },
  {
   "cell_type": "code",
   "execution_count": 74,
   "metadata": {
    "tags": []
   },
   "outputs": [
    {
     "output_type": "stream",
     "name": "stdout",
     "text": "\u001b[;1m# \u001b[0m\u001b[0m\u001b[93mwhereis\u001b[0m\u001b[37m\n\n查找二进制程序、代码等相关文件路径\n\n\u001b[;1m## \u001b[0m 补充说明\n\n\u001b[0m\u001b[93mwhereis\u001b[0m\u001b[37m 命令 用来定位指令的二进制程序、源代码文件和 man\n手册页等相关文件的路径。\n\n\u001b[0m\u001b[93mwhereis\u001b[0m\u001b[37m\n命令只能用于程序名的搜索，而且只搜索二进制文件（参数-b）、man\n说明文件（参数-m）和源代码文件（参数-s）。如果省略参数，则返回所有信息。\n\n和 find 相比，\u001b[0m\u001b[93mwhereis\u001b[0m\u001b[37m 查找的速度非常快，这是因为 linux\n系统会将 系统内的所有文件都记录在一个数据库文件中，当使用 \u001b[0m\u001b[93mwhereis\u001b[0m\u001b[37m\n和下面即将介绍的 locate 时，会从数据库中查找数据，而不是像 find\n命令那样，通 过遍历硬盘来查找，效率自然会很高。\n但是该数据库文件并不是实时更新，默认情况下时一星期更新一次，因此，我们在用\n\u001b[0m\u001b[93mwhereis\u001b[0m\u001b[37m 和 locate 查找文件时，有时会找到已经被删除的数据，或者刚\n刚建立文件，却无法查找到，原因就是因为数据库文件没有被更新。\n\n\u001b[;1m### \u001b[0m 语法\n\n\u001b[0m\u001b[93mwhereis\u001b[0m\u001b[37m(选项)(参数)\n\n\u001b[;1m### \u001b[0m 选项\n\n-b：只查找二进制文件；\n-B<目录>：只在设置的目录下查找二进制文件；\n-f：不显示文件名前的路径名称；\n-m：只查找说明文件；\n-M<目录>：只在设置的目录下查找说明文件；\n-s：只查找原始代码文件；\n-S<目录>只在设置的目录下查找原始代码文件；\n-u：查找不包含指定类型的文件。\n\n\u001b[;1m### \u001b[0m 参数\n\n指令名：要查找的二进制程序、源文件和 man 手册页的指令名。\n\n\u001b[;1m### \u001b[0m 实例\n\n将相关的文件都查找出来\n\n[root@localhost ~]# \u001b[0m\u001b[93mwhereis\u001b[0m\u001b[37m tomcat\ntomcat:\n\n[root@localhost ~]# \u001b[0m\u001b[93mwhereis\u001b[0m\u001b[37m svn\nsvn: /usr/bin/svn /usr/local/svn\n/usr/share/man/man1/svn.1.gz\n\n说明：tomcat 没安装，找不出来，svn 安装找出了很多相关文件\n\n只将二进制文件查找出来\n\n[root@localhost ~]# \u001b[0m\u001b[93mwhereis\u001b[0m\u001b[37m -b svn\nsvn: /usr/bin/svn /usr/local/svn\n\n[root@localhost ~]# \u001b[0m\u001b[93mwhereis\u001b[0m\u001b[37m -m svn\nsvn: /usr/share/man/man1/svn.1.gz\n\n[root@localhost ~]# \u001b[0m\u001b[93mwhereis\u001b[0m\u001b[37m -s svn\nsvn:\n\n说明：\u001b[0m\u001b[93mwhereis\u001b[0m\u001b[37m -m svn\n查出说明文档路径，\u001b[0m\u001b[93mwhereis\u001b[0m\u001b[37m -s svn 找 source 源文件。\n\n"
    }
   ],
   "source": [
    "!how whereis"
   ]
  },
  {
   "cell_type": "code",
   "execution_count": 76,
   "metadata": {
    "tags": []
   },
   "outputs": [
    {
     "output_type": "stream",
     "name": "stdout",
     "text": "python3: /usr/bin/python3 /usr/bin/python3.7m-config /usr/bin/python3.7m /usr/bin/python3.7-config /usr/bin/python3.7 /usr/lib/python3 /usr/lib/python3.7 /etc/python3 /etc/python3.7 /usr/local/lib/python3.7 /usr/include/python3.7m /usr/include/python3.7 /usr/share/python3 /home/ulysses/anaconda3/bin/python3 /home/ulysses/anaconda3/bin/python3.7m-config /home/ulysses/anaconda3/bin/python3.7m /home/ulysses/anaconda3/bin/python3.7-config /home/ulysses/anaconda3/bin/python3.7 /usr/share/man/man1/python3.1.gz\n"
    }
   ],
   "source": [
    "!whereis python3"
   ]
  },
  {
   "cell_type": "code",
   "execution_count": 77,
   "metadata": {
    "tags": []
   },
   "outputs": [
    {
     "output_type": "stream",
     "name": "stdout",
     "text": "\u001b[;1m# \u001b[0m\u001b[0m\u001b[93mgrep\u001b[0m\u001b[37m\n\n强大的文本搜索工具\n\n\u001b[;1m## \u001b[0m 补充说明\n\n\u001b[0m\u001b[93mgrep\u001b[0m\u001b[37m （global search regular\nexpression(RE) and print out the line，全面\n搜索正则表达式并把行打印出来）是一种强大的文本搜索工具，它能使用正则表达式搜索文\n本，并把匹配的行打印出来。用于过滤/搜索的特定字符。可使用正则表达式能多种命令配\n合使用，使用上十分灵活。\n\n\u001b[;1m### \u001b[0m 选项\n\n-a --text  # 不要忽略二进制数据。\n-A <显示行数>   --after-context=<显示行数>   #\n除了显示符合范本样式的那一行之外，并显示该行之后的内容。\n-b --byte-offset\n# 在显示符合范本样式的那一行之外，并显示该行之前的内容。\n-B<显示行数>   --before-context=<显示行数>   #\n除了显示符合样式的那一行之外，并显示该行之前的内容。\n-c --count    # 计算符合范本样式的列数。\n-C<显示行数> --context=<显示行数>或-<显示行数> #\n除了显示符合范本样式的那一列之外，并显示该列之前后的内容。\n-d<进行动作> --directories=<动作>  #\n当指定要查找的是目录而非文件时，必须使用这项参数，否则 \u001b[0m\u001b[93mgrep\u001b[0m\u001b[37m\n命令将回报信息并停止动作。\n-e<范本样式> --regexp=<范本样式>   #\n指定字符串作为查找文件内容的范本样式。\n-E --extended-regexp             #\n将范本样式为延伸的普通表示法来使用，意味着使用能使用扩展正则表达式。\n-f<范本文件> --file=<规则文件>     #\n指定范本文件，其内容有一个或多个范本样式，让 \u001b[0m\u001b[93mgrep\u001b[0m\u001b[37m\n查找符合范本条件的文件内容，格式为每一列的范本样式。\n-F --fixed-regexp   # 将范本样式视为固定字符串的列表。\n-G --basic-regexp   # 将范本样式视为普通的表示法来使用。\n-h --no-filename    #\n在显示符合范本样式的那一列之前，不标示该列所属的文件名称。\n-H --with-filename  #\n在显示符合范本样式的那一列之前，标示该列的文件名称。\n-i --ignore-case    # 忽略字符大小写的差别。\n-l --file-with-matches   #\n列出文件内容符合指定的范本样式的文件名称。\n-L --files-without-match #\n列出文件内容不符合指定的范本样式的文件名称。\n-n --line-number         #\n在显示符合范本样式的那一列之前，标示出该列的编号。\n-P --perl-regexp         # PATTERN 是一个\nPerl 正则表达式\n-q --quiet 或--silent     # 不显示任何信息。\n-R/-r  --recursive       # 此参数的效果和指定“-d\nrecurse”参数相同。\n-s --no-messages  # 不显示错误信息。\n-v --revert-match # 反转查找。\n-V --version      # 显示版本信息。\n-w --word-regexp  # 只显示全字符合的列。\n-x --line-regexp  # 只显示全列符合的列。\n-y # 此参数效果跟“-i”相同。\n-o # 只输出文件中匹配到的部分。\n-m <num> --max-count=<num> # 找到 num\n行结果后停止查找，用来限制匹配行数\n\n\u001b[;1m### \u001b[0m 规则表达式\n\n^    # 锚定行的开始 如：'^\u001b[0m\u001b[93mgrep\u001b[0m\u001b[37m'匹配所有以 \u001b[0m\u001b[93mgrep\u001b[0m\u001b[37m 开头的行。\n$    # 锚定行的结束 如：'\u001b[0m\u001b[93mgrep\u001b[0m\u001b[37m$' 匹配所有以 \u001b[0m\u001b[93mgrep\u001b[0m\u001b[37m 结尾的行。\n.    # 匹配一个非换行符的字符 如：'gr.p'匹配 gr\n后接一个任意字符，然后是 p。\n*    # 匹配零个或多个先前字符\n如：'*\u001b[0m\u001b[93mgrep\u001b[0m\u001b[37m'匹配所有一个或多个空格后紧跟 \u001b[0m\u001b[93mgrep\u001b[0m\u001b[37m 的行。\n.*   # 一起用代表任意字符。\n[]   # 匹配一个指定范围内的字符，如'[Gg]rep'匹配 \u001b[0m\u001b[93mgrep\u001b[0m\u001b[37m 和\n\u001b[0m\u001b[93mgrep\u001b[0m\u001b[37m。\n[^]  #\n匹配一个不在指定范围内的字符，如：'[^A-FH-Z]rep'匹配不包含 A-R\n和 T-Z 的一个字母开头，紧跟 rep 的行。\n\\(..\\)  # 标记匹配字符，如'\\(love\\)'，love 被标记为\n1。\n\\<      # 锚定单词的开始，如:'\\<\u001b[0m\u001b[93mgrep\u001b[0m\u001b[37m'匹配包含以 \u001b[0m\u001b[93mgrep\u001b[0m\u001b[37m\n开头的单词的行。\n\\>      # 锚定单词的结束，如'\u001b[0m\u001b[93mgrep\u001b[0m\u001b[37m\\>'匹配包含以 \u001b[0m\u001b[93mgrep\u001b[0m\u001b[37m\n结尾的单词的行。\nx\\{m\\}  # 重复字符 x，m 次，如：'0\\{5\\}'匹配包含 5 个\no 的行。\nx\\{m,\\}   # 重复字符 x,至少 m\n次，如：'o\\{5,\\}'匹配至少有 5 个 o 的行。\nx\\{m,n\\}  # 重复字符 x，至少 m 次，不多于 n\n次，如：'o\\{5,10\\}'匹配 5--10 个 o 的行。\n\\w    # 匹配文字和数字字符，也就是\n[A-Za-z0-9]，如：'G\\w*p'匹配以 G\n后跟零个或多个文字或数字字符，然后是 p。\n\\W    # \\w 的反置形式，匹配一个或多个非单词字符，如点号句号等。\n\\b    # 单词锁定符，如: '\\b\u001b[0m\u001b[93mgrep\u001b[0m\u001b[37m\\b'只匹配 \u001b[0m\u001b[93mgrep\u001b[0m\u001b[37m。\n\n\u001b[;1m## \u001b[0m\u001b[0m\u001b[93mgrep\u001b[0m\u001b[37m 命令常见用法\n\n在文件中搜索一个单词，命令会返回一个包含 “match_pattern”\n的文本行：\n\n\u001b[0m\u001b[93mgrep\u001b[0m\u001b[37m match_pattern file_name\n\u001b[0m\u001b[93mgrep\u001b[0m\u001b[37m \"match_pattern\" file_name\n\n在多个文件中查找：\n\n\u001b[0m\u001b[93mgrep\u001b[0m\u001b[37m \"match_pattern\" file_1 file_2\nfile_3 ...\n\n输出除之外的所有行  -v  选项：\n\n\u001b[0m\u001b[93mgrep\u001b[0m\u001b[37m -v \"match_pattern\" file_name\n\n标记匹配颜色  --color=auto  选项：\n\n\u001b[0m\u001b[93mgrep\u001b[0m\u001b[37m \"match_pattern\" file_name\n--color=auto\n\n使用正则表达式  -E  选项：\n\n\u001b[0m\u001b[93mgrep\u001b[0m\u001b[37m -E \"[1-9]+\"\n# 或\ne\u001b[0m\u001b[93mgrep\u001b[0m\u001b[37m \"[1-9]+\"\n\n使用正则表达式  -P  选项：\n\n\u001b[0m\u001b[93mgrep\u001b[0m\u001b[37m -P \"(\\d{3}\\-){2}\\d{4}\" file_name\n\n只输出文件中匹配到的部分  -o  选项：\n\necho this is a test line. | \u001b[0m\u001b[93mgrep\u001b[0m\u001b[37m -o -E\n\"[a-z]+\\.\"\nline.\n\necho this is a test line. | e\u001b[0m\u001b[93mgrep\u001b[0m\u001b[37m -o\n\"[a-z]+\\.\"\nline.\n\n统计文件或者文本中包含匹配字符串的行数  -c  选项：\n\n\u001b[0m\u001b[93mgrep\u001b[0m\u001b[37m -c \"text\" file_name\n\n输出包含匹配字符串的行数  -n  选项：\n\n\u001b[0m\u001b[93mgrep\u001b[0m\u001b[37m \"text\" -n file_name\n# 或\ncat file_name | \u001b[0m\u001b[93mgrep\u001b[0m\u001b[37m \"text\" -n\n\n#多个文件\n\u001b[0m\u001b[93mgrep\u001b[0m\u001b[37m \"text\" -n file_1 file_2\n\n打印样式匹配所位于的字符或字节偏移：\n\necho gun is not unix | \u001b[0m\u001b[93mgrep\u001b[0m\u001b[37m -b -o \"not\"\n7:not\n#一行中字符串的字符便宜是从该行的第一个字符开始计算，起始值为 0。选项\n**-b -o**  一般总是配合使用。\n\n搜索多个文件并查找匹配文本在哪些文件中：\n\n\u001b[0m\u001b[93mgrep\u001b[0m\u001b[37m -l \"text\" file1 file2 file3...\n\n\u001b[;1m### \u001b[0m\u001b[0m\u001b[93mgrep\u001b[0m\u001b[37m 递归搜索文件\n\n在多级目录中对文本进行递归搜索：\n\n\u001b[0m\u001b[93mgrep\u001b[0m\u001b[37m \"text\" . -r -n\n# .表示当前目录。\n\n忽略匹配样式中的字符大小写：\n\necho \"hello world\" | \u001b[0m\u001b[93mgrep\u001b[0m\u001b[37m -i \"HELLO\"\n# hello\n\n选项  -e  制动多个匹配样式：\n\necho this is a text line | \u001b[0m\u001b[93mgrep\u001b[0m\u001b[37m -e \"is\"\n-e \"line\" -o\nis\nline\n\n#也可以使用 **-f**\n选项来匹配多个样式，在样式文件中逐行写出需要匹配的字符。\ncat patfile\naaa\nbbb\n\necho aaa bbb ccc ddd eee | \u001b[0m\u001b[93mgrep\u001b[0m\u001b[37m -f\npatfile -o\n\n在 \u001b[0m\u001b[93mgrep\u001b[0m\u001b[37m 搜索结果中包括或者排除指定文件：\n\n# 只在目录中所有的.php 和.html 文件中递归搜索字符\"main()\"\n\u001b[0m\u001b[93mgrep\u001b[0m\u001b[37m \"main()\" . -r --include\n*.{php,html}\n\n# 在搜索结果中排除所有 README 文件\n\u001b[0m\u001b[93mgrep\u001b[0m\u001b[37m \"main()\" . -r --exclude \"README\"\n\n# 在搜索结果中排除 filelist 文件列表里的文件\n\u001b[0m\u001b[93mgrep\u001b[0m\u001b[37m \"main()\" . -r --exclude-from\nfilelist\n\n\n使用 0 值字节后缀的 \u001b[0m\u001b[93mgrep\u001b[0m\u001b[37m 与 xargs：\n\n# 测试文件：\necho \"aaa\" > file1\necho \"bbb\" > file2\necho \"aaa\" > file3\n\n\u001b[0m\u001b[93mgrep\u001b[0m\u001b[37m \"aaa\" file* -lZ | xargs -0 rm\n\n# 执行后会删除 file1 和 file3，\u001b[0m\u001b[93mgrep\u001b[0m\u001b[37m 输出用-Z 选项来指定以\n0 值字节作为终结符文件名（\\0），xargs -0 读取输入并用 0\n值字节终结符分隔文件名，然后删除匹配文件，-Z 通常和-l 结合使用。\n\n\u001b[0m\u001b[93mgrep\u001b[0m\u001b[37m 静默输出：\n\n\u001b[0m\u001b[93mgrep\u001b[0m\u001b[37m -q \"test\" filename\n# 不会输出任何信息，如果命令运行成功返回 0，失败则返回非 0\n值。一般用于条件测试。\n\n打印出匹配文本之前或者之后的行：\n\n# 显示匹配某个结果之后的 3 行，使用 -A 选项：\nseq 10 | \u001b[0m\u001b[93mgrep\u001b[0m\u001b[37m \"5\" -A 3\n5\n6\n7\n8\n\n# 显示匹配某个结果之前的 3 行，使用 -B 选项：\nseq 10 | \u001b[0m\u001b[93mgrep\u001b[0m\u001b[37m \"5\" -B 3\n2\n3\n4\n5\n\n# 显示匹配某个结果的前三行和后三行，使用 -C 选项：\nseq 10 | \u001b[0m\u001b[93mgrep\u001b[0m\u001b[37m \"5\" -C 3\n2\n3\n4\n5\n6\n7\n8\n\n# 如果匹配结果有多个，会用“--”作为各匹配结果之间的分隔符：\necho -e \"a\\nb\\nc\\na\\nb\\nc\" | \u001b[0m\u001b[93mgrep\u001b[0m\u001b[37m a -A 1\na\nb\n--\na\nb\n\n"
    }
   ],
   "source": [
    "!how grep"
   ]
  },
  {
   "cell_type": "code",
   "execution_count": 79,
   "metadata": {
    "tags": []
   },
   "outputs": [
    {
     "output_type": "stream",
     "name": "stdout",
     "text": "3:c\n4:C\n"
    }
   ],
   "source": [
    "# grep -v ^#  过滤#开头的注释信息\n",
    "!grep -in \"c\" ./test"
   ]
  },
  {
   "cell_type": "code",
   "execution_count": 4,
   "metadata": {
    "tags": []
   },
   "outputs": [
    {
     "output_type": "stream",
     "name": "stdout",
     "text": "passwd: /usr/bin/passwd /etc/passwd /usr/share/man/man1/passwd.1ssl.gz /usr/share/man/man1/passwd.1.gz /usr/share/man/man5/passwd.5.gz\n"
    }
   ],
   "source": [
    "# 1命令 5配置\n",
    "!whereis passwd"
   ]
  },
  {
   "cell_type": "code",
   "execution_count": 5,
   "metadata": {
    "tags": []
   },
   "outputs": [
    {
     "output_type": "stream",
     "name": "stdout",
     "text": "PASSWD(5)                       文件格式和转化                       PASSWD(5)\n\n名称\n       passwd - 密码文件\n\n描述\n       /etc/passwd 为每个用户账户包含一行，包含使用冒号 (“:”) 分隔的七个字\n       段，分别是：\n\n       •   登录名\n\n       •   可选的加密后的密码\n\n       •   数字用户 ID\n\n       •   数字组 ID\n\n       •   用户名和注释字段\n\n       •   用户主目录\n\n       •   可选的用户命令解释器\n\n       加密的密码字段可以为空，此时使用指定的登录名登录时不会要求认证。然\n       而，如果 password 为空，一些读取 /etc/passwd 文件的程序可能会不允许 任\n       何 访问。如果 password 字段是一个小写的 “x”，那么加密的密码实际上存储于\n       shadow(5) 中；在 /etc/shadow 文件中 必须 有对应的行，否则用户账户就会无\n       效。如果 password 字段是其他任何字符串，将会被视为加密过的密码，如\n       crypt(3) 中的说明。\n\n       此注释字段被多个系统工具使用，例如 finger(1)。\n\n       主目录字段提供了初始工作目录的名称。login 程序根据此信息设置 $HOME 环境\n       变量。\n\n       命令解释器字段提供了用户命令语言解释器的名称，或者开始时执行的程序的名\n       称。login 程序使用此信息设置 $SHELL 环境变量的值。如果字段为空，默认值\n       为 /bin/sh。\n\n文件\n       /etc/passwd\n           用户账户信息。\n\n       /etc/shadow\n           可选的加密后的密码文件\n\n       /etc/passwd-\n           /etc/passwd 的备份文件。\n\n           注意，此文件由 shadow 工具集使用，而不是所有的用户和密码管理工具都\n           会使用。\n\n参见\n       crypt(3), getent(1), getpwnam(3), login(1), passwd(1), pwck(8),\n       pwconv(8), pwunconv(8), shadow(5), su(1), sulogin(8).\n\nshadow-utils 4.5                  2018-07-27                         PASSWD(5)\n"
    }
   ],
   "source": [
    "!man 5 passwd"
   ]
  },
  {
   "cell_type": "code",
   "execution_count": 6,
   "metadata": {
    "tags": []
   },
   "outputs": [
    {
     "output_type": "stream",
     "name": "stdout",
     "text": "ls (1)               - list directory contents\n"
    }
   ],
   "source": [
    "# 简短的信息\n",
    "!whatis ls"
   ]
  },
  {
   "cell_type": "code",
   "execution_count": 8,
   "metadata": {
    "tags": []
   },
   "outputs": [
    {
     "output_type": "stream",
     "name": "stdout",
     "text": "用法：touch [选项]... 文件...\nUpdate the access and modification times of each FILE to the current time.\n\nA FILE argument that does not exist is created empty, unless -c or -h\nis supplied.\n\nA FILE argument string of - is handled specially and causes touch to\nchange the times of the file associated with standard output.\n\n必选参数对长短选项同时适用。\n  -a\t\t\t只更改访问时间\n  -c, --no-create\t不创建任何文件\n  -d, --date=字符串\t使用指定字符串表示时间而非当前时间\n  -f\t\t\t(忽略)\n  -h, --no-dereference\t\t会影响符号链接本身，而非符号链接所指示的目的地\n\t\t\t\t(当系统支持更改符号链接的所有者时，此选项才有用)\n  -m\t\t\t只更改修改时间\n  -r, --reference=FILE   use this file's times instead of current time\n  -t STAMP               use [[CC]YY]MMDDhhmm[.ss] instead of current time\n      --time=WORD        change the specified time:\n                           WORD is access, atime, or use: equivalent to -a\n                           WORD is modify or mtime: equivalent to -m\n      --help\t\t显示此帮助信息并退出\n      --version\t\t显示版本信息并退出\n\n请注意，-d 和-t 选项可接受不同的时间/日期格式。\n\nGNU coreutils 在线帮助：<https://www.gnu.org/software/coreutils/>\n请向 <http://translationproject.org/team/zh_CN.html> 报告 touch 的翻译错误\n完整文档请见：<https://www.gnu.org/software/coreutils/touch>\n或者在本地使用：info '(coreutils) touch invocation'\n"
    }
   ],
   "source": [
    "!touch --help"
   ]
  },
  {
   "cell_type": "code",
   "execution_count": 9,
   "metadata": {
    "tags": []
   },
   "outputs": [
    {
     "output_type": "stream",
     "name": "stdout",
     "text": "umask: umask [-p] [-S] [模式]\n    显示或设定文件模式掩码。\n    \n    设定用户文件创建掩码为 MODE 模式。如果省略了 MODE，则\n    打印当前掩码的值。\n    \n    如果 MODE 模式以数字开头，则被当作八进制数解析；否则是一个\n    chmod(1) 可接收的符号模式串。\n    \n    选项：\n      -p\t如果省略 MODE 模式，以可重用为输入的格式输入\n      -S\t以符号形式输出，否则以八进制数格式输出\n    \n    退出状态：\n    返回成功，除非使用了无效的 MODE 模式或者选项。\n"
    }
   ],
   "source": [
    "# shell内置命令帮助\n",
    "!help umask"
   ]
  },
  {
   "cell_type": "code",
   "execution_count": 11,
   "metadata": {
    "tags": []
   },
   "outputs": [
    {
     "output_type": "stream",
     "name": "stdout",
     "text": "if: if 命令; then 命令; [ elif 命令; then 命令; ]... [ else 命令; ] fi\n    根据条件执行命令。\n    \n    `if COMMANDS'列表被执行。如果退出状态为零，则执行`then COMMANDS' \n    列表。否则按顺序执行每个 `elif COMMANDS'列表，并且如果它的退出状态为\n    零，则执行对应的 `then COMMANDS' 列表并且 if 命令终止。否则如果存在的\n    情况下，执行 `else COMMANDS'列表。整个结构的退出状态是最后一个执行\n    的命令的状态，或者如果没有条件测试为真的话，为零。\n    \n    退出状态：\n    返回最后一个执行的命令的状态。\n"
    }
   ],
   "source": [
    "!help if"
   ]
  },
  {
   "cell_type": "code",
   "execution_count": 12,
   "metadata": {
    "tags": []
   },
   "outputs": [
    {
     "output_type": "stream",
     "name": "stdout",
     "text": "\u001b[;1m# \u001b[0m\u001b[0m\u001b[93museradd\u001b[0m\u001b[37m\n\n创建的新的系统用户\n\n\u001b[;1m## \u001b[0m 补充说明\n\n\u001b[0m\u001b[93museradd\u001b[0m\u001b[37m 命令 用于 Linux 中创建的新的系统用户。\u001b[0m\u001b[93museradd\u001b[0m\u001b[37m\n可用来建立用户帐号。帐号建好之后，再用 passwd 设定帐号的密码．而可用\nuserdel 删除帐号。使用 \u001b[0m\u001b[93museradd\u001b[0m\u001b[37m\n指令所建立的帐号，实际上是保存在/etc/passwd 文本文件中。\n\n在 Slackware 中，adduser 指令是个 script\n程序，利用交谈的方式取得输入的用户帐号资料，然后再交由真正建立帐号的\n\u001b[0m\u001b[93museradd\u001b[0m\u001b[37m 命令建立新用户，如此可方便管理员建立用户帐号。在 Red Hat\nLinux 中， adduser 命令 则是 \u001b[0m\u001b[93museradd\u001b[0m\u001b[37m\n命令的符号连接，两者实际上是同一个指令。\n\n\u001b[;1m### \u001b[0m 语法\n\n\u001b[0m\u001b[93museradd\u001b[0m\u001b[37m(选项)(参数)\n\n\u001b[;1m### \u001b[0m 选项\n\n-c<备注>：加上备注文字。备注文字会保存在 passwd 的备注栏位中；\n-d<登入目录>：指定用户登入时的启始目录；\n-D：变更预设值；\n-e<有效期限>：指定帐号的有效期限；\n-f<缓冲天数>：指定在密码过期后多少天即关闭该帐号；\n-g<群组>：指定用户所属的群组；\n-G<群组>：指定用户所属的附加群组；\n-m：自动建立用户的登入目录；\n-M：不要自动建立用户的登入目录；\n-n：取消建立以用户名称为名的群组；\n-r：建立系统帐号；\n-s<shell>：指定用户登入后所使用的 shell；\n-u<uid>：指定用户 id。\n\n\u001b[;1m### \u001b[0m 参数\n\n用户名：要创建的用户名。\n\n\u001b[;1m### \u001b[0m 实例\n\n新建用户加入组：\n\n\u001b[0m\u001b[93museradd\u001b[0m\u001b[37m –g sales jack –G\ncompany,employees    //-g：加入主要组、-G：加入次要组\n\n建立一个新用户账户，并设置 ID：\n\n\u001b[0m\u001b[93museradd\u001b[0m\u001b[37m caojh -u 544\n\n需要说明的是，设定 ID 值时尽量要大于 500，以免冲突。因为 Linux\n安装后会建立一些特殊用户，一般 0 到 499 之间的值留给 bin、mail\n这样的系统账号。\n\n"
    }
   ],
   "source": [
    "!how useradd"
   ]
  },
  {
   "cell_type": "code",
   "execution_count": null,
   "metadata": {},
   "outputs": [],
   "source": [
    "useradd 用户\n",
    "passwd 用户"
   ]
  },
  {
   "cell_type": "code",
   "execution_count": 13,
   "metadata": {
    "tags": []
   },
   "outputs": [
    {
     "output_type": "stream",
     "name": "stdout",
     "text": "ulysses  tty1         2020-09-10 09:32 (:0)\n"
    }
   ],
   "source": [
    "# 当前登录的用户  登录终端 tty本地 pts远程   登录时间 主机ip\n",
    "!who"
   ]
  },
  {
   "cell_type": "code",
   "execution_count": 14,
   "metadata": {
    "tags": []
   },
   "outputs": [
    {
     "output_type": "stream",
     "name": "stdout",
     "text": "10:20:55 up 48 min,  1 user,  load average: 0.89, 1.19, 1.06\nUSER     TTY      FROM             LOGIN@   IDLE   JCPU   PCPU WHAT\nulysses  tty1     :0               09:32   48:31  10:21   2.62s /usr/bin/startd\n"
    }
   ],
   "source": [
    "!w"
   ]
  },
  {
   "cell_type": "code",
   "execution_count": 16,
   "metadata": {
    "tags": []
   },
   "outputs": [],
   "source": [
    "# 只能压缩文件 不保留原文件\n",
    "!gzip TEST"
   ]
  },
  {
   "cell_type": "code",
   "execution_count": 17,
   "metadata": {},
   "outputs": [],
   "source": [
    "!gunzip TEST.gz"
   ]
  },
  {
   "cell_type": "code",
   "execution_count": 21,
   "metadata": {
    "tags": []
   },
   "outputs": [
    {
     "output_type": "stream",
     "name": "stdout",
     "text": "\u001b[;1m# \u001b[0m\u001b[0m\u001b[93mtar\u001b[0m\u001b[37m\n\nLinux 下的归档使用工具，用来打包和备份\n\n\u001b[;1m## \u001b[0m 补充说明\n\n\u001b[0m\u001b[93mtar\u001b[0m\u001b[37m 命令 可以为 linux 的文件和目录创建档案。利用 \u001b[0m\u001b[93mtar\u001b[0m\u001b[37m，可以为某一\n特定文件创建档案（备份文件），也可以在档案中改变文件，或者向档案中加入新的文件。\n\u001b[0m\u001b[93mtar\u001b[0m\u001b[37m 最初被用来在磁带上创建档案，现在，用户可以在任何设备上创建档案。利用\n\u001b[0m\u001b[93mtar\u001b[0m\u001b[37m 命令，可以把一大堆的文件和目录全部打包成一个文件，这对于备份文件或将几个\n文件组合成为一个文件以便于网络传输是非常有用的。\n\n首先要弄清两个概念：打包和压缩。打包是指将一大堆文件或目录变成一个总的文件；压缩\n则是将一个大的文件通过一些压缩算法变成一个小文件。\n\n为什么要区分这两个概念呢？这源于 Linux 中很多压缩程序只能针对一个文件进行\n压缩，这样当你想要压缩一大堆文件时，你得先将这一大堆文件先打成一个包（\u001b[0m\u001b[93mtar\u001b[0m\u001b[37m\n命令），然后再用压缩程序进行压缩（gzip bzip2 命令）。\n\n\u001b[;1m### \u001b[0m 语法\n\n\u001b[0m\u001b[93mtar\u001b[0m\u001b[37m (选项) (参数)\n\n\u001b[;1m### \u001b[0m 选项\n\n-A 或--catenate：新增文件到以存在的备份文件；\n-B：设置区块大小；\n-c 或--create：建立新的备份文件；\n-C <目录>：切换工作目录，先进入指定目录再执行压缩/解压缩操作，可用于仅压缩\n特定目录里的内容或解压缩到特定目录；\n-d：记录文件的差别；\n-x 或--extract 或--\nget：从归档文件中提取文件，可以搭配-C（大写）在特定目录解开，\n                     需要注意的是-c、-t、-x\n不可同时出现在一串命令中；\n-t 或--list：列出备份文件的内容；\n-z 或--gzip 或--ungzip：通过 gzip\n指令压缩/解压缩文件，文件名最好为*.\u001b[0m\u001b[93mtar\u001b[0m\u001b[37m.gz；\n-Z 或--compress 或--uncompress：通过 compress\n指令处理备份文件；\n-f<备份文件>或--file=<备份文件>：指定备份文件；\n-v 或--verbose：显示指令执行过程；\n-r：添加文件到已经压缩的文件；\n-u：添加改变了和现有的文件到已经存在的压缩文件；\n-j：通过 bzip2 指令压缩/解压缩文件，文件名最好为*.\u001b[0m\u001b[93mtar\u001b[0m\u001b[37m.bz2；\n-v：显示操作过程；\n-l：文件系统边界设置；\n-k：保留原有文件不覆盖；\n-m：保留文件不被覆盖；\n-w：确认压缩文件的正确性；\n-p 或--same-permissions：保留原来的文件权限与属性；\n-P 或--absolute-\nnames：使用文件名的绝对路径，不移除文件名称前的“/”号；\n-N <日期格式> 或\n--newer=<日期时间>：只将较指定日期更新的文件保存到备份文件里；\n--exclude=<范本样式>：排除符合范本样式的文件；\n--remove-files：归档/压缩之后删除源文件\n\n\u001b[;1m### \u001b[0m 参数\n\n文件或目录：指定要打包的文件或目录列表。\n\n\u001b[;1m### \u001b[0m 实例\n\n- z：有 gzip 属性的\n- j：有 bz2 属性的\n- Z：有 compress 属性的\n- v：显示所有过程\n- O：将文件解开到标准输出\n\n下面的参数-f 是必须的\n\n-f: 使用档案名字，切记，这个参数是最后一个参数，后面只能接档案名。\n\n\u001b[0m\u001b[93mtar\u001b[0m\u001b[37m -cf all.\u001b[0m\u001b[93mtar\u001b[0m\u001b[37m *.jpg\n# 这条命令是将所有.jpg 的文件打成一个名为 all.\u001b[0m\u001b[93mtar\u001b[0m\u001b[37m 的包。-c\n是表示产生新的包，-f 指定包的文件名。\n\n\u001b[0m\u001b[93mtar\u001b[0m\u001b[37m -rf all.\u001b[0m\u001b[93mtar\u001b[0m\u001b[37m *.gif\n# 这条命令是将所有.gif 的文件增加到 all.\u001b[0m\u001b[93mtar\u001b[0m\u001b[37m 的包里面去。-r\n是表示增加文件的意思。\n\n\u001b[0m\u001b[93mtar\u001b[0m\u001b[37m -uf all.\u001b[0m\u001b[93mtar\u001b[0m\u001b[37m logo.gif\n# 这条命令是更新原来 \u001b[0m\u001b[93mtar\u001b[0m\u001b[37m 包 all.\u001b[0m\u001b[93mtar\u001b[0m\u001b[37m 中 logo.gif\n文件，-u 是表示更新文件的意思。\n\n\u001b[0m\u001b[93mtar\u001b[0m\u001b[37m -tf all.\u001b[0m\u001b[93mtar\u001b[0m\u001b[37m\n# 这条命令是列出 all.\u001b[0m\u001b[93mtar\u001b[0m\u001b[37m 包中所有文件，-t 是列出文件的意思\n\n\u001b[0m\u001b[93mtar\u001b[0m\u001b[37m -cfv archive.\u001b[0m\u001b[93mtar\u001b[0m\u001b[37m foo bar  # 从文件 foo\n和 bar 创建 archive.\u001b[0m\u001b[93mtar\u001b[0m\u001b[37m。\n\u001b[0m\u001b[93mtar\u001b[0m\u001b[37m -tvf archive.\u001b[0m\u001b[93mtar\u001b[0m\u001b[37m         # 详细列出\narchive.\u001b[0m\u001b[93mtar\u001b[0m\u001b[37m 中的所有文件。\n\u001b[0m\u001b[93mtar\u001b[0m\u001b[37m -xf archive.\u001b[0m\u001b[93mtar\u001b[0m\u001b[37m          # 从\narchive.\u001b[0m\u001b[93mtar\u001b[0m\u001b[37m 提取所有文件。\n\n\u001b[;1m#### \u001b[0mzip 格式\n\n压缩： zip -r [目标文件名].zip [原文件/目录名]解压：\nunzip [原文件名].zip 注：-r 参数代表递归\n\n\u001b[;1m#### \u001b[0m\u001b[0m\u001b[93mtar\u001b[0m\u001b[37m 格式（该格式仅仅打包，不压缩）\n\n打包：\u001b[0m\u001b[93mtar\u001b[0m\u001b[37m -cvf [目标文件名].\u001b[0m\u001b[93mtar\u001b[0m\u001b[37m [原文件名/目录名]解包：\u001b[0m\u001b[93mtar\u001b[0m\u001b[37m\n-xvf [原文件名].\u001b[0m\u001b[93mtar\u001b[0m\u001b[37m 注：c 参数代表 create（创建），x\n参数代表 extract（解包），v 参数代表 verbose（详细信息），f\n参数代表 filename（文件名），所以 f 后必须接文件名。\n\n\u001b[;1m#### \u001b[0m\u001b[0m\u001b[93mtar\u001b[0m\u001b[37m.gz 格式\n\n方式一：利用前面已经打包好的 \u001b[0m\u001b[93mtar\u001b[0m\u001b[37m 文件，直接用压缩命令。\n\n压缩：gzip [原文件名].\u001b[0m\u001b[93mtar\u001b[0m\u001b[37m 解压：gunzip\n[原文件名].\u001b[0m\u001b[93mtar\u001b[0m\u001b[37m.gz\n\n方式二：一次性打包并压缩、解压并解包\n\n打包并压缩： \u001b[0m\u001b[93mtar\u001b[0m\u001b[37m -zcvf [目标文件名].\u001b[0m\u001b[93mtar\u001b[0m\u001b[37m.gz\n[原文件名/目录名]解压并解包： \u001b[0m\u001b[93mtar\u001b[0m\u001b[37m -zxvf [原文件名].\u001b[0m\u001b[93mtar\u001b[0m\u001b[37m.gz\n注：z 代表用 gzip 算法来压缩/解压。\n\n\u001b[;1m#### \u001b[0m\u001b[0m\u001b[93mtar\u001b[0m\u001b[37m.bz2 格式\n\n方式一：利用已经打包好的 \u001b[0m\u001b[93mtar\u001b[0m\u001b[37m 文件，直接执行压缩命令：\n\n压缩：bzip2 [原文件名].\u001b[0m\u001b[93mtar\u001b[0m\u001b[37m 解压：bunzip2\n[原文件名].\u001b[0m\u001b[93mtar\u001b[0m\u001b[37m.bz2 方式二：一次性打包并压缩、解压并解包\n\n打包并压缩： \u001b[0m\u001b[93mtar\u001b[0m\u001b[37m -jcvf [目标文件名].\u001b[0m\u001b[93mtar\u001b[0m\u001b[37m.bz2\n[原文件名/目录名]解压并解包： \u001b[0m\u001b[93mtar\u001b[0m\u001b[37m -jxvf\n[原文件名].\u001b[0m\u001b[93mtar\u001b[0m\u001b[37m.bz2 注：小写 j 代表用 bzip2\n算法来压缩/解压。\n\n\u001b[;1m#### \u001b[0m\u001b[0m\u001b[93mtar\u001b[0m\u001b[37m.xz 格式\n\n方式一：利用已经打包好的 \u001b[0m\u001b[93mtar\u001b[0m\u001b[37m 文件，直接用压缩命令：\n\n压缩：xz [原文件名].\u001b[0m\u001b[93mtar\u001b[0m\u001b[37m 解压：unxz [原文件名].\u001b[0m\u001b[93mtar\u001b[0m\u001b[37m.xz\n方式二：一次性打包并压缩、解压并解包\n\n打包并压缩： \u001b[0m\u001b[93mtar\u001b[0m\u001b[37m -Jcvf [目标文件名].\u001b[0m\u001b[93mtar\u001b[0m\u001b[37m.xz\n[原文件名/目录名]解压并解包： \u001b[0m\u001b[93mtar\u001b[0m\u001b[37m -Jxvf [原文件名].\u001b[0m\u001b[93mtar\u001b[0m\u001b[37m.xz\n注：大写 J 代表用 xz 算法来压缩/解压。\n\n\u001b[;1m#### \u001b[0m\u001b[0m\u001b[93mtar\u001b[0m\u001b[37m.Z 格式（已过时）\n\n方式一：利用已经打包好的 \u001b[0m\u001b[93mtar\u001b[0m\u001b[37m 文件，直接用压缩命令：\n\n压缩：compress [原文件名].\u001b[0m\u001b[93mtar\u001b[0m\u001b[37m 解压：uncompress\n[原文件名].\u001b[0m\u001b[93mtar\u001b[0m\u001b[37m.Z 方式二：一次性打包并压缩、解压并解包\n\n打包并压缩： \u001b[0m\u001b[93mtar\u001b[0m\u001b[37m -Zcvf [目标文件名].\u001b[0m\u001b[93mtar\u001b[0m\u001b[37m.Z\n[原文件名/目录名]解压并解包： \u001b[0m\u001b[93mtar\u001b[0m\u001b[37m -Zxvf [原文件名].\u001b[0m\u001b[93mtar\u001b[0m\u001b[37m.Z\n注：大写 Z 代表用 ncompress\n算法来压缩/解压。另，ncompress 是早期 Unix\n系统的压缩格式，但由于 ncompress 的压缩率太低，现已过时。\n\n\u001b[;1m#### \u001b[0mjar 格式\n\n压缩：jar -cvf [目标文件名].jar [原文件名/目录名]解压：jar\n-xvf [原文件名].jar\n\n注：如果是打包的是 Java 类库，并且该类库中存在主类，那么需要写一个\nMETA-INF/MANIFEST.MF 配置文件，内容如下：\n\nManifest-Version: 1.0\nCreated-By: 1.6.0_27 (Sun Microsystems\nInc.)\nMain-class: the_name_of_the_main_class_s\nhould_be_put_here\n\n然后用如下命令打包：\n\njar -cvfm [目标文件名].jar META-\nINF/MANIFEST.MF [原文件名/目录名]这样以后就能用“java\n-jar [文件名].jar”命令直接运行主类中的 public static\nvoid main 方法了。\n\n\u001b[;1m#### \u001b[0m7z 格式\n\n压缩：7z a [目标文件名].7z [原文件名/目录名]解压：7z x\n[原文件名].7z 注：这个 7z 解压命令支持 rar 格式，即：\n\n7z x [原文件名].rar\n\n\u001b[;1m#### \u001b[0m 其它例子\n\n将文件全部打包成 \u001b[0m\u001b[93mtar\u001b[0m\u001b[37m 包 ：\n\n\u001b[0m\u001b[93mtar\u001b[0m\u001b[37m -cvf log.\u001b[0m\u001b[93mtar\u001b[0m\u001b[37m log2012.log    仅打包，不压缩！\n\u001b[0m\u001b[93mtar\u001b[0m\u001b[37m -zcvf log.\u001b[0m\u001b[93mtar\u001b[0m\u001b[37m.gz log2012.log   打包后，以\ngzip 压缩\n\u001b[0m\u001b[93mtar\u001b[0m\u001b[37m -jcvf log.\u001b[0m\u001b[93mtar\u001b[0m\u001b[37m.bz2 log2012.log  打包后，以\nbzip2 压缩\n\n在选项 f\n之后的文件档名是自己取的，我们习惯上都用 .\u001b[0m\u001b[93mtar\u001b[0m\u001b[37m 来作为辨识。 如果加 z\n选项，则以.\u001b[0m\u001b[93mtar\u001b[0m\u001b[37m.gz 或.tgz 来代表 gzip 压缩过的 \u001b[0m\u001b[93mtar\u001b[0m\u001b[37m\n包；如果加 j 选项，则以.\u001b[0m\u001b[93mtar\u001b[0m\u001b[37m.bz2 来作为 \u001b[0m\u001b[93mtar\u001b[0m\u001b[37m 包名。\n\n解压目录\n\n去掉第一层目录结构，要出除第二层，--strip-components 2\n\n\u001b[0m\u001b[93mtar\u001b[0m\u001b[37m -xvf portal-web-v2.0.0.\u001b[0m\u001b[93mtar\u001b[0m\u001b[37m --strip-\ncomponents 1  -C 指定目录\n\n查阅上述 \u001b[0m\u001b[93mtar\u001b[0m\u001b[37m 包内有哪些文件 ：\n\n\u001b[0m\u001b[93mtar\u001b[0m\u001b[37m -ztvf log.\u001b[0m\u001b[93mtar\u001b[0m\u001b[37m.gz\n\n由于我们使用 gzip 压缩的 log.\u001b[0m\u001b[93mtar\u001b[0m\u001b[37m.gz，所以要查阅\nlog.\u001b[0m\u001b[93mtar\u001b[0m\u001b[37m.gz 包内的文件时，就得要加上 z 这个选项了。\n\n将 \u001b[0m\u001b[93mtar\u001b[0m\u001b[37m 包解压缩 ：\n\n\u001b[0m\u001b[93mtar\u001b[0m\u001b[37m -zxvf /opt/soft/test/log.\u001b[0m\u001b[93mtar\u001b[0m\u001b[37m.gz\n\n在预设的情况下，我们可以将压缩档在任何地方解开的\n\n只将 \u001b[0m\u001b[93mtar\u001b[0m\u001b[37m 内的部分文件解压出来 ：\n\n\u001b[0m\u001b[93mtar\u001b[0m\u001b[37m -zxvf /opt/soft/test/log30.\u001b[0m\u001b[93mtar\u001b[0m\u001b[37m.gz\nlog2013.log\n\n我可以透过 \u001b[0m\u001b[93mtar\u001b[0m\u001b[37m -ztvf 来查阅 \u001b[0m\u001b[93mtar\u001b[0m\u001b[37m 包内的文件名称，如果单只要一个文\n件，就可以透过这个方式来解压部分文件！\n\n文件备份下来，并且保存其权限 ：\n\n\u001b[0m\u001b[93mtar\u001b[0m\u001b[37m -zcvpf log31.\u001b[0m\u001b[93mtar\u001b[0m\u001b[37m.gz log2014.log\nlog2015.log log2016.log\n\n这个-p 的属性是很重要的，尤其是当您要保留原本文件的属性时。\n\n在文件夹当中，比某个日期新的文件才备份 ：\n\n\u001b[0m\u001b[93mtar\u001b[0m\u001b[37m -N \"2012/11/13\" -zcvf log17.\u001b[0m\u001b[93mtar\u001b[0m\u001b[37m.gz\ntest\n\n备份文件夹内容是排除部分文件：\n\n\u001b[0m\u001b[93mtar\u001b[0m\u001b[37m --exclude scf/service -zcvf\nscf.\u001b[0m\u001b[93mtar\u001b[0m\u001b[37m.gz scf/*\n\n打包文件之后删除源文件：\n\n\u001b[0m\u001b[93mtar\u001b[0m\u001b[37m -cvf test.\u001b[0m\u001b[93mtar\u001b[0m\u001b[37m test --remove-files\n\n其实最简单的使用 \u001b[0m\u001b[93mtar\u001b[0m\u001b[37m 就只要记忆底下的方式即可：\n\n压　缩：\u001b[0m\u001b[93mtar\u001b[0m\u001b[37m -jcv -f filename.\u001b[0m\u001b[93mtar\u001b[0m\u001b[37m.bz2\n要被压缩的文件或目录名称\n查　询：\u001b[0m\u001b[93mtar\u001b[0m\u001b[37m -jtv -f filename.\u001b[0m\u001b[93mtar\u001b[0m\u001b[37m.bz2\n解压缩：\u001b[0m\u001b[93mtar\u001b[0m\u001b[37m -jxv -f filename.\u001b[0m\u001b[93mtar\u001b[0m\u001b[37m.bz2 -C\n欲解压缩的目录\n\n"
    }
   ],
   "source": [
    "!how tar"
   ]
  },
  {
   "cell_type": "markdown",
   "metadata": {},
   "source": [
    "-z: gzip  .gz  \n",
    "-j: bzip2  .bz2  \n",
    "-J:   .xz"
   ]
  },
  {
   "cell_type": "code",
   "execution_count": 18,
   "metadata": {
    "tags": []
   },
   "outputs": [
    {
     "output_type": "stream",
     "name": "stdout",
     "text": "Japan/\nJapan/Osaka/\nJapan/Osaka/a\n"
    }
   ],
   "source": [
    "# 打包 压缩  \n",
    "!tar -cvf  japan.tar Japan \n",
    "# !gzip japan.tar"
   ]
  },
  {
   "cell_type": "code",
   "execution_count": 19,
   "metadata": {
    "tags": []
   },
   "outputs": [
    {
     "output_type": "stream",
     "name": "stdout",
     "text": "Japan/\nJapan/Osaka/\nJapan/Osaka/a\n"
    }
   ],
   "source": [
    "!tar -zcvf japan.tar.gz Japan "
   ]
  },
  {
   "cell_type": "code",
   "execution_count": 25,
   "metadata": {
    "tags": []
   },
   "outputs": [
    {
     "output_type": "stream",
     "name": "stdout",
     "text": "Japan/\nJapan/Osaka/\nJapan/Osaka/a\n"
    }
   ],
   "source": [
    "# 解压 解包  -C 指定解压到的位置\n",
    "!tar -xzvf japan.tar.gz -C Country"
   ]
  },
  {
   "cell_type": "code",
   "execution_count": 27,
   "metadata": {
    "tags": []
   },
   "outputs": [
    {
     "output_type": "stream",
     "name": "stdout",
     "text": "adding: Japan/ (stored 0%)\n  adding: Japan/Osaka/ (stored 0%)\n  adding: Japan/Osaka/a (stored 0%)\n"
    }
   ],
   "source": [
    "!zip -r Japan.zip Japan"
   ]
  },
  {
   "cell_type": "code",
   "execution_count": 28,
   "metadata": {
    "tags": []
   },
   "outputs": [
    {
     "output_type": "stream",
     "name": "stdout",
     "text": "Archive:  Japan.zip\nreplace Japan/Osaka/a? [y]es, [n]o, [A]ll, [N]one, [r]ename:^C\n"
    }
   ],
   "source": [
    "# !unzip Japan.zip"
   ]
  },
  {
   "cell_type": "markdown",
   "metadata": {},
   "source": [
    "网络命令"
   ]
  },
  {
   "cell_type": "code",
   "execution_count": 30,
   "metadata": {
    "tags": []
   },
   "outputs": [
    {
     "output_type": "stream",
     "name": "stdout",
     "text": "\u001b[;1m# \u001b[0m\u001b[0m\u001b[93mwrite\u001b[0m\u001b[37m\n\n向指定登录用户终端上发送信息\n\n\u001b[;1m## \u001b[0m 补充说明\n\n\u001b[0m\u001b[93mwrite\u001b[0m\u001b[37m 命令 用于向指定登录用户终端上发送信息。通过 \u001b[0m\u001b[93mwrite\u001b[0m\u001b[37m\n命令可传递信息给另一位登入系统的用户，当输入完毕后，键入 EOF\n表示信息结束，\u001b[0m\u001b[93mwrite\u001b[0m\u001b[37m 命令就会将信息传给对方。如果接收信息的用户不只登入本地\n主机一次，你可以指定接收信息的终端机编号。\n\n\u001b[;1m### \u001b[0m 语法\n\n\u001b[0m\u001b[93mwrite\u001b[0m\u001b[37m(参数)\n\n\u001b[;1m### \u001b[0m 参数\n\n用户：指定要接受信息的登录用户；\n登陆终端：指定接收信息的用户的登录终端。\n\n\u001b[;1m### \u001b[0m 实例\n\n传信息给 Rollaend，此时 Rollaend 只有一个连线 :\n\n\u001b[0m\u001b[93mwrite\u001b[0m\u001b[37m Rollaend\n\n接下来就是将信息打上去，结束请 Ctrl+C：\n\n传信息给 Rollaend、Rollaend 的连线有 pts/2、pts/3：\n\n\u001b[0m\u001b[93mwrite\u001b[0m\u001b[37m Rollaend pts/2\n\n接下来就是将信息打上去，结束请 Ctrl+C：\n\n若对方设定 mesg n，则此时信息将无法传给对方。\n\n"
    }
   ],
   "source": [
    "!how write"
   ]
  },
  {
   "cell_type": "code",
   "execution_count": null,
   "metadata": {},
   "outputs": [],
   "source": [
    "wall\n",
    "\n",
    "给所有用户发信息"
   ]
  },
  {
   "cell_type": "code",
   "execution_count": 31,
   "metadata": {
    "tags": []
   },
   "outputs": [
    {
     "output_type": "stream",
     "name": "stdout",
     "text": "\u001b[;1m# \u001b[0m\u001b[0m\u001b[93mping\u001b[0m\u001b[37m\n\n测试主机之间网络的连通性\n\n\u001b[;1m## \u001b[0m 补充说明\n\n\u001b[0m\u001b[93mping\u001b[0m\u001b[37m 命令 用来测试主机之间网络的连通性。执行 \u001b[0m\u001b[93mping\u001b[0m\u001b[37m 指令会使用\nICMP 传输协议，发出要求回应的信息，若远端主机的网络功能没有问题，就会回应该\n信息，因而得知该主机运作正常。\n\n\u001b[;1m### \u001b[0m 语法\n\n\u001b[0m\u001b[93mping\u001b[0m\u001b[37m(选项)(参数)\n\n\u001b[;1m### \u001b[0m 选项\n\n-d：使用 Socket 的 SO_DEBUG 功能；\n-c<完成次数>：设置完成要求回应的次数；\n-f：极限检测；\n-i<间隔秒数>：指定收发信息的间隔时间；\n-I<网络界面>：使用指定的网络界面送出数据包；\n-l<前置载入>：设置在送出要求信息之前，先行发出的数据包；\n-n：只输出数值；\n-p<范本样式>：设置填满数据包的范本样式；\n-q：不显示指令执行过程，开头和结尾的相关信息除外；\n-r：忽略普通的 Routing Table，直接将数据包送到远端主机上；\n-R：记录路由过程；\n-s<数据包大小>：设置数据包的大小；\n-t<存活数值>：设置存活数值 TTL 的大小；\n-v：详细显示指令的执行过程。\n\n\u001b[;1m### \u001b[0m 参数\n\n目的主机：指定发送 ICMP 报文的目的主机。\n\n\u001b[;1m### \u001b[0m 实例\n\n[root@AY1307311912260196fcZ ~]# \u001b[0m\u001b[93mping\u001b[0m\u001b[37m\nwww.jsdig.com\n\u001b[0m\u001b[93mping\u001b[0m\u001b[37m host.1.jsdig.com (100.42.212.8)\n56(84) bytes of data.\n64 bytes from\n100-42-212-8.static.webnx.com\n(100.42.212.8): icmp_seq=1 ttl=50\ntime=177 ms\n64 bytes from\n100-42-212-8.static.webnx.com\n(100.42.212.8): icmp_seq=2 ttl=50\ntime=178 ms\n64 bytes from\n100-42-212-8.static.webnx.com\n(100.42.212.8): icmp_seq=3 ttl=50\ntime=174 ms\n64 bytes from\n100-42-212-8.static.webnx.com\n(100.42.212.8): icmp_seq=4 ttl=50\ntime=177 ms\n...按 Ctrl+C 结束\n\n--- host.1.jsdig.com \u001b[0m\u001b[93mping\u001b[0m\u001b[37m statistics ---\n4 packets transmitted, 4 received, 0%\npacket loss, time 2998ms\nrtt min/avg/max/mdev =\n174.068/176.916/178.182/1.683 ms\n\n"
    }
   ],
   "source": [
    "# 测试主机之间网络的连通性\n",
    "!how ping"
   ]
  },
  {
   "cell_type": "code",
   "execution_count": 34,
   "metadata": {
    "tags": []
   },
   "outputs": [
    {
     "output_type": "stream",
     "name": "stdout",
     "text": "PING 192.168.0.1 (192.168.0.1) 56(84) bytes of data.\n64 bytes from 192.168.0.1: icmp_seq=1 ttl=64 time=0.160 ms\n64 bytes from 192.168.0.1: icmp_seq=2 ttl=64 time=0.142 ms\n64 bytes from 192.168.0.1: icmp_seq=3 ttl=64 time=0.175 ms\n\n--- 192.168.0.1 ping statistics ---\n3 packets transmitted, 3 received, 0% packet loss, time 37ms\nrtt min/avg/max/mdev = 0.142/0.159/0.175/0.013 ms\n"
    }
   ],
   "source": [
    "!ping -c 3 192.168.0.1"
   ]
  },
  {
   "cell_type": "code",
   "execution_count": 35,
   "metadata": {
    "tags": []
   },
   "outputs": [
    {
     "output_type": "stream",
     "name": "stdout",
     "text": "\u001b[;1m# \u001b[0m\u001b[0m\u001b[93mifconfig\u001b[0m\u001b[37m\n\n配置和显示 Linux 系统网卡的网络参数\n\n\u001b[;1m## \u001b[0m 补充说明\n\n\u001b[0m\u001b[93mifconfig\u001b[0m\u001b[37m 命令 被用于配置和显示 Linux\n内核中网络接口的网络参数。用 \u001b[0m\u001b[93mifconfig\u001b[0m\u001b[37m 命令配置的网卡信息，在网卡重启后\n机器重启后，配置就不存在。要想将上述的配置信息永远的存的电脑里，那就要修改网卡的\n配置文件了。\n\n\u001b[;1m### \u001b[0m 语法\n\n\u001b[0m\u001b[93mifconfig\u001b[0m\u001b[37m(参数)\n\n\u001b[;1m### \u001b[0m 参数\n\nadd<地址>：设置网络设备 IPv6 的 ip 地址；\ndel<地址>：删除网络设备 IPv6 的 IP 地址；\ndown：关闭指定的网络设备；\n<hw<网络设备类型><硬件地址>：设置网络设备的类型与硬件地址；\nio_addr<I/O 地址>：设置网络设备的 I/O 地址；\nirq<IRQ 地址>：设置网络设备的 IRQ；\nmedia<网络媒介类型>：设置网络设备的媒介类型；\nmem_start<内存地址>：设置网络设备在主内存所占用的起始地址；\nmetric<数目>：指定在计算数据包的转送次数时，所要加上的数目；\nmtu<字节>：设置网络设备的 MTU；\nnetmask<子网掩码>：设置网络设备的子网掩码；\ntunnel<地址>：建立 IPv4 与 IPv6 之间的隧道通信地址；\nup：启动指定的网络设备；\n-broadcast<地址>：将要送往指定地址的数据包当成广播数据包来处理；\n-pointopoint<地址>：与指定地址的网络设备建立直接连线，此模式具有保\n密功能；\n-promisc：关闭或启动指定网络设备的 promiscuous 模式；\nIP 地址：指定网络设备的 IP 地址；\n网络设备：指定网络设备的名称。\n\n\u001b[;1m### \u001b[0m 实例\n\n显示网络设备信息（激活状态的）：\n\n[root@localhost ~]# \u001b[0m\u001b[93mifconfig\u001b[0m\u001b[37m\neth0      Link encap:Ethernet  HWaddr\n00:16:3E:00:1E:51\n          inet addr:10.160.7.81\nBcast:10.160.15.255  Mask:255.255.240.0\n          UP BROADCAST RUNNING MULTICAST\nMTU:1500  Metric:1\n          RX packets:61430830 errors:0\ndropped:0 overruns:0 frame:0\n          TX packets:88534 errors:0\ndropped:0 overruns:0 carrier:0\n          collisions:0 txqueuelen:1000\n          RX bytes:3607197869 (3.3 GiB)\nTX bytes:6115042 (5.8 MiB)\n\nlo        Link encap:Local Loopback\n          inet addr:127.0.0.1\nMask:255.0.0.0\n          UP LOOPBACK RUNNING  MTU:16436\nMetric:1\n          RX packets:56103 errors:0\ndropped:0 overruns:0 frame:0\n          TX packets:56103 errors:0\ndropped:0 overruns:0 carrier:0\n          collisions:0 txqueuelen:0\n          RX bytes:5079451 (4.8 MiB)  TX\nbytes:5079451 (4.8 MiB)\n\n说明：\n\neth0 表示第一块网卡，其中 HWaddr\n表示网卡的物理地址，可以看到目前这个网卡的物理地址(MAC 地址）是\n00:16:3E:00:1E:51。\n\ninet addr 用来表示网卡的 IP 地址，此网卡的 IP 地址是\n10.160.7.81，广播地址\nBcast:10.160.15.255，掩码地址\nMask:255.255.240.0。\n\nlo 是表示主机的回坏地址，这个一般是用来测试一个网络程序，但又不想让局域网或外\n网的用户能够查看，只能在此台主机上运行和查看所用的网络接口。比如把 httpd\n服务器的指定到回坏地址，在浏览器输入 127.0.0.1 就能看到你所架 WEB\n网站了。但只是您能看得到，局域网的其它主机或用户无从知道。\n\n- 第一行：连接类型：Ethernet（以太网）HWaddr（硬件 mac\n地址）。\n- 第二行：网卡的 IP 地址、子网、掩码。\n- 第三行：UP（代表网卡开启状态）RUNNING（代表网卡的网线被接上）MUL\nTICAST（支持组播）MTU:1500（最大传输单元）：1500 字节。\n- 第四、五行：接收、发送数据包情况统计。\n- 第七行：接收、发送数据字节数统计信息。\n\n启动关闭指定网卡：\n\n\u001b[0m\u001b[93mifconfig\u001b[0m\u001b[37m eth0 up\n\u001b[0m\u001b[93mifconfig\u001b[0m\u001b[37m eth0 down\n\n\u001b[0m\u001b[93mifconfig\u001b[0m\u001b[37m eth0 up 为启动网卡 eth0，\u001b[0m\u001b[93mifconfig\u001b[0m\u001b[37m\neth0 down 为关闭网卡 eth0。ssh 登陆 linux\n服务器操作要小心，关闭了就不能开启了，除非你有多网卡。\n\n为网卡配置和删除 IPv6 地址：\n\n\u001b[0m\u001b[93mifconfig\u001b[0m\u001b[37m eth0 add\n33ffe:3240:800:1005::2/64    #为网卡 eth0\n配置 IPv6 地址\n\u001b[0m\u001b[93mifconfig\u001b[0m\u001b[37m eth0 del\n33ffe:3240:800:1005::2/64    #为网卡 eth0\n删除 IPv6 地址\n\n用 \u001b[0m\u001b[93mifconfig\u001b[0m\u001b[37m 修改 MAC 地址：\n\n\u001b[0m\u001b[93mifconfig\u001b[0m\u001b[37m eth0 hw ether 00:AA:BB:CC:dd:EE\n\n配置 IP 地址：\n\n[root@localhost ~]# \u001b[0m\u001b[93mifconfig\u001b[0m\u001b[37m eth0\n192.168.2.10\n[root@localhost ~]# \u001b[0m\u001b[93mifconfig\u001b[0m\u001b[37m eth0\n192.168.2.10 netmask 255.255.255.0\n[root@localhost ~]# \u001b[0m\u001b[93mifconfig\u001b[0m\u001b[37m eth0\n192.168.2.10 netmask 255.255.255.0\nbroadcast 192.168.2.255\n\n启用和关闭 arp 协议：\n\n\u001b[0m\u001b[93mifconfig\u001b[0m\u001b[37m eth0 arp    #开启网卡 eth0 的 arp 协议\n\u001b[0m\u001b[93mifconfig\u001b[0m\u001b[37m eth0 -arp   #关闭网卡 eth0 的 arp 协议\n\n设置最大传输单元：\n\n\u001b[0m\u001b[93mifconfig\u001b[0m\u001b[37m eth0 mtu 1500\n#设置能通过的最大数据包大小为 1500 bytes\n\n其它实例\n\n\u001b[0m\u001b[93mifconfig\u001b[0m\u001b[37m   #处于激活状态的网络接口\n\u001b[0m\u001b[93mifconfig\u001b[0m\u001b[37m -a  #所有配置的网络接口，不论其是否激活\n\u001b[0m\u001b[93mifconfig\u001b[0m\u001b[37m eth0  #显示 eth0 的网卡信息\n\n"
    }
   ],
   "source": [
    "# 网卡的网络参数\n",
    "!how ifconfig"
   ]
  },
  {
   "cell_type": "code",
   "execution_count": 36,
   "metadata": {
    "tags": []
   },
   "outputs": [
    {
     "output_type": "stream",
     "name": "stdout",
     "text": "br-d07a78ed9e54: flags=4099<UP,BROADCAST,MULTICAST>  mtu 1500\n        inet 172.18.0.1  netmask 255.255.0.0  broadcast 172.18.255.255\n        ether 02:42:21:7c:58:6b  txqueuelen 0  (Ethernet)\n        RX packets 0  bytes 0 (0.0 B)\n        RX errors 0  dropped 0  overruns 0  frame 0\n        TX packets 0  bytes 0 (0.0 B)\n        TX errors 0  dropped 0 overruns 0  carrier 0  collisions 0\n\ndocker0: flags=4099<UP,BROADCAST,MULTICAST>  mtu 1500\n        inet 172.17.0.1  netmask 255.255.0.0  broadcast 172.17.255.255\n        ether 02:42:0d:82:2a:19  txqueuelen 0  (Ethernet)\n        RX packets 0  bytes 0 (0.0 B)\n        RX errors 0  dropped 0  overruns 0  frame 0\n        TX packets 0  bytes 0 (0.0 B)\n        TX errors 0  dropped 0 overruns 0  carrier 0  collisions 0\n\nenp3s0: flags=4163<UP,BROADCAST,RUNNING,MULTICAST>  mtu 1500\n        inet 192.168.0.101  netmask 255.255.255.0  broadcast 192.168.0.255\n        inet6 fe80::8f25:79d6:bd09:dfb7  prefixlen 64  scopeid 0x20<link>\n        ether 4c:cc:6a:8d:82:0c  txqueuelen 1000  (Ethernet)\n        RX packets 404576  bytes 562172260 (536.1 MiB)\n        RX errors 0  dropped 0  overruns 0  frame 0\n        TX packets 193459  bytes 18084598 (17.2 MiB)\n        TX errors 0  dropped 0 overruns 0  carrier 0  collisions 0\n\nlo: flags=73<UP,LOOPBACK,RUNNING>  mtu 65536\n        inet 127.0.0.1  netmask 255.0.0.0\n        inet6 ::1  prefixlen 128  scopeid 0x10<host>\n        loop  txqueuelen 1000  (Local Loopback)\n        RX packets 3392  bytes 1151859 (1.0 MiB)\n        RX errors 0  dropped 0  overruns 0  frame 0\n        TX packets 3392  bytes 1151859 (1.0 MiB)\n        TX errors 0  dropped 0 overruns 0  carrier 0  collisions 0\n\n"
    }
   ],
   "source": [
    "!ifconfig"
   ]
  },
  {
   "cell_type": "code",
   "execution_count": 37,
   "metadata": {
    "tags": []
   },
   "outputs": [
    {
     "output_type": "stream",
     "name": "stdout",
     "text": "\u001b[;1m# \u001b[0m\u001b[0m\u001b[93mlast\u001b[0m\u001b[37m\n\n列出目前与过去登入系统的用户相关信息\n\n\u001b[;1m## \u001b[0m 补充说明\n\n\u001b[0m\u001b[93mlast\u001b[0m\u001b[37m 命令 用于显示用户最近登录信息。单独执行 \u001b[0m\u001b[93mlast\u001b[0m\u001b[37m\n命令，它会读取/var/log/wtmp\n的文件，并把该给文件的内容记录的登入系统的用户名单全部显示出来。\n\n\u001b[;1m### \u001b[0m 语法\n\n\u001b[0m\u001b[93mlast\u001b[0m\u001b[37m(选项)(参数)\n\n\u001b[;1m### \u001b[0m 选项\n\n-a：把从何处登入系统的主机名称或 ip 地址，显示在最后一行；\n-d：将 IP 地址转换成主机名称；\n-f <记录文件>：指定记录文件。\n-n <显示列数>或-<显示列数>：设置列出名单的显示列数；\n-R：不显示登入系统的主机名称或 IP 地址；\n-x：显示系统关机，重新开机，以及执行等级的改变等信息。\n\n\u001b[;1m### \u001b[0m 参数\n\n- 用户名：显示用户登录列表；\n- 终端：显示从指定终端的登录列表。\n\n\u001b[;1m### \u001b[0m 实例\n\n\u001b[0m\u001b[93mlast\u001b[0m\u001b[37m 命令用了显示用户登录情况，以下是直接显示固定行数的记录：\n\n\u001b[0m\u001b[93mlast\u001b[0m\u001b[37m -10\nroot     pts/0        221.6.45.34\nTue Dec 17 09:40   still logged in\nroot     pts/0        221.6.45.34\nMon Dec 16 09:00 - 11:57  (02:56)\nroot     pts/0        222.94.97.122\nSun Dec 15 20:39 - 23:28  (02:48)\nroot     pts/0        222.95.209.80\nSat Dec 14 14:39 - 14:58  (00:18)\nroot     pts/0        221.6.45.34\nThu Dec 12 16:55 - 17:37  (00:41)\nroot     pts/0        49.65.139.195\nWed Dec 11 20:40 - 21:16  (00:35)\nroot     pts/0        49.65.139.195\nWed Dec 11 19:46 - 20:03  (00:17)\nroot     pts/0        221.6.45.34\nTue Dec 10 14:41 - 15:52  (01:10)\nroot     pts/0        221.6.45.34\nMon Dec  9 17:24 - 17:30  (00:06)\nroot     pts/0        221.6.45.34\nMon Dec  9 09:38 - 11:41  (02:02)\n\n"
    }
   ],
   "source": [
    "!how last"
   ]
  },
  {
   "cell_type": "code",
   "execution_count": 38,
   "metadata": {
    "tags": []
   },
   "outputs": [
    {
     "output_type": "stream",
     "name": "stdout",
     "text": "ulysses  tty1         :0               Thu Sep 10 09:32   still logged in\nreboot   system boot  5.3.0-3-amd64    Thu Sep 10 17:32   still running\nulysses  tty1         :0               Wed Sep  9 08:28 - down   (13:23)\nreboot   system boot  5.3.0-3-amd64    Wed Sep  9 16:27 - 21:51  (05:24)\nulysses  tty1         :0               Tue Sep  8 08:20 - 22:21  (14:01)\nreboot   system boot  5.3.0-3-amd64    Tue Sep  8 16:19 - 22:21  (06:01)\nulysses  tty1         :0               Mon Sep  7 16:36 - 21:59  (05:22)\nreboot   system boot  5.3.0-3-amd64    Tue Sep  8 00:36 - 21:59  (-2:36)\nulysses  tty1         :0               Mon Sep  7 08:09 - 10:59  (02:49)\nreboot   system boot  5.3.0-3-amd64    Mon Sep  7 16:09 - 10:59  (-5:10)\nulysses  tty1         :0               Sun Sep  6 21:33 - 22:13  (00:39)\nreboot   system boot  5.3.0-3-amd64    Mon Sep  7 05:33 - 22:13  (-7:19)\nulysses  tty1         :0               Sun Sep  6 15:17 - 15:19  (00:02)\nreboot   system boot  5.3.0-3-amd64    Sun Sep  6 23:17 - 15:20  (-7:57)\nulysses  tty1         :0               Sun Sep  6 08:45 - 15:12  (06:27)\nreboot   system boot  5.3.0-3-amd64    Sun Sep  6 16:45 - 15:13  (-1:32)\nulysses  tty1         :0               Sat Sep  5 08:37 - 22:28  (13:50)\nreboot   system boot  5.3.0-3-amd64    Sat Sep  5 16:37 - 22:28  (05:50)\nulysses  tty1         :0               Fri Sep  4 08:00 - 14:27  (06:26)\nreboot   system boot  5.3.0-3-amd64    Fri Sep  4 16:00 - 14:27  (-1:32)\nulysses  tty1         :0               Thu Sep  3 15:53 - 21:49  (05:56)\nreboot   system boot  5.3.0-3-amd64    Thu Sep  3 23:52 - 21:49  (-2:02)\nulysses  tty1         :0               Thu Sep  3 08:12 - 12:45  (04:33)\nreboot   system boot  5.3.0-3-amd64    Thu Sep  3 16:12 - 12:45  (-3:26)\nulysses  tty1         :0               Wed Sep  2 08:28 - 22:45  (14:17)\nreboot   system boot  5.3.0-3-amd64    Wed Sep  2 16:28 - 22:45  (06:17)\nulysses  tty1         :0               Tue Sep  1 15:25 - 22:43  (07:18)\nreboot   system boot  5.3.0-3-amd64    Tue Sep  1 23:24 - 22:43  (-00:41)\nulysses  tty1         :0               Tue Sep  1 10:54 - crash  (12:30)\nreboot   system boot  5.3.0-3-amd64    Tue Sep  1 18:54 - 22:43  (03:48)\nulysses  tty1         :0               Tue Sep  1 08:45 - crash  (10:08)\nreboot   system boot  5.3.0-3-amd64    Tue Sep  1 16:45 - 22:43  (05:57)\nulysses  tty1         :0               Tue Sep  1 08:00 - 08:44  (00:44)\nreboot   system boot  5.3.0-3-amd64    Tue Sep  1 16:00 - 08:44  (-7:15)\nulysses  tty1         :0               Mon Aug 31 12:06 - 23:30  (11:23)\nreboot   system boot  5.3.0-3-amd64    Mon Aug 31 20:06 - 23:30  (03:23)\nulysses  tty1         :0               Sun Aug 30 19:05 - 22:02  (02:56)\nreboot   system boot  5.3.0-3-amd64    Mon Aug 31 03:05 - 22:02  (-5:03)\nulysses  tty1         :0               Sun Aug 30 18:56 - crash  (08:09)\nreboot   system boot  5.3.0-3-amd64    Mon Aug 31 02:56 - 22:02  (-4:54)\nulysses  tty1         :0               Sun Aug 30 12:48 - crash  (14:07)\nreboot   system boot  5.3.0-3-amd64    Sun Aug 30 20:47 - 22:02  (01:14)\nulysses  tty1         :0               Fri Aug 28 13:01 - 00:13  (11:12)\nreboot   system boot  5.3.0-3-amd64    Fri Aug 28 21:00 - 00:13  (03:12)\nulysses  tty1         :0               Thu Aug 27 11:02 - 22:22  (11:20)\nreboot   system boot  5.3.0-3-amd64    Thu Aug 27 19:01 - 22:22  (03:20)\nulysses  tty1         :0               Wed Aug 26 10:56 - 22:47  (11:51)\nreboot   system boot  5.3.0-3-amd64    Wed Aug 26 18:54 - 22:47  (03:53)\nulysses  tty1         :0               Tue Aug 25 13:50 - 23:17  (09:27)\nreboot   system boot  5.3.0-3-amd64    Tue Aug 25 21:49 - 23:17  (01:27)\nulysses  tty1         :0               Tue Aug 25 08:09 - 11:16  (03:07)\nreboot   system boot  5.3.0-3-amd64    Tue Aug 25 16:09 - 11:16  (-4:52)\nulysses  tty1         :0               Mon Aug 24 08:04 - 22:46  (14:42)\nreboot   system boot  5.3.0-3-amd64    Mon Aug 24 16:03 - 22:46  (06:42)\nulysses  tty1         :0               Sun Aug 23 07:56 - 22:13  (14:16)\nreboot   system boot  5.3.0-3-amd64    Sun Aug 23 15:55 - 22:13  (06:17)\nulysses  tty1         :0               Sat Aug 22 08:49 - 20:33  (11:43)\nreboot   system boot  5.3.0-3-amd64    Sat Aug 22 16:48 - 20:33  (03:44)\nulysses  tty1         :0               Fri Aug 21 08:47 - 23:06  (14:18)\nreboot   system boot  5.3.0-3-amd64    Fri Aug 21 16:47 - 23:06  (06:19)\nulysses  tty1         :0               Fri Aug 21 08:09 - 08:47  (00:37)\nreboot   system boot  5.3.0-3-amd64    Fri Aug 21 16:09 - 08:47  (-7:22)\nulysses  tty1         :0               Thu Aug 20 07:52 - 22:37  (14:45)\nreboot   system boot  5.3.0-3-amd64    Thu Aug 20 15:52 - 22:38  (06:45)\nulysses  tty1         :0               Wed Aug 19 07:55 - 22:55  (14:59)\nreboot   system boot  5.3.0-3-amd64    Wed Aug 19 15:54 - 22:55  (07:00)\nulysses  tty1         :0               Tue Aug 18 07:49 - 20:37  (12:47)\nreboot   system boot  5.3.0-3-amd64    Tue Aug 18 15:49 - 20:37  (04:47)\nulysses  tty1         :0               Mon Aug 17 07:59 - 23:07  (15:08)\nreboot   system boot  5.3.0-3-amd64    Mon Aug 17 15:58 - 23:07  (07:08)\nulysses  tty1         :0               Sun Aug 16 08:35 - 22:42  (14:07)\nreboot   system boot  5.3.0-3-amd64    Sun Aug 16 16:35 - 22:42  (06:07)\nulysses  tty1         :0               Sat Aug 15 08:22 - 23:27  (15:04)\nreboot   system boot  5.3.0-3-amd64    Sat Aug 15 16:22 - 23:27  (07:05)\nulysses  tty1         :0               Fri Aug 14 20:04 - 23:40  (03:36)\nreboot   system boot  5.3.0-3-amd64    Sat Aug 15 04:03 - 23:40  (-4:23)\nulysses  tty1         :0               Fri Aug 14 07:53 - 19:30  (11:37)\nreboot   system boot  5.3.0-3-amd64    Fri Aug 14 15:53 - 19:30  (03:37)\nulysses  tty1         :0               Thu Aug 13 08:07 - 22:54  (14:46)\nreboot   system boot  5.3.0-3-amd64    Thu Aug 13 16:07 - 22:54  (06:47)\nulysses  tty1         :0               Wed Aug 12 07:59 - 23:12  (15:13)\nreboot   system boot  5.3.0-3-amd64    Wed Aug 12 15:59 - 23:13  (07:13)\nulysses  tty1         :0               Tue Aug 11 07:53 - 23:22  (15:29)\nreboot   system boot  5.3.0-3-amd64    Tue Aug 11 15:52 - 23:22  (07:29)\nulysses  tty1         :0               Mon Aug 10 07:54 - 22:58  (15:04)\nreboot   system boot  5.3.0-3-amd64    Mon Aug 10 15:53 - 22:58  (07:05)\nulysses  tty1         :0               Sun Aug  9 07:50 - 00:22  (16:31)\nreboot   system boot  5.3.0-3-amd64    Sun Aug  9 15:50 - 00:22  (08:31)\nulysses  tty1         :0               Sat Aug  8 07:58 - 23:25  (15:26)\nreboot   system boot  5.3.0-3-amd64    Sat Aug  8 15:57 - 23:25  (07:27)\nulysses  tty1         :0               Fri Aug  7 07:55 - 19:19  (11:24)\nreboot   system boot  5.3.0-3-amd64    Fri Aug  7 15:54 - 19:19  (03:24)\nulysses  tty1         :0               Thu Aug  6 07:49 - 22:56  (15:06)\nreboot   system boot  5.3.0-3-amd64    Thu Aug  6 15:49 - 22:56  (07:06)\nulysses  tty1         :0               Wed Aug  5 07:49 - 23:42  (15:53)\nreboot   system boot  5.3.0-3-amd64    Wed Aug  5 15:48 - 23:42  (07:53)\nulysses  tty1         :0               Tue Aug  4 14:50 - 23:13  (08:23)\nreboot   system boot  5.3.0-3-amd64    Tue Aug  4 22:50 - 23:13  (00:23)\nulysses  tty1         :0               Tue Aug  4 07:44 - crash  (15:05)\nreboot   system boot  5.3.0-3-amd64    Tue Aug  4 15:44 - 23:13  (07:29)\nulysses  tty1         :0               Mon Aug  3 14:07 - 23:03  (08:55)\nreboot   system boot  5.3.0-3-amd64    Mon Aug  3 22:06 - 23:03  (00:56)\nulysses  tty1         :0               Mon Aug  3 08:04 - crash  (14:02)\nreboot   system boot  5.3.0-3-amd64    Mon Aug  3 16:04 - 23:03  (06:59)\nulysses  tty1         :0               Sun Aug  2 22:10 - 23:11  (01:00)\nreboot   system boot  5.3.0-3-amd64    Mon Aug  3 06:09 - 23:11  (-6:58)\nulysses  tty1         :0               Sun Aug  2 08:19 - crash  (21:49)\nreboot   system boot  5.3.0-3-amd64    Sun Aug  2 16:19 - 23:11  (06:51)\nulysses  tty1         :0               Sat Aug  1 08:25 - 23:28  (15:02)\nreboot   system boot  5.3.0-3-amd64    Sat Aug  1 16:25 - 23:28  (07:03)\nulysses  tty1         :0               Fri Jul 31 20:20 - 00:13  (03:52)\nreboot   system boot  5.3.0-3-amd64    Sat Aug  1 04:20 - 00:13  (-4:07)\nreboot   system boot  5.3.0-3-amd64    Sat Aug  1 02:55 - 18:55  (-7:59)\nulysses  tty1         :0               Fri Jul 31 07:52 - 18:55  (11:02)\nreboot   system boot  5.3.0-3-amd64    Fri Jul 31 15:52 - 18:55  (03:02)\nulysses  tty1         :0               Thu Jul 30 23:07 - 23:22  (00:14)\nreboot   system boot  5.3.0-3-amd64    Fri Jul 31 07:07 - 23:22  (-7:45)\nulysses  tty1         :0               Thu Jul 30 07:43 - 20:41  (12:57)\nreboot   system boot  5.3.0-3-amd64    Thu Jul 30 15:42 - 20:41  (04:59)\nulysses  tty1         :0               Wed Jul 29 08:01 - 23:14  (15:13)\nreboot   system boot  5.3.0-3-amd64    Wed Jul 29 16:01 - 23:14  (07:13)\nulysses  tty1         :0               Tue Jul 28 07:55 - 23:12  (15:16)\nreboot   system boot  5.3.0-3-amd64    Tue Jul 28 15:54 - 23:12  (07:17)\nulysses  tty1         :0               Mon Jul 27 15:55 - 23:14  (07:19)\nreboot   system boot  5.3.0-3-amd64    Mon Jul 27 23:54 - 23:14  (-00:39)\nulysses  tty1         :0               Mon Jul 27 07:43 - crash  (16:10)\nreboot   system boot  5.3.0-3-amd64    Mon Jul 27 15:43 - 23:14  (07:31)\nulysses  tty1         :0               Sun Jul 26 13:22 - 23:01  (09:38)\nreboot   system boot  5.3.0-3-amd64    Sun Jul 26 21:22 - 23:01  (01:38)\nulysses  tty1         :0               Sun Jul 26 07:56 - 12:22  (04:25)\nreboot   system boot  5.3.0-3-amd64    Sun Jul 26 15:56 - 12:22  (-3:33)\nulysses  tty1         :0               Sat Jul 25 08:14 - 23:11  (14:57)\nreboot   system boot  5.3.0-3-amd64    Sat Jul 25 16:14 - 23:11  (06:57)\nulysses  tty1         :0               Fri Jul 24 08:32 - 23:07  (14:35)\nreboot   system boot  5.3.0-3-amd64    Fri Jul 24 16:32 - 23:08  (06:35)\nulysses  tty1         :0               Thu Jul 23 07:47 - 22:36  (14:49)\nreboot   system boot  5.3.0-3-amd64    Thu Jul 23 15:47 - 22:36  (06:49)\nulysses  tty1         :0               Wed Jul 22 07:48 - 23:25  (15:37)\nreboot   system boot  5.3.0-3-amd64    Wed Jul 22 15:47 - 23:25  (07:38)\nulysses  tty1         :0               Tue Jul 21 07:38 - 23:17  (15:38)\nreboot   system boot  5.3.0-3-amd64    Tue Jul 21 15:38 - 23:17  (07:39)\nulysses  tty1         :0               Mon Jul 20 07:45 - 23:03  (15:18)\nreboot   system boot  5.3.0-3-amd64    Mon Jul 20 15:45 - 23:03  (07:18)\nulysses  tty1         :0               Sun Jul 19 13:41 - 23:06  (09:25)\nreboot   system boot  5.3.0-3-amd64    Sun Jul 19 21:39 - 23:06  (01:26)\nulysses  tty1         :0               Sun Jul 19 13:08 - 13:39  (00:30)\nroot     tty2                          Sun Jul 19 13:02 - down   (00:36)\nulysses  tty1         :0               Sun Jul 19 12:31 - 13:02  (00:31)\nreboot   system boot  5.3.0-3-amd64    Sun Jul 19 20:31 - 13:39  (-6:52)\nulysses  tty1         :0               Sun Jul 19 12:19 - 12:25  (00:06)\nulysses  tty1         :0               Sun Jul 19 12:08 - 12:13  (00:05)\nulysses  tty1         :0               Sun Jul 19 12:05 - 12:06  (00:01)\nulysses  tty1         :0               Sun Jul 19 11:56 - 11:59  (00:03)\nroot     tty2                          Sun Jul 19 11:53 - down   (00:36)\nulysses  tty1         :0               Sun Jul 19 07:50 - 11:53  (04:02)\nreboot   system boot  5.3.0-3-amd64    Sun Jul 19 15:50 - 12:29  (-3:20)\nulysses  tty1         :0               Sat Jul 18 16:52 - 23:10  (06:18)\nreboot   system boot  5.3.0-3-amd64    Sun Jul 19 00:52 - 23:10  (-1:41)\nulysses  tty1         :0               Sat Jul 18 09:45 - crash  (15:06)\nreboot   system boot  5.3.0-3-amd64    Sat Jul 18 17:45 - 23:10  (05:25)\nulysses  tty1         :0               Sat Jul 18 09:19 - crash  (08:26)\nreboot   system boot  5.3.0-3-amd64    Sat Jul 18 17:19 - 23:10  (05:51)\nulysses  tty1         :0               Sat Jul 18 09:04 - 09:18  (00:14)\nreboot   system boot  5.3.0-3-amd64    Sat Jul 18 17:03 - 09:18  (-7:44)\nreboot   system boot  5.3.0-3-amd64    Sat Jul 18 17:02 - 09:03  (-7:59)\nulysses  tty1         :0               Sat Jul 18 08:34 - 09:02  (00:28)\nreboot   system boot  5.3.0-3-amd64    Sat Jul 18 16:34 - 09:02  (-7:31)\nulysses  tty1         :0               Fri Jul 17 22:31 - crash  (18:02)\nreboot   system boot  5.3.0-3-amd64    Sat Jul 18 06:31 - 09:02  (02:30)\nulysses  tty1         :0               Fri Jul 17 19:46 - crash  (10:45)\nreboot   system boot  5.3.0-3-amd64    Sat Jul 18 03:45 - 09:02  (05:16)\nroot     tty2                          Fri Jul 17 19:27 - crash  (08:18)\nulysses  tty1         :0               Fri Jul 17 19:14 - crash  (08:31)\nreboot   system boot  5.3.0-3-amd64    Sat Jul 18 03:13 - 09:02  (05:48)\nulysses  tty1         :0               Fri Jul 17 18:50 - crash  (08:23)\nreboot   system boot  5.3.0-3-amd64    Sat Jul 18 02:49 - 09:02  (06:12)\nreboot   system boot  5.3.0-3-amd64    Sat Jul 18 02:48 - 18:49  (-7:59)\nroot     tty2                          Fri Jul 17 18:29 - crash  (08:19)\nulysses  tty1         :0               Fri Jul 17 18:24 - 18:47  (00:23)\nreboot   system boot  5.3.0-3-amd64    Sat Jul 18 02:08 - 18:49  (-7:19)\nroot     tty2                          Fri Jul 17 18:02 - crash  (08:05)\nulysses  tty1         :0               Fri Jul 17 17:59 - crash  (08:09)\nreboot   system boot  5.3.0-3-amd64    Sat Jul 18 01:58 - 18:49  (-7:09)\nroot     tty2                          Fri Jul 17 17:48 - crash  (08:09)\nulysses  tty1         :0               Fri Jul 17 17:48 - crash  (08:10)\nreboot   system boot  5.3.0-3-amd64    Sat Jul 18 01:48 - 18:49  (-6:59)\nroot     tty2                          Fri Jul 17 17:45 - crash  (08:03)\nulysses  tty1         :0               Fri Jul 17 17:29 - 17:47  (00:18)\nreboot   system boot  5.3.0-3-amd64    Sat Jul 18 01:29 - 18:49  (-6:39)\nroot     tty2                          Fri Jul 17 17:21 - crash  (08:07)\nulysses  tty1         :0               Fri Jul 17 17:20 - crash  (08:09)\nreboot   system boot  5.3.0-3-amd64    Sat Jul 18 01:19 - 18:49  (-6:30)\nulysses  tty1         :0               Fri Jul 17 15:12 - crash  (10:07)\nreboot   system boot  5.3.0-3-amd64    Fri Jul 17 23:12 - 18:49  (-4:22)\nroot     tty2                          Fri Jul 17 15:04 - crash  (08:08)\nulysses  tty1         :0               Fri Jul 17 15:03 - crash  (08:08)\nreboot   system boot  5.3.0-3-amd64    Fri Jul 17 23:03 - 18:49  (-4:14)\nreboot   system boot  5.3.0-3-amd64    Fri Jul 17 23:02 - 15:03  (-7:59)\nroot     tty2                          Fri Jul 17 14:43 - crash  (08:18)\nulysses  tty1         :0               Fri Jul 17 14:42 - crash  (08:19)\nreboot   system boot  5.3.0-3-amd64    Fri Jul 17 22:42 - 15:03  (-7:39)\nulysses  tty1         :0               Fri Jul 17 14:22 - crash  (08:19)\nreboot   system boot  5.3.0-3-amd64    Fri Jul 17 22:22 - 15:03  (-7:19)\nulysses  tty1         :0               Fri Jul 17 13:57 - crash  (08:25)\nreboot   system boot  5.3.0-3-amd64    Fri Jul 17 21:57 - 15:03  (-6:53)\nulysses  tty1         :0               Fri Jul 17 13:38 - crash  (08:18)\nreboot   system boot  5.3.0-3-amd64    Fri Jul 17 21:38 - 15:03  (-6:34)\nulysses  tty1         :0               Fri Jul 17 12:39 - crash  (08:58)\nreboot   system boot  5.3.0-3-amd64    Fri Jul 17 20:39 - 15:03  (-5:36)\nulysses  tty1         :0               Fri Jul 17 12:16 - crash  (08:23)\nreboot   system boot  5.3.0-3-amd64    Fri Jul 17 20:15 - 15:03  (-5:12)\nreboot   system boot  5.3.0-3-amd64    Fri Jul 17 20:14 - 12:15  (-7:59)\nulysses  tty1         :0               Fri Jul 17 12:01 - 12:13  (00:12)\nreboot   system boot  5.3.0-3-amd64    Fri Jul 17 20:01 - 12:15  (-7:45)\nulysses  tty1         :0               Fri Jul 17 11:30 - 11:59  (00:28)\nreboot   system boot  5.3.0-3-amd64    Fri Jul 17 19:30 - 12:15  (-7:15)\nulysses  tty1         :0               Fri Jul 17 10:51 - 11:26  (00:34)\nreboot   system boot  5.3.0-3-amd64    Fri Jul 17 18:49 - 12:15  (-6:34)\nulysses  tty1         :0               Fri Jul 17 07:52 - crash  (10:57)\nreboot   system boot  5.3.0-3-amd64    Fri Jul 17 15:52 - 12:15  (-3:37)\nulysses  tty1         :0               Thu Jul 16 08:41 - 22:16  (13:35)\nreboot   system boot  5.3.0-3-amd64    Thu Jul 16 16:40 - 22:16  (05:35)\nulysses  tty1         :0               Thu Jul 16 07:50 - crash  (08:50)\nreboot   system boot  5.3.0-3-amd64    Thu Jul 16 15:49 - 22:16  (06:26)\nulysses  tty1         :0               Wed Jul 15 21:05 - 23:02  (01:56)\nreboot   system boot  5.3.0-3-amd64    Thu Jul 16 05:05 - 23:02  (-6:03)\nulysses  tty1         :0               Wed Jul 15 10:49 - crash  (18:16)\nreboot   system boot  5.3.0-3-amd64    Wed Jul 15 18:48 - 23:02  (04:13)\nulysses  tty1         :0               Wed Jul 15 07:26 - crash  (11:22)\nreboot   system boot  5.3.0-3-amd64    Wed Jul 15 15:25 - 23:02  (07:36)\nulysses  tty1         :0               Tue Jul 14 07:22 - 23:15  (15:53)\nreboot   system boot  5.3.0-3-amd64    Tue Jul 14 15:21 - 23:15  (07:53)\nulysses  tty1         :0               Mon Jul 13 16:10 - 23:07  (06:56)\nreboot   system boot  5.3.0-3-amd64    Tue Jul 14 00:10 - 23:07  (-1:02)\nulysses  tty1         :0               Mon Jul 13 07:17 - 16:08  (08:51)\nreboot   system boot  5.3.0-3-amd64    Mon Jul 13 15:16 - 23:07  (07:51)\nulysses  tty1         :0               Sun Jul 12 07:39 - 23:04  (15:25)\nreboot   system boot  5.3.0-3-amd64    Sun Jul 12 15:38 - 23:04  (07:26)\nulysses  tty1         :0               Sat Jul 11 15:10 - 22:06  (06:55)\nreboot   system boot  5.3.0-3-amd64    Sat Jul 11 23:10 - 22:06  (-1:04)\nulysses  tty1         :0               Sat Jul 11 09:16 - 15:09  (05:52)\nreboot   system boot  5.3.0-3-amd64    Sat Jul 11 17:16 - 22:06  (04:49)\nulysses  tty1         :0               Fri Jul 10 17:03 - 23:03  (05:59)\nreboot   system boot  5.3.0-3-amd64    Sat Jul 11 00:11 - 23:03  (-1:07)\nulysses  tty1         :0               Fri Jul 10 13:41 - 17:03  (03:22)\nreboot   system boot  5.3.0-3-amd64    Fri Jul 10 20:46 - 17:03  (-3:43)\nulysses  tty1         :0               Fri Jul 10 12:24 - 13:41  (01:17)\nreboot   system boot  5.3.0-3-amd64    Fri Jul 10 19:22 - 13:41  (-5:41)\nulysses  tty1         :0               Fri Jul 10 11:14 - 12:23  (01:09)\nreboot   system boot  5.3.0-3-amd64    Fri Jul 10 18:17 - 12:23  (-5:53)\nulysses  tty1         :0               Fri Jul 10 10:47 - 11:13  (00:26)\nreboot   system boot  5.3.0-3-amd64    Fri Jul 10 17:44 - 11:14  (-6:30)\n\nwtmp begins Fri Jul 10 17:44:52 2020\n"
    }
   ],
   "source": [
    "# 用户登录信息\n",
    "!last"
   ]
  },
  {
   "cell_type": "code",
   "execution_count": 39,
   "metadata": {
    "tags": []
   },
   "outputs": [
    {
     "output_type": "stream",
     "name": "stdout",
     "text": "用户名           端口     来自             最后登陆时间\nroot             tty2                      日 7月 19 13:02:47 +0800 2020\ndaemon                                     **从未登录过**\nbin                                        **从未登录过**\nsys                                        **从未登录过**\nsync                                       **从未登录过**\ngames                                      **从未登录过**\nman                                        **从未登录过**\nlp                                         **从未登录过**\nmail                                       **从未登录过**\nnews                                       **从未登录过**\nuucp                                       **从未登录过**\nproxy                                      **从未登录过**\nwww-data                                   **从未登录过**\nbackup                                     **从未登录过**\nlist                                       **从未登录过**\nirc                                        **从未登录过**\ngnats                                      **从未登录过**\nnobody                                     **从未登录过**\nsystemd-timesync                           **从未登录过**\nsystemd-network                            **从未登录过**\nsystemd-resolve                            **从未登录过**\nmessagebus                                 **从未登录过**\n_apt                                       **从未登录过**\nsstpc                                      **从未登录过**\ndnsmasq                                    **从未登录过**\nstrongswan                                 **从未登录过**\ntss                                        **从未登录过**\nusbmux                                     **从未登录过**\nsshd                                       **从未登录过**\ndeepin-anything-server                           **从未登录过**\nnm-openvpn                                 **从未登录过**\nnm-openconnect                             **从未登录过**\npulse                                      **从未登录过**\nhplip                                      **从未登录过**\ngeoclue                                    **从未登录过**\ndeepin-user-experience                           **从未登录过**\nlightdm                                    **从未登录过**\ndeepin-sound-player                           **从未登录过**\nsystemd-coredump                           **从未登录过**\nulysses                                    **从未登录过**\nuuidd                                      **从未登录过**\nmysql                                      **从未登录过**\n"
    }
   ],
   "source": [
    "# 用户最后一次登录\n",
    "!lastlog"
   ]
  },
  {
   "cell_type": "code",
   "execution_count": 41,
   "metadata": {
    "tags": []
   },
   "outputs": [
    {
     "output_type": "stream",
     "name": "stdout",
     "text": "traceroute to www.baidu.com (36.152.44.96), 30 hops max, 60 byte packets\n 1  192.168.0.1 (192.168.0.1)  0.107 ms  0.088 ms  0.097 ms\n 2  192.168.1.1 (192.168.1.1)  0.424 ms  0.630 ms  0.721 ms\n 3  10.103.128.1 (10.103.128.1)  5.757 ms  5.841 ms  5.876 ms\n 4  221.131.254.57 (221.131.254.57)  23.960 ms  24.044 ms  24.084 ms\n 5  221.183.76.201 (221.183.76.201)  6.134 ms 221.183.64.53 (221.183.64.53)  6.291 ms  6.504 ms\n 6  221.183.42.129 (221.183.42.129)  14.745 ms  13.140 ms  13.214 ms\n 7  221.183.59.54 (221.183.59.54)  13.389 ms  22.696 ms  18.954 ms\n 8  130.23.207.183.static.js.chinamobile.com (183.207.23.130)  10.941 ms 118.23.207.183.static.js.chinamobile.com (183.207.23.118)  10.774 ms 110.23.207.183.static.js.chinamobile.com (183.207.23.110)  10.864 ms\n 9  * 182.61.253.214 (182.61.253.214)  12.694 ms  12.727 ms\n10  * * *\n11  * * *\n12  * * *\n13  * * *\n14  * * *\n15  * * *\n16  * * *\n17  * * *\n18  * * *\n19  * * *\n20  * * *\n21  * * *\n22  * * *\n23  * * *\n24  * * *\n25  * * *\n26  * * *\n27  * * *\n28  * *^C\n"
    }
   ],
   "source": [
    "# 显示数据包到主机间的路径\n",
    "!traceroute www.baidu.com"
   ]
  },
  {
   "cell_type": "code",
   "execution_count": 43,
   "metadata": {
    "tags": []
   },
   "outputs": [
    {
     "output_type": "stream",
     "name": "stdout",
     "text": "\u001b[;1m# \u001b[0m\u001b[0m\u001b[93mnetstat\u001b[0m\u001b[37m\n\n查看 Linux 中网络系统状态信息\n\n\u001b[;1m## \u001b[0m 补充说明\n\n\u001b[0m\u001b[93mnetstat\u001b[0m\u001b[37m 命令 用来打印 Linux 中网络系统的状态信息，可让你得知整个\nLinux 系统的网络情况。\n\n\u001b[;1m### \u001b[0m 语法\n\n\u001b[0m\u001b[93mnetstat\u001b[0m\u001b[37m(选项)\n\n\u001b[;1m### \u001b[0m 选项\n\n-a 或--all：显示所有连线中的 Socket；\n-A<网络类型>或--<网络类型>：列出该网络类型连线中的相关地址；\n-c 或--continuous：持续列出网络状态；\n-C 或--cache：显示路由器配置的快取信息；\n-e 或--extend：显示网络其他相关信息；\n-F 或--fib：显示 FIB；\n-g 或--groups：显示多重广播功能群组组员名单；\n-h 或--help：在线帮助；\n-i 或--interfaces：显示网络界面信息表单；\n-l 或--listening：显示监控中的服务器的 Socket；\n-M 或--masquerade：显示伪装的网络连线；\n-n 或--numeric：直接使用 ip 地址，而不通过域名服务器；\n-N 或--netlink 或--\nsymbolic：显示网络硬件外围设备的符号连接名称；\n-o 或--timers：显示计时器；\n-p 或--programs：显示正在使用 Socket\n的程序识别码和程序名称；\n-r 或--route：显示 Routing Table；\n-s 或--statistice：显示网络工作信息统计表；\n-t 或--tcp：显示 TCP 传输协议的连线状况；\n-u 或--udp：显示 UDP 传输协议的连线状况；\n-v 或--verbose：显示指令执行过程；\n-V 或--version：显示版本信息；\n-w 或--raw：显示 RAW 传输协议的连线状况；\n-x 或--unix：此参数的效果和指定\"-A unix\"参数相同；\n--ip 或--inet：此参数的效果和指定\"-A inet\"参数相同。\n\n\u001b[;1m### \u001b[0m 实例\n\n列出所有端口 (包括监听和未监听的)\n\n\u001b[0m\u001b[93mnetstat\u001b[0m\u001b[37m -a     #列出所有端口\n\u001b[0m\u001b[93mnetstat\u001b[0m\u001b[37m -at    #列出所有 tcp 端口\n\u001b[0m\u001b[93mnetstat\u001b[0m\u001b[37m -au    #列出所有 udp 端口\n\n列出所有处于监听状态的 Sockets\n\n\u001b[0m\u001b[93mnetstat\u001b[0m\u001b[37m -l        #只显示监听端口\n\u001b[0m\u001b[93mnetstat\u001b[0m\u001b[37m -lt       #只列出所有监听 tcp 端口\n\u001b[0m\u001b[93mnetstat\u001b[0m\u001b[37m -lu       #只列出所有监听 udp 端口\n\u001b[0m\u001b[93mnetstat\u001b[0m\u001b[37m -lx       #只列出所有监听 UNIX 端口\n\n显示每个协议的统计信息\n\n\u001b[0m\u001b[93mnetstat\u001b[0m\u001b[37m -s   显示所有端口的统计信息\n\u001b[0m\u001b[93mnetstat\u001b[0m\u001b[37m -st   显示 TCP 端口的统计信息\n\u001b[0m\u001b[93mnetstat\u001b[0m\u001b[37m -su   显示 UDP 端口的统计信息\n\n```shell\n\n **在 \u001b[0m\u001b[93mnetstat\u001b[0m\u001b[37m 输出中显示 PID 和进程名称**\n\n```shell\n\u001b[0m\u001b[93mnetstat\u001b[0m\u001b[37m -pt\n\n\u001b[0m\u001b[93mnetstat\u001b[0m\u001b[37m -p 可以与其它开关一起使用，就可以添加“PID/进程名称”到\n\u001b[0m\u001b[93mnetstat\u001b[0m\u001b[37m 输出中，这样 debugging\n的时候可以很方便的发现特定端口运行的程序。\n\n在 \u001b[0m\u001b[93mnetstat\u001b[0m\u001b[37m 输出中不显示主机，端口和用户名(host, port or\nuser)\n\n当你不想让主机，端口和用户名显示，使用 \u001b[0m\u001b[93mnetstat\u001b[0m\u001b[37m\n-n。将会使用数字代替那些名称。同样可以加速输出，因为不用进行比对查询。\n\n\u001b[0m\u001b[93mnetstat\u001b[0m\u001b[37m -an\n\n如果只是不想让这三个名称中的一个被显示，使用以下命令:\n\nnetsat -a --numeric-ports\nnetsat -a --numeric-hosts\nnetsat -a --numeric-users\n\n持续输出 \u001b[0m\u001b[93mnetstat\u001b[0m\u001b[37m 信息\n\n\u001b[0m\u001b[93mnetstat\u001b[0m\u001b[37m -c   #每隔一秒输出网络信息\n\n显示系统不支持的地址族(Address Families)\n\n\u001b[0m\u001b[93mnetstat\u001b[0m\u001b[37m --verbose\n\n在输出的末尾，会有如下的信息：\n\n\u001b[0m\u001b[93mnetstat\u001b[0m\u001b[37m: no support for `AF IPX' on this\nsystem.\n\u001b[0m\u001b[93mnetstat\u001b[0m\u001b[37m: no support for `AF AX25' on\nthis system.\n\u001b[0m\u001b[93mnetstat\u001b[0m\u001b[37m: no support for `AF X25' on this\nsystem.\n\u001b[0m\u001b[93mnetstat\u001b[0m\u001b[37m: no support for `AF NETROM' on\nthis system.\n\n显示核心路由信息\n\n\u001b[0m\u001b[93mnetstat\u001b[0m\u001b[37m -r\n\n使用 \u001b[0m\u001b[93mnetstat\u001b[0m\u001b[37m -rn 显示数字格式，不查询主机名称。\n\n找出程序运行的端口\n\n并不是所有的进程都能找到，没有权限的会不显示，使用 root\n权限查看所有的信息。\n\n\u001b[0m\u001b[93mnetstat\u001b[0m\u001b[37m -ap | grep ssh\n\n找出运行在指定端口的进程：\n\n\u001b[0m\u001b[93mnetstat\u001b[0m\u001b[37m -an | grep ':80'\n\n通过端口找进程 ID\n\n\u001b[0m\u001b[93mnetstat\u001b[0m\u001b[37m -anp|grep 8081 | grep LISTEN|awk\n'{printf $7}'|cut -d/ -f1\n\n显示网络接口列表\n\n\u001b[0m\u001b[93mnetstat\u001b[0m\u001b[37m -i\n\n显示详细信息，像是 ifconfig 使用 \u001b[0m\u001b[93mnetstat\u001b[0m\u001b[37m -ie。\n\nIP 和 TCP 分析\n\n查看连接某服务端口最多的的 IP 地址：\n\n\u001b[0m\u001b[93mnetstat\u001b[0m\u001b[37m -ntu | grep :80 | awk '{print\n$5}' | cut -d: -f1 | awk '{++ip[$1]} END\n{for(i in ip) print ip[i],\"\\t\",i}' |\nsort -nr\n\nTCP 各种状态列表：\n\n\u001b[0m\u001b[93mnetstat\u001b[0m\u001b[37m -nt | grep -e 127.0.0.1 -e\n0.0.0.0 -e ::: -v | awk '/^tcp/\n{++state[$NF]} END {for(i in state)\nprint i,\"\\t\",state[i]}'\n\n查看 phpcgi 进程数，如果接近预设值，说明不够用，需要增加：\n\n\u001b[0m\u001b[93mnetstat\u001b[0m\u001b[37m -anpo | grep \"php-cgi\" | wc -l\n\n"
    }
   ],
   "source": [
    "!how netstat"
   ]
  },
  {
   "cell_type": "markdown",
   "metadata": {},
   "source": [
    "-a:  所有  \n",
    "-t:  TCP  \n",
    "-u:  UDP  \n",
    "-l:  监听  \n",
    "-r:  路由  \n",
    "-n: 显示ip地址和端口号 "
   ]
  },
  {
   "cell_type": "code",
   "execution_count": 44,
   "metadata": {
    "tags": []
   },
   "outputs": [
    {
     "output_type": "stream",
     "name": "stdout",
     "text": "Active Internet connections (only servers)\nProto Recv-Q Send-Q Local Address           Foreign Address         State      \ntcp        0      0 127.0.0.1:9003          0.0.0.0:*               LISTEN     \ntcp        0      0 0.0.0.0:139             0.0.0.0:*               LISTEN     \ntcp        0      0 127.0.0.1:9004          0.0.0.0:*               LISTEN     \ntcp        0      0 127.0.0.1:9005          0.0.0.0:*               LISTEN     \ntcp        0      0 127.0.0.1:43629         0.0.0.0:*               LISTEN     \ntcp        0      0 127.0.0.1:9006          0.0.0.0:*               LISTEN     \ntcp        0      0 127.0.0.1:9007          0.0.0.0:*               LISTEN     \ntcp        0      0 127.0.0.1:9008          0.0.0.0:*               LISTEN     \ntcp        0      0 127.0.0.1:9009          0.0.0.0:*               LISTEN     \ntcp        0      0 0.0.0.0:22              0.0.0.0:*               LISTEN     \ntcp        0      0 127.0.0.1:631           0.0.0.0:*               LISTEN     \ntcp        0      0 127.0.0.1:39065         0.0.0.0:*               LISTEN     \ntcp        0      0 0.0.0.0:445             0.0.0.0:*               LISTEN     \ntcp        0      0 127.0.0.1:9000          0.0.0.0:*               LISTEN     \ntcp        0      0 127.0.0.1:9001          0.0.0.0:*               LISTEN     \ntcp        0      0 127.0.0.1:9002          0.0.0.0:*               LISTEN     \ntcp        0      0 127.0.0.1:3306          0.0.0.0:*               LISTEN     \ntcp6       0      0 :::139                  :::*                    LISTEN     \ntcp6       0      0 :::22                   :::*                    LISTEN     \ntcp6       0      0 ::1:631                 :::*                    LISTEN     \ntcp6       0      0 :::445                  :::*                    LISTEN     \nudp        0      0 224.0.0.251:5353        0.0.0.0:*                          \nudp        0      0 224.0.0.251:5353        0.0.0.0:*                          \nudp        0      0 0.0.0.0:68              0.0.0.0:*                          \nudp        0      0 172.18.255.255:137      0.0.0.0:*                          \nudp        0      0 172.18.0.1:137          0.0.0.0:*                          \nudp        0      0 172.17.255.255:137      0.0.0.0:*                          \nudp        0      0 172.17.0.1:137          0.0.0.0:*                          \nudp        0      0 192.168.0.255:137       0.0.0.0:*                          \nudp        0      0 192.168.0.101:137       0.0.0.0:*                          \nudp        0      0 0.0.0.0:137             0.0.0.0:*                          \nudp        0      0 172.18.255.255:138      0.0.0.0:*                          \nudp        0      0 172.18.0.1:138          0.0.0.0:*                          \nudp        0      0 172.17.255.255:138      0.0.0.0:*                          \nudp        0      0 172.17.0.1:138          0.0.0.0:*                          \nudp        0      0 192.168.0.255:138       0.0.0.0:*                          \nudp        0      0 192.168.0.101:138       0.0.0.0:*                          \nudp        0      0 0.0.0.0:138             0.0.0.0:*                          \n"
    }
   ],
   "source": [
    "# 本机监听的端口\n",
    "!netstat -tuln"
   ]
  },
  {
   "cell_type": "code",
   "execution_count": 47,
   "metadata": {
    "tags": []
   },
   "outputs": [],
   "source": [
    "# 查看所有 监听信息 正在连接的\n",
    "!netstat -an"
   ]
  },
  {
   "cell_type": "code",
   "execution_count": 48,
   "metadata": {
    "tags": []
   },
   "outputs": [
    {
     "output_type": "stream",
     "name": "stdout",
     "text": "Kernel IP routing table\nDestination     Gateway         Genmask         Flags   MSS Window  irtt Iface\n0.0.0.0         192.168.0.1     0.0.0.0         UG        0 0          0 enp3s0\n172.17.0.0      0.0.0.0         255.255.0.0     U         0 0          0 docker0\n172.18.0.0      0.0.0.0         255.255.0.0     U         0 0          0 br-d07a78ed9e54\n192.168.0.0     0.0.0.0         255.255.255.0   U         0 0          0 enp3s0\n"
    }
   ],
   "source": [
    "# 查询路由列表\n",
    "!netstat -rn"
   ]
  },
  {
   "cell_type": "code",
   "execution_count": 50,
   "metadata": {
    "tags": []
   },
   "outputs": [
    {
     "output_type": "stream",
     "name": "stdout",
     "text": "\u001b[;1m# \u001b[0m\u001b[0m\u001b[93mmount\u001b[0m\u001b[37m\n\n用于挂载 Linux 系统外的文件\n\n\u001b[;1m## \u001b[0m 补充说明\n\n\u001b[0m\u001b[93mmount\u001b[0m\u001b[37m 命令 Linux \u001b[0m\u001b[93mmount\u001b[0m\u001b[37m 命令是经常会使用到的命令，它用于挂载\nLinux 系统外的文件。\n\n\u001b[;1m### \u001b[0m 语法\n\n\u001b[0m\u001b[93mmount\u001b[0m\u001b[37m [-hV]\n\u001b[0m\u001b[93mmount\u001b[0m\u001b[37m -a [-fFnrsvw] [-t vfstype]\n\u001b[0m\u001b[93mmount\u001b[0m\u001b[37m [-fnrsvw] [-o options [,...]]\ndevice | dir\n\u001b[0m\u001b[93mmount\u001b[0m\u001b[37m [-fnrsvw] [-t vfstype] [-o\noptions] device dir\n\n\u001b[;1m### \u001b[0m 选项\n\n-V：显示程序版本\n-h：显示辅助讯息\n-v：显示较讯息，通常和 -f 用来除错。\n-a：将 /etc/fstab 中定义的所有档案系统挂上。\n-F：这个命令通常和 -a 一起使用，它会为每一个 \u001b[0m\u001b[93mmount\u001b[0m\u001b[37m\n的动作产生一个行程负责执行。在系统需要挂上大量 NFS\n档案系统时可以加快挂上的动作。\n-f：通常用在除错的用途。它会使 \u001b[0m\u001b[93mmount\u001b[0m\u001b[37m\n并不执行实际挂上的动作，而是模拟整个挂上的过程。通常会和 -v 一起使用。\n-n：一般而言，\u001b[0m\u001b[93mmount\u001b[0m\u001b[37m 在挂上后会在 /etc/mtab 中写入一笔资料。但\n在系统中没有可写入档案系统存在的情况下可以用这个选项取消这个动作。\n-s-r：等于 -o ro\n-w：等于 -o rw\n-L：将含有特定标签的硬盘分割挂上。\n-U：将档案分割序号为 的档案系统挂下。-L 和 -U\n必须在/proc/partition 这种档案存在时才有意义。\n-t：指定档案系统的型态，通常不必指定。\u001b[0m\u001b[93mmount\u001b[0m\u001b[37m 会自动选择正确的型态。\n-o async：打开非同步模式，所有的档案读写动作都会用非同步模式执行。\n-o sync：在同步模式下执行。\n-o atime、-o noatime：当 atime\n打开时，系统会在每次读取档案时更新档案的『上一次调用时间』。当我们使用\nflash 档案系统时可能会选项把这个选项关闭以减少写入的次数。\n-o auto、-o noauto：打开/关闭自动挂上模式。\n-o defaults:使用预设的选项 rw, suid, dev, exec,\nauto, nouser, and async.\n-o dev、-o nodev-o exec、-o noexec\n允许执行档被执行。\n-o suid、-o nosuid：\n允许执行档在 root 权限下执行。\n-o user、-o nouser：使用者可以执行 \u001b[0m\u001b[93mmount\u001b[0m\u001b[37m/u\u001b[0m\u001b[93mmount\u001b[0m\u001b[37m\n的动作。\n-o re\u001b[0m\u001b[93mmount\u001b[0m\u001b[37m：将一个已经挂下的档案系统重新用不同的方式挂上。例如原先是唯\n读的系统，现在用可读写的模式重新挂上。\n-o ro：用唯读模式挂上。\n-o rw：用可读写模式挂上。\n-o loop=：使用 loop 模式用来将一个档案当成硬盘分割挂上系统。\n\n\u001b[;1m### \u001b[0m 实例\n\n将 /dev/hda1 挂在 /mnt 之下。\n\n#\u001b[0m\u001b[93mmount\u001b[0m\u001b[37m /dev/hda1 /mnt\n\n将 /dev/hda1 用唯读模式挂在 /mnt 之下。\n\n#\u001b[0m\u001b[93mmount\u001b[0m\u001b[37m -o ro /dev/hda1 /mnt\n\n将 /tmp/image.iso 这个光碟的 image 档使用 loop\n模式挂在 /mnt/cdrom 之下。用这种方法可以将一般网络上可以找到的\nLinux 光 碟 ISO 档在不烧录成光碟的情况下检视其内容。\n\n#\u001b[0m\u001b[93mmount\u001b[0m\u001b[37m -o loop /tmp/image.iso /mnt/cdrom\n\n"
    }
   ],
   "source": [
    "# 挂载\n",
    "!how mount"
   ]
  },
  {
   "cell_type": "code",
   "execution_count": 51,
   "metadata": {
    "tags": []
   },
   "outputs": [
    {
     "output_type": "stream",
     "name": "stdout",
     "text": "\u001b[;1m# \u001b[0m\u001b[0m\u001b[93mshutdown\u001b[0m\u001b[37m\n\n用来执行系统关机的命令\n\n\u001b[;1m## \u001b[0m 补充说明\n\n\u001b[0m\u001b[93mshutdown\u001b[0m\u001b[37m 命令 用来系统关机命令。\u001b[0m\u001b[93mshutdown\u001b[0m\u001b[37m\n指令可以关闭所有程序，并依用户的需要，进行重新开机或关机的动作。\n\n\u001b[;1m### \u001b[0m 语法\n\n\u001b[0m\u001b[93mshutdown\u001b[0m\u001b[37m(选项)(参数)\n\n\u001b[;1m### \u001b[0m 选项\n\n-c：当执行“\u001b[0m\u001b[93mshutdown\u001b[0m\u001b[37m -h\n11:50”指令时，只要按+键就可以中断关机的指令；\n-f：重新启动时不执行 fsck；\n-F：重新启动时执行 fsck；\n-h：将系统关机；\n-k：只是送出信息给所有用户，但不会实际关机；\n-n：不调用 init 程序进行关机，而由 \u001b[0m\u001b[93mshutdown\u001b[0m\u001b[37m 自己进行；\n-r：\u001b[0m\u001b[93mshutdown\u001b[0m\u001b[37m 之后重新启动；\n-t<秒数>：送出警告信息和删除信息之间要延迟多少秒。\n\n\u001b[;1m### \u001b[0m 参数\n\n- [时间]：设置多久时间后执行 \u001b[0m\u001b[93mshutdown\u001b[0m\u001b[37m 指令；\n- [警告信息]：要传送给所有登入用户的信息。\n\n\u001b[;1m### \u001b[0m 实例\n\n指定现在立即关机：\n\n\u001b[0m\u001b[93mshutdown\u001b[0m\u001b[37m -h now\n\n指定 5 分钟后关机，同时送出警告信息给登入用户：\n\n\u001b[0m\u001b[93mshutdown\u001b[0m\u001b[37m +5 \"System will \u001b[0m\u001b[93mshutdown\u001b[0m\u001b[37m after\n5 minutes\"\n\n"
    }
   ],
   "source": [
    "!how shutdown"
   ]
  },
  {
   "cell_type": "code",
   "execution_count": null,
   "metadata": {},
   "outputs": [],
   "source": [
    "shutdown -h now  关机\n",
    "shutdown -r now  重启\n",
    "shutdown -c 取消关机命令"
   ]
  },
  {
   "cell_type": "code",
   "execution_count": null,
   "metadata": {},
   "outputs": [],
   "source": [
    "reboot\n",
    "init 6"
   ]
  },
  {
   "cell_type": "code",
   "execution_count": 52,
   "metadata": {},
   "outputs": [
    {
     "output_type": "error",
     "ename": "SyntaxError",
     "evalue": "invalid syntax (<ipython-input-52-352b8c7a0279>, line 3)",
     "traceback": [
      "\u001b[0;36m  File \u001b[0;32m\"<ipython-input-52-352b8c7a0279>\"\u001b[0;36m, line \u001b[0;32m3\u001b[0m\n\u001b[0;31m    init 0\u001b[0m\n\u001b[0m         ^\u001b[0m\n\u001b[0;31mSyntaxError\u001b[0m\u001b[0;31m:\u001b[0m invalid syntax\n"
     ]
    }
   ],
   "source": [
    "halt\n",
    "poweroff\n",
    "init 0"
   ]
  },
  {
   "cell_type": "markdown",
   "metadata": {},
   "source": [
    "运行级别\n",
    "\n",
    "- 0 关机\n",
    "- 1 单用户 root\n",
    "- 2 不完全多用户  不含NFS服务\n",
    "- 3 完全多用户\n",
    "- 4 未分配\n",
    "- 5 图像界面\n",
    "- 6 重启"
   ]
  },
  {
   "cell_type": "code",
   "execution_count": 54,
   "metadata": {
    "tags": []
   },
   "outputs": [
    {
     "output_type": "stream",
     "name": "stdout",
     "text": "N 5\n"
    }
   ],
   "source": [
    "!runlevel"
   ]
  },
  {
   "cell_type": "code",
   "execution_count": null,
   "metadata": {},
   "outputs": [],
   "source": [
    "# 退出登录\n",
    "logout "
   ]
  },
  {
   "cell_type": "code",
   "execution_count": null,
   "metadata": {},
   "outputs": [],
   "source": []
  }
 ]
}