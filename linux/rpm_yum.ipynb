{
 "metadata": {
  "language_info": {
   "codemirror_mode": {
    "name": "ipython",
    "version": 3
   },
   "file_extension": ".py",
   "mimetype": "text/x-python",
   "name": "python",
   "nbconvert_exporter": "python",
   "pygments_lexer": "ipython3",
   "version": 3
  },
  "orig_nbformat": 2
 },
 "nbformat": 4,
 "nbformat_minor": 2,
 "cells": [
  {
   "cell_type": "code",
   "execution_count": null,
   "metadata": {},
   "outputs": [],
   "source": [
    "# 安装\n",
    "rpm -ihv  包全名"
   ]
  },
  {
   "cell_type": "code",
   "execution_count": null,
   "metadata": {},
   "outputs": [],
   "source": [
    "# 卸载\n",
    "rpm -e 包名"
   ]
  },
  {
   "cell_type": "code",
   "execution_count": null,
   "metadata": {},
   "outputs": [],
   "source": [
    "# 查询\n",
    "rpm -q 包名\n",
    "# 全部包\n",
    "rpm -qa \n",
    "# 详细信息   \n",
    "rpm -qi  包名\n",
    "# 未安装的包的信息\n",
    "rpm -qip 包全名\n",
    "# 安装位置\n",
    "rpm -ql 包名\n",
    "# 查询文件属于那个包\n",
    "rpm -qf 系统文件名\n",
    "# 检查依赖性\n",
    "rpm -qRp 包全名"
   ]
  },
  {
   "cell_type": "code",
   "execution_count": null,
   "metadata": {},
   "outputs": [],
   "source": [
    "# 校验\n",
    "rpm -V 包名"
   ]
  }
 ]
}